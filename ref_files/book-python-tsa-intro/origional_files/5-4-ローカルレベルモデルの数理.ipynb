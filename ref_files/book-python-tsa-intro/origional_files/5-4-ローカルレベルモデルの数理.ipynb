{
 "cells": [
  {
   "cell_type": "markdown",
   "id": "00dff775-fdfd-408d-b602-68771ead4f92",
   "metadata": {},
   "source": [
    "# 第5部　線形ガウス状態空間モデル\n",
    "\n",
    "## 第4章　ローカルレベルモデルの数理"
   ]
  },
  {
   "cell_type": "code",
   "execution_count": 1,
   "id": "53649fc7-b1ff-42e8-9a2b-5ebde0190e5b",
   "metadata": {},
   "outputs": [],
   "source": [
    "# 数値計算に使うライブラリ\n",
    "import numpy as np\n",
    "import pandas as pd\n",
    "from scipy import stats\n",
    "\n",
    "# 統計モデルを推定するライブラリ\n",
    "import statsmodels.api as sm\n",
    "import statsmodels.tsa.api as tsa\n",
    "\n",
    "# グラフを描画するライブラリ\n",
    "from matplotlib import pylab as plt\n",
    "import seaborn as sns\n",
    "sns.set()"
   ]
  },
  {
   "cell_type": "code",
   "execution_count": 2,
   "id": "46b426bc-de46-49de-97ea-16e4705104d9",
   "metadata": {},
   "outputs": [],
   "source": [
    "# 表示設定\n",
    "np.set_printoptions(linewidth=60)\n",
    "pd.set_option('display.width', 80)\n",
    "\n",
    "from matplotlib.pylab import rcParams\n",
    "rcParams['figure.figsize'] = 8, 4"
   ]
  },
  {
   "cell_type": "markdown",
   "id": "6cf04087-d221-4498-8c62-91e829756da4",
   "metadata": {},
   "source": [
    "### statsmodelsを用いた散漫カルマンフィルタの実装"
   ]
  },
  {
   "cell_type": "markdown",
   "id": "c62d02f8-c1e9-42fb-b661-30f975e97ab2",
   "metadata": {},
   "source": [
    "#### シミュレーションデータの生成"
   ]
  },
  {
   "cell_type": "code",
   "execution_count": 3,
   "id": "1416943c-aee4-4c96-93c5-10b477ee7c66",
   "metadata": {},
   "outputs": [
    {
     "name": "stdout",
     "output_type": "stream",
     "text": [
      "2020-01-01    29.4\n",
      "2020-01-02    37.1\n",
      "2020-01-03    32.5\n",
      "Freq: D, dtype: float64\n"
     ]
    }
   ],
   "source": [
    "# 乱数の種\n",
    "np.random.seed(1)\n",
    "\n",
    "# 正規分布に従う乱数の累積和を作成し、ランダムウォーク系列を作る\n",
    "sim_size = 100\n",
    "mu = np.cumsum(stats.norm.rvs(loc=0, scale=1, size=sim_size).round(1)) + 30\n",
    "\n",
    "# 観測値の作成\n",
    "y = mu + stats.norm.rvs(loc=0, scale=5, size=sim_size).round(1)\n",
    "\n",
    "# 時系列インデックスの付与\n",
    "y_ts = pd.Series(\n",
    "    y, index=pd.date_range(start='2020-01-01', periods=sim_size, freq='D'))\n",
    "\n",
    "# 結果の確認\n",
    "print(y_ts.head(3))"
   ]
  },
  {
   "cell_type": "markdown",
   "id": "fcf24c25-5b8d-41b5-9dae-8aa5799f130c",
   "metadata": {},
   "source": [
    "#### 散漫カルマンフィルタの実装"
   ]
  },
  {
   "cell_type": "code",
   "execution_count": 4,
   "id": "e1e58481-c6fd-4e8b-a78c-fb2b0c40427c",
   "metadata": {},
   "outputs": [],
   "source": [
    "# データの格納とモデルの特定\n",
    "mod_local_level_fix = tsa.UnobservedComponents(\n",
    "    y_ts, level='local level', use_exact_diffuse=True)"
   ]
  },
  {
   "cell_type": "code",
   "execution_count": 5,
   "id": "bbac666d-c078-4cc0-a8b9-cdb2fa194176",
   "metadata": {},
   "outputs": [
    {
     "data": {
      "text/plain": [
       "array([29.4    , 33.43333, 33.07478])"
      ]
     },
     "execution_count": 5,
     "metadata": {},
     "output_type": "execute_result"
    }
   ],
   "source": [
    "# フィルタリング\n",
    "res_local_level_fix = mod_local_level_fix.filter(pd.Series(np.array([10, 1])))\n",
    "\n",
    "# フィルタ化推定量を取り出す\n",
    "np.round(res_local_level_fix.level[\"filtered\"][0:3], 5)"
   ]
  },
  {
   "cell_type": "code",
   "execution_count": 6,
   "id": "fff868b9-880c-4f77-9cb7-e4a6d60d0024",
   "metadata": {},
   "outputs": [
    {
     "data": {
      "text/plain": [
       "-321.88824"
      ]
     },
     "execution_count": 6,
     "metadata": {},
     "output_type": "execute_result"
    }
   ],
   "source": [
    "# 散漫対数尤度を取り出す\n",
    "np.round(res_local_level_fix.llf, 5)"
   ]
  },
  {
   "cell_type": "markdown",
   "id": "1952779c-f0e2-4e50-82ca-86590030a6b5",
   "metadata": {},
   "source": [
    "#### 状態が変化しない単純なモデル"
   ]
  },
  {
   "cell_type": "code",
   "execution_count": 7,
   "id": "1e915aa7-44bd-467c-9698-a5f301841e00",
   "metadata": {},
   "outputs": [
    {
     "data": {
      "text/plain": [
       "array([29.4 , 33.25, 33.  ])"
      ]
     },
     "execution_count": 7,
     "metadata": {},
     "output_type": "execute_result"
    }
   ],
   "source": [
    "# データの格納とモデルの特定\n",
    "mod_const = tsa.UnobservedComponents(\n",
    "    y_ts, level='deterministic constant', use_exact_diffuse=True)\n",
    "\n",
    "# フィルタリング\n",
    "res_const = mod_const.fit()\n",
    "\n",
    "# フィルタ化推定量を取り出す\n",
    "np.round(res_const.level[\"filtered\"][0:3], 5)"
   ]
  },
  {
   "cell_type": "code",
   "execution_count": 8,
   "id": "03e7ba17-d4f4-4187-b859-7fad53538608",
   "metadata": {},
   "outputs": [
    {
     "data": {
      "text/plain": [
       "33.25"
      ]
     },
     "execution_count": 8,
     "metadata": {},
     "output_type": "execute_result"
    }
   ],
   "source": [
    "# 2時点目までの平均\n",
    "np.mean(y_ts[0:2])"
   ]
  },
  {
   "cell_type": "code",
   "execution_count": 9,
   "id": "2f4b9b02-c03e-47c5-a6c9-5d5946703fca",
   "metadata": {},
   "outputs": [
    {
     "data": {
      "text/plain": [
       "33.0"
      ]
     },
     "execution_count": 9,
     "metadata": {},
     "output_type": "execute_result"
    }
   ],
   "source": [
    "# 3時点目までの平均\n",
    "np.mean(y_ts[0:3])"
   ]
  },
  {
   "cell_type": "code",
   "execution_count": 10,
   "id": "5029092b-235c-4cfa-b930-e9f00ef7cc3b",
   "metadata": {},
   "outputs": [
    {
     "name": "stdout",
     "output_type": "stream",
     "text": [
      "最新時点の状態 30.931\n",
      "観測値の平均値 30.931\n"
     ]
    }
   ],
   "source": [
    "print('最新時点の状態', np.round(res_const.level[\"filtered\"][-1], 5))\n",
    "print('観測値の平均値', np.round(np.mean(y_ts), 5))"
   ]
  }
 ],
 "metadata": {
  "kernelspec": {
   "display_name": "Python 3 (ipykernel)",
   "language": "python",
   "name": "python3"
  },
  "language_info": {
   "codemirror_mode": {
    "name": "ipython",
    "version": 3
   },
   "file_extension": ".py",
   "mimetype": "text/x-python",
   "name": "python",
   "nbconvert_exporter": "python",
   "pygments_lexer": "ipython3",
   "version": "3.12.4"
  }
 },
 "nbformat": 4,
 "nbformat_minor": 5
}
