{
 "cells": [
  {
   "cell_type": "markdown",
   "id": "b1e6d6cf-719e-48d0-b057-86e987dbd838",
   "metadata": {},
   "source": [
    "# 第3部　基本的な時系列予測の手法\n",
    "\n",
    "## 第1章　単純な時系列予測の手法"
   ]
  },
  {
   "cell_type": "markdown",
   "id": "c946caea-ec15-43d2-8990-9b3a5e79099b",
   "metadata": {},
   "source": [
    "### 分析の準備"
   ]
  },
  {
   "cell_type": "code",
   "execution_count": 1,
   "id": "ef0437fe-8f1e-405e-a26d-56e8c4739e60",
   "metadata": {},
   "outputs": [],
   "source": [
    "# 数値計算に使うライブラリ\n",
    "import numpy as np\n",
    "import pandas as pd\n",
    "\n",
    "# グラフを描画するライブラリ\n",
    "from matplotlib import pyplot as plt\n",
    "import matplotlib.dates as mdates\n",
    "import seaborn as sns\n",
    "sns.set()\n",
    "\n",
    "# 統計モデルを推定するライブラリ\n",
    "import statsmodels.api as sm\n",
    "import statsmodels.formula.api as smf\n",
    "\n",
    "# 予測の評価指標\n",
    "from sktime.performance_metrics.forecasting import (\n",
    "    mean_absolute_scaled_error, mean_squared_error,\n",
    "    mean_absolute_percentage_error, mean_absolute_error\n",
    ")\n",
    "\n",
    "# グラフの日本語表記\n",
    "from matplotlib import rcParams\n",
    "rcParams['font.family'] = 'sans-serif'\n",
    "rcParams['font.sans-serif'] = 'Meiryo'"
   ]
  },
  {
   "cell_type": "code",
   "execution_count": 2,
   "id": "b82f8bd3-1c59-4343-adf8-50576b7aca1e",
   "metadata": {},
   "outputs": [],
   "source": [
    "# 表示設定\n",
    "np.set_printoptions(linewidth=60)\n",
    "pd.set_option('display.width', 60)\n",
    "\n",
    "from matplotlib.pylab import rcParams\n",
    "rcParams['figure.figsize'] = 8, 4"
   ]
  },
  {
   "cell_type": "code",
   "execution_count": 3,
   "id": "4e348a35-cd1f-4d5a-b7ac-a37f978ceae0",
   "metadata": {},
   "outputs": [],
   "source": [
    "# 飛行機乗客数データの読み込み\n",
    "air_passengers = sm.datasets.get_rdataset(\"AirPassengers\").data\n",
    "\n",
    "# 日付インデックスの作成\n",
    "air_passengers.index = pd.date_range(\n",
    "    start='1949-01-01', periods=len(air_passengers), freq='MS')\n",
    "\n",
    "# 不要な時間ラベルの削除\n",
    "air_passengers = air_passengers.drop(air_passengers.columns[0], axis=1)"
   ]
  },
  {
   "cell_type": "markdown",
   "id": "b273a3a7-6337-42a2-be3f-02efce5d2ac7",
   "metadata": {},
   "source": [
    "### データの分割"
   ]
  },
  {
   "cell_type": "code",
   "execution_count": 4,
   "id": "c99ac143-33ca-490a-9fd8-700052119e89",
   "metadata": {},
   "outputs": [],
   "source": [
    "# 訓練データとテストデータに分割する\n",
    "train = air_passengers.loc['1949-01':'1957-12']\n",
    "test =  air_passengers.loc['1958-01':'1960-12']"
   ]
  },
  {
   "cell_type": "markdown",
   "id": "88f94d6d-7493-4bdf-8ad2-5806d5a15dbe",
   "metadata": {},
   "source": [
    "### 持続予測(ナイーブ予測)"
   ]
  },
  {
   "cell_type": "code",
   "execution_count": 5,
   "id": "4d298c95-3fa8-4e2e-a54a-77f39d6c40cf",
   "metadata": {},
   "outputs": [
    {
     "name": "stdout",
     "output_type": "stream",
     "text": [
      "            value\n",
      "1958-01-01    336\n",
      "1958-02-01    336\n",
      "1958-03-01    336\n"
     ]
    }
   ],
   "source": [
    "# 最後の観測値をテストデータの件数だけ繰り返す\n",
    "naive_pred = pd.DataFrame({'value':np.tile(train.loc['1957-12-01'], \n",
    "                                           len(test))}, \n",
    "                          index=test.index)\n",
    "print(naive_pred.head(3))"
   ]
  },
  {
   "cell_type": "markdown",
   "id": "dd01b7f8-d686-439f-a58d-234dfe88e2b9",
   "metadata": {},
   "source": [
    "### 季節ナイーブ予測"
   ]
  },
  {
   "cell_type": "code",
   "execution_count": 6,
   "id": "d829035a-5396-4ec3-b9fe-bce9bc3f6302",
   "metadata": {},
   "outputs": [
    {
     "name": "stdout",
     "output_type": "stream",
     "text": [
      "            value\n",
      "1958-01-01    315\n",
      "1958-02-01    301\n",
      "1958-03-01    356\n"
     ]
    }
   ],
   "source": [
    "# 1957年の12か月間のデータを繰り返す\n",
    "s_naive_pred = pd.concat([train.loc['1957']] * 3)\n",
    "s_naive_pred.index=test.index\n",
    "print(s_naive_pred.head(3))"
   ]
  },
  {
   "cell_type": "markdown",
   "id": "e7f3a8f4-8803-41de-afe0-9711354d67f0",
   "metadata": {},
   "source": [
    "### 平均値予測"
   ]
  },
  {
   "cell_type": "code",
   "execution_count": 7,
   "id": "9586404c-d7e8-4a47-a9c9-0960243704d8",
   "metadata": {},
   "outputs": [
    {
     "name": "stdout",
     "output_type": "stream",
     "text": [
      "                 value\n",
      "1958-01-01  230.898148\n",
      "1958-02-01  230.898148\n",
      "1958-03-01  230.898148\n"
     ]
    }
   ],
   "source": [
    "# 平均値をテストデータの件数だけ繰り返す\n",
    "mean_pred = pd.DataFrame({'value':np.tile(train.mean(), len(test))}, \n",
    "                         index=test.index)\n",
    "print(mean_pred.head(3))"
   ]
  },
  {
   "cell_type": "markdown",
   "id": "88c907af-04c2-497b-95fa-11d5482219d5",
   "metadata": {
    "tags": []
   },
   "source": [
    "### 移動平均法による予測"
   ]
  },
  {
   "cell_type": "code",
   "execution_count": 8,
   "id": "bea5e6d5-9156-45ca-8a7d-286ae26421eb",
   "metadata": {},
   "outputs": [
    {
     "name": "stdout",
     "output_type": "stream",
     "text": [
      "                 value\n",
      "1958-01-01  368.416667\n",
      "1958-02-01  368.416667\n",
      "1958-03-01  368.416667\n"
     ]
    }
   ],
   "source": [
    "# 過去1年間の平均値を予測値とする\n",
    "ma_pred = pd.DataFrame({'value':np.tile(train.loc['1957-1':'1957-12'].mean(), \n",
    "                                        len(test))}, \n",
    "                       index=test.index)\n",
    "print(ma_pred.head(3))"
   ]
  },
  {
   "cell_type": "markdown",
   "id": "c0d9e7ed-4cf4-4778-9567-3cdf4814777d",
   "metadata": {},
   "source": [
    "### ドリフト予測"
   ]
  },
  {
   "cell_type": "code",
   "execution_count": 9,
   "id": "7c0024af-796d-4cee-8da6-1efdbbfe8242",
   "metadata": {},
   "outputs": [
    {
     "data": {
      "text/plain": [
       "value    2.093458\n",
       "dtype: float64"
      ]
     },
     "execution_count": 9,
     "metadata": {},
     "output_type": "execute_result"
    }
   ],
   "source": [
    "# 平均的なドリフト\n",
    "drift = (train.loc['1957-12-01'] - train.loc['1949-01-01']) / (len(train) - 1)\n",
    "drift"
   ]
  },
  {
   "cell_type": "code",
   "execution_count": 10,
   "id": "b660501e-b868-4356-8207-db68640d8f03",
   "metadata": {},
   "outputs": [
    {
     "name": "stdout",
     "output_type": "stream",
     "text": [
      "                 value\n",
      "1958-01-01  338.093458\n",
      "1958-02-01  340.186916\n",
      "1958-03-01  342.280374\n"
     ]
    }
   ],
   "source": [
    "# ドリフトの累積和を最終時点のデータに加えることで予測値を求める\n",
    "drift_pred = pd.DataFrame({\n",
    "    'value':np.cumsum(np.tile(drift, len(test))) + \n",
    "            train.loc['1957-12-01'].values}, \n",
    "    index=test.index)\n",
    "print(drift_pred.head(3))"
   ]
  },
  {
   "cell_type": "markdown",
   "id": "a63df497-9757-4077-8e24-04db643f107f",
   "metadata": {},
   "source": [
    "### 予測手法の比較"
   ]
  },
  {
   "cell_type": "code",
   "execution_count": 11,
   "id": "52580e46-ecfa-4849-9c95-9c41d36786d8",
   "metadata": {},
   "outputs": [
    {
     "data": {
      "text/plain": [
       "<matplotlib.legend.Legend at 0x21797f4b1a0>"
      ]
     },
     "execution_count": 11,
     "metadata": {},
     "output_type": "execute_result"
    },
    {
     "data": {
      "image/png": "[encoded data removed]",
      "text/plain": [
       "<Figure size 800x400 with 1 Axes>"
      ]
     },
     "metadata": {},
     "output_type": "display_data"
    }
   ],
   "source": [
    "# グラフサイズの指定\n",
    "fig, ax = plt.subplots(figsize=(8, 4))\n",
    "\n",
    "# 飛行機乗客数の折れ線グラフ\n",
    "ax.plot(train['value'], label='訓練データ')\n",
    "ax.plot(test['value'], label='テストデータ')\n",
    "\n",
    "# 予測値の折れ線グラフ\n",
    "ax.plot(naive_pred['value'], label='持続予測')\n",
    "ax.plot(s_naive_pred['value'], label='季節ナイーブ予測')\n",
    "ax.plot(mean_pred['value'], label='平均値予測')\n",
    "ax.plot(ma_pred['value'], label='移動平均予測')\n",
    "ax.plot(drift_pred['value'], label='ドリフト予測')\n",
    "\n",
    "# 凡例\n",
    "ax.legend()"
   ]
  },
  {
   "cell_type": "markdown",
   "id": "afdf75dc-27c0-4145-aeff-5e0973feeb07",
   "metadata": {},
   "source": [
    "### MAE"
   ]
  },
  {
   "cell_type": "code",
   "execution_count": 12,
   "id": "41b214dc-ff43-4e2e-a83a-2c8c8bdd9cba",
   "metadata": {},
   "outputs": [
    {
     "data": {
      "text/plain": [
       "value    94.944444\n",
       "dtype: float64"
      ]
     },
     "execution_count": 12,
     "metadata": {},
     "output_type": "execute_result"
    }
   ],
   "source": [
    "np.abs(test - naive_pred).mean()"
   ]
  },
  {
   "cell_type": "code",
   "execution_count": 13,
   "id": "2fd63841-c3c4-43d5-9695-da2d00a01af1",
   "metadata": {},
   "outputs": [
    {
     "name": "stdout",
     "output_type": "stream",
     "text": [
      "持続予測　　： 94.94444444444444\n",
      "季節ナイーブ： 60.083333333333336\n",
      "平均値予測　： 197.60185185185188\n",
      "移動平均予測： 74.06018518518519\n",
      "ドリフト予測： 62.84215991692627\n"
     ]
    }
   ],
   "source": [
    "# MAE\n",
    "print('持続予測　　：', mean_absolute_error(test, naive_pred))\n",
    "print('季節ナイーブ：', mean_absolute_error(test, s_naive_pred))\n",
    "print('平均値予測　：', mean_absolute_error(test, mean_pred))\n",
    "print('移動平均予測：', mean_absolute_error(test, ma_pred))\n",
    "print('ドリフト予測：', mean_absolute_error(test, drift_pred))"
   ]
  },
  {
   "cell_type": "markdown",
   "id": "cb58cea2-567e-4446-bbe2-9565446d0647",
   "metadata": {},
   "source": [
    "### MSE"
   ]
  },
  {
   "cell_type": "code",
   "execution_count": 14,
   "id": "e5ef20b1-0c42-4d87-9ee0-8340f677b781",
   "metadata": {},
   "outputs": [
    {
     "data": {
      "text/plain": [
       "value    14674.555556\n",
       "dtype: float64"
      ]
     },
     "execution_count": 14,
     "metadata": {},
     "output_type": "execute_result"
    }
   ],
   "source": [
    "((test - naive_pred) ** 2).mean()"
   ]
  },
  {
   "cell_type": "code",
   "execution_count": 15,
   "id": "19b70808-62d0-4a25-a1b4-9b4a741b3a2a",
   "metadata": {},
   "outputs": [
    {
     "name": "stdout",
     "output_type": "stream",
     "text": [
      "持続予測　　： 14674.555555555555\n",
      "季節ナイーブ： 5418.75\n",
      "平均値予測　： 45164.797410836756\n",
      "移動平均予測： 9728.312499999996\n",
      "ドリフト予測： 7695.698285148635\n"
     ]
    }
   ],
   "source": [
    "# MSE\n",
    "print('持続予測　　：', mean_squared_error(test, naive_pred))\n",
    "print('季節ナイーブ：', mean_squared_error(test, s_naive_pred))\n",
    "print('平均値予測　：', mean_squared_error(test, mean_pred))\n",
    "print('移動平均予測：', mean_squared_error(test, ma_pred))\n",
    "print('ドリフト予測：', mean_squared_error(test, drift_pred))"
   ]
  },
  {
   "cell_type": "markdown",
   "id": "c292ed19-f8d0-43c5-b9c6-e7b01b572d92",
   "metadata": {},
   "source": [
    "### RMSE"
   ]
  },
  {
   "cell_type": "code",
   "execution_count": 16,
   "id": "8c280fe1-5c46-45d4-a44c-bd3714c2321a",
   "metadata": {},
   "outputs": [
    {
     "data": {
      "text/plain": [
       "value    121.13858\n",
       "dtype: float64"
      ]
     },
     "execution_count": 16,
     "metadata": {},
     "output_type": "execute_result"
    }
   ],
   "source": [
    "np.sqrt(((test - naive_pred)**2).mean())"
   ]
  },
  {
   "cell_type": "code",
   "execution_count": 17,
   "id": "7919b21c-0f1c-45be-8a5d-f4a14abd51c7",
   "metadata": {},
   "outputs": [
    {
     "name": "stdout",
     "output_type": "stream",
     "text": [
      "持続予測　　： 121.13857996342682\n",
      "季節ナイーブ： 73.61215932167728\n",
      "平均値予測　： 212.52011060329505\n",
      "移動平均予測： 98.63220822834697\n",
      "ドリフト予測： 87.7251291543571\n"
     ]
    }
   ],
   "source": [
    "# RMSE\n",
    "print('持続予測　　：', np.sqrt(mean_squared_error(test, naive_pred)))\n",
    "print('季節ナイーブ：', np.sqrt(mean_squared_error(test, s_naive_pred)))\n",
    "print('平均値予測　：', np.sqrt(mean_squared_error(test, mean_pred)))\n",
    "print('移動平均予測：', np.sqrt(mean_squared_error(test, ma_pred)))\n",
    "print('ドリフト予測：', np.sqrt(mean_squared_error(test, drift_pred)))"
   ]
  },
  {
   "cell_type": "markdown",
   "id": "36325c76-5d2c-40f8-809f-89524d6dd59e",
   "metadata": {},
   "source": [
    "### MAPE"
   ]
  },
  {
   "cell_type": "code",
   "execution_count": 18,
   "id": "d6f35476-a0c6-43aa-b0bf-6f012cdfd04a",
   "metadata": {},
   "outputs": [
    {
     "data": {
      "text/plain": [
       "value    0.198867\n",
       "dtype: float64"
      ]
     },
     "execution_count": 18,
     "metadata": {},
     "output_type": "execute_result"
    }
   ],
   "source": [
    "(np.abs(test - naive_pred) / test).mean()"
   ]
  },
  {
   "cell_type": "code",
   "execution_count": 19,
   "id": "a54befde-aa52-4c77-85a9-c7a5dde39c36",
   "metadata": {},
   "outputs": [
    {
     "name": "stdout",
     "output_type": "stream",
     "text": [
      "持続予測　　： 0.19886711926999853\n",
      "季節ナイーブ： 0.13189432350948402\n",
      "平均値予測　： 0.4441010032912314\n",
      "移動平均予測： 0.15522265083435094\n",
      "ドリフト予測： 0.12990464190138912\n"
     ]
    }
   ],
   "source": [
    "# MAPE\n",
    "print('持続予測　　：', mean_absolute_percentage_error(test, naive_pred))\n",
    "print('季節ナイーブ：', mean_absolute_percentage_error(test, s_naive_pred))\n",
    "print('平均値予測　：', mean_absolute_percentage_error(test, mean_pred))\n",
    "print('移動平均予測：', mean_absolute_percentage_error(test, ma_pred))\n",
    "print('ドリフト予測：', mean_absolute_percentage_error(test, drift_pred))"
   ]
  },
  {
   "cell_type": "markdown",
   "id": "c5eca4c8-c32b-4081-a223-edcb55be4dea",
   "metadata": {},
   "source": [
    "### MASE"
   ]
  },
  {
   "cell_type": "code",
   "execution_count": 20,
   "id": "acaa9c9c-f731-4580-a236-3d9ffbdefca0",
   "metadata": {},
   "outputs": [
    {
     "data": {
      "text/plain": [
       "20.317757009345794"
      ]
     },
     "execution_count": 20,
     "metadata": {},
     "output_type": "execute_result"
    }
   ],
   "source": [
    "# 訓練データにおける持続予測の1期先予測誤差\n",
    "naive_error = np.abs(train['1949-02':'1957-12'].values - \n",
    "                     train['1949-01':'1957-11'].values).mean()\n",
    "naive_error"
   ]
  },
  {
   "cell_type": "code",
   "execution_count": 21,
   "id": "39eda5eb-7d03-4978-8a70-0130d72d92f8",
   "metadata": {},
   "outputs": [
    {
     "data": {
      "text/plain": [
       "value    4.672979\n",
       "dtype: float64"
      ]
     },
     "execution_count": 21,
     "metadata": {},
     "output_type": "execute_result"
    }
   ],
   "source": [
    "# MASE\n",
    "(np.abs(test - naive_pred) / naive_error).mean()"
   ]
  },
  {
   "cell_type": "code",
   "execution_count": 22,
   "id": "4ad43bb1-b52f-4be9-b248-e79d0069824a",
   "metadata": {},
   "outputs": [
    {
     "name": "stdout",
     "output_type": "stream",
     "text": [
      "持続予測　　： 4.672978636410099\n",
      "季節ナイーブ： 2.9571833793314934\n",
      "平均値予測　： 9.725574125183142\n",
      "移動平均予測： 3.645096510954377\n",
      "ドリフト予測： 3.0929673924154146\n"
     ]
    }
   ],
   "source": [
    "# MASE\n",
    "print('持続予測　　：', mean_absolute_scaled_error(test, naive_pred, \n",
    "                                            y_train=train))\n",
    "print('季節ナイーブ：', mean_absolute_scaled_error(test, s_naive_pred, \n",
    "                                            y_train=train))\n",
    "print('平均値予測　：', mean_absolute_scaled_error(test, mean_pred, \n",
    "                                            y_train=train))\n",
    "print('移動平均予測：', mean_absolute_scaled_error(test, ma_pred, \n",
    "                                            y_train=train))\n",
    "print('ドリフト予測：', mean_absolute_scaled_error(test, drift_pred, \n",
    "                                            y_train=train))"
   ]
  }
 ],
 "metadata": {
  "kernelspec": {
   "display_name": "Python 3 (ipykernel)",
   "language": "python",
   "name": "python3"
  },
  "language_info": {
   "codemirror_mode": {
    "name": "ipython",
    "version": 3
   },
   "file_extension": ".py",
   "mimetype": "text/x-python",
   "name": "python",
   "nbconvert_exporter": "python",
   "pygments_lexer": "ipython3",
   "version": "3.12.4"
  }
 },
 "nbformat": 4,
 "nbformat_minor": 5
}
