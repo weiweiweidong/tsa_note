{
 "cells": [
  {
   "cell_type": "markdown",
   "id": "891aa45a-55a1-458a-8016-11e70d1d9d90",
   "metadata": {},
   "source": [
    "# 第2部　Pythonによる時系列分析の基本\n",
    "\n",
    "## 第3章　Pythonによる統計分析の基本"
   ]
  },
  {
   "cell_type": "markdown",
   "id": "21143ea2-4704-4692-93f9-1a3435887556",
   "metadata": {
    "tags": []
   },
   "source": [
    "### 分析の準備"
   ]
  },
  {
   "cell_type": "code",
   "execution_count": 1,
   "id": "a84736d4-fdc7-41d8-a977-52eafa6ff646",
   "metadata": {},
   "outputs": [],
   "source": [
    "# 数値計算に使うライブラリ\n",
    "import numpy as np\n",
    "import pandas as pd\n",
    "from scipy import stats\n",
    "\n",
    "# 統計モデルを推定するライブラリ\n",
    "import statsmodels.api as sm\n",
    "import statsmodels.formula.api as smf\n",
    "import pmdarima as pm\n",
    "\n",
    "# グラフを描画するライブラリ\n",
    "from matplotlib import pyplot as plt\n",
    "import seaborn as sns\n",
    "sns.set()"
   ]
  },
  {
   "cell_type": "code",
   "execution_count": 2,
   "id": "06ff1c10-f0d6-48a3-8a44-568b833eda2b",
   "metadata": {},
   "outputs": [],
   "source": [
    "# 表示設定\n",
    "np.set_printoptions(linewidth=80)\n",
    "pd.set_option('display.width', 80)\n",
    "\n",
    "from matplotlib.pylab import rcParams\n",
    "rcParams['figure.figsize'] = 8, 4"
   ]
  },
  {
   "cell_type": "markdown",
   "id": "70f1c114-57be-44df-a0d9-6bbc939b52f7",
   "metadata": {
    "tags": []
   },
   "source": [
    "### 1変量データの分析"
   ]
  },
  {
   "cell_type": "markdown",
   "id": "b9b6297f-d584-496a-8146-e0f483983d7d",
   "metadata": {
    "tags": []
   },
   "source": [
    "#### データの読み込み"
   ]
  },
  {
   "cell_type": "code",
   "execution_count": 3,
   "id": "ff516f84-9b0d-445a-a6f1-1ce830a89e09",
   "metadata": {},
   "outputs": [
    {
     "name": "stdout",
     "output_type": "stream",
     "text": [
      "        x\n",
      "0  14.873\n",
      "1   8.165\n",
      "2   8.415\n"
     ]
    }
   ],
   "source": [
    "# データの読み込み\n",
    "df1 = pd.read_csv('2-3-1-sample-data-1.csv')\n",
    "print(df1.head(3))"
   ]
  },
  {
   "cell_type": "markdown",
   "id": "2b49f1f6-8b57-4d81-b024-779cc803dbbf",
   "metadata": {
    "tags": []
   },
   "source": [
    "#### 統計量の計算"
   ]
  },
  {
   "cell_type": "code",
   "execution_count": 4,
   "id": "ec3c5efb-af52-4096-92cb-0ccc93c94d4d",
   "metadata": {},
   "outputs": [
    {
     "name": "stdout",
     "output_type": "stream",
     "text": [
      "               x\n",
      "count  30.000000\n",
      "mean    9.820100\n",
      "std     3.079053\n",
      "min     3.095000\n",
      "25%     7.774250\n",
      "50%     9.367500\n",
      "75%    12.384000\n",
      "max    15.234000\n"
     ]
    }
   ],
   "source": [
    "print(df1.describe())"
   ]
  },
  {
   "cell_type": "markdown",
   "id": "bd493e14-a306-4e06-ac49-b274c408cda3",
   "metadata": {
    "tags": []
   },
   "source": [
    "#### 可視化"
   ]
  },
  {
   "cell_type": "code",
   "execution_count": 5,
   "id": "887b32fb-d4f1-4cf2-9aa1-c5bf9b1eebb8",
   "metadata": {},
   "outputs": [
    {
     "data": {
      "text/plain": [
       "<Axes: xlabel='x', ylabel='Count'>"
      ]
     },
     "execution_count": 5,
     "metadata": {},
     "output_type": "execute_result"
    },
    {
     "data": {
      "image/png": "[encoded data removed]",
      "text/plain": [
       "<Figure size 800x400 with 1 Axes>"
      ]
     },
     "metadata": {},
     "output_type": "display_data"
    }
   ],
   "source": [
    "sns.histplot(df1['x'])"
   ]
  },
  {
   "cell_type": "markdown",
   "id": "17dde11f-2df7-4cfa-9a36-680a84528318",
   "metadata": {
    "tags": []
   },
   "source": [
    "#### 平均値の区間推定"
   ]
  },
  {
   "cell_type": "code",
   "execution_count": 6,
   "id": "6ab57aef-91ed-44a5-bb70-8427aadd2637",
   "metadata": {},
   "outputs": [
    {
     "name": "stdout",
     "output_type": "stream",
     "text": [
      "標本平均 9.82\n",
      "標準偏差 3.027\n",
      "標準誤差 0.562\n",
      "95％区間 [ 8.67 10.97]\n"
     ]
    }
   ],
   "source": [
    "# 平均値の区間推定\n",
    "dsw1 = sm.stats.DescrStatsW(df1['x'])\n",
    "print('標本平均', round(dsw1.mean, 3))\n",
    "print('標準偏差', round(dsw1.std, 3))\n",
    "print('標準誤差', round(dsw1.std_mean, 3))\n",
    "print('95％区間', np.round(dsw1.tconfint_mean(alpha=0.05), 3))"
   ]
  },
  {
   "cell_type": "markdown",
   "id": "d8a557dc-8c10-4a1b-baca-fb3240c76cce",
   "metadata": {
    "tags": []
   },
   "source": [
    "#### 平均値に対するt検定"
   ]
  },
  {
   "cell_type": "code",
   "execution_count": 7,
   "id": "11847ac2-9804-4b90-803a-298631299f7b",
   "metadata": {},
   "outputs": [
    {
     "data": {
      "text/plain": [
       "array([-0.32 ,  0.751, 29.   ])"
      ]
     },
     "execution_count": 7,
     "metadata": {},
     "output_type": "execute_result"
    }
   ],
   "source": [
    "# t値、p値、dfが出力される\n",
    "np.round(dsw1.ttest_mean(value=10, alternative='two-sided'), 3)"
   ]
  },
  {
   "cell_type": "code",
   "execution_count": 8,
   "id": "d2d2ec9a-9d8c-425c-9927-767d54fc0047",
   "metadata": {},
   "outputs": [
    {
     "name": "stdout",
     "output_type": "stream",
     "text": [
      "[-0.32   0.624 29.   ]\n",
      "[-0.32   0.376 29.   ]\n"
     ]
    }
   ],
   "source": [
    "# 参考：片側検定\n",
    "print(np.round(dsw1.ttest_mean(value=10, alternative='larger'), 3))\n",
    "print(np.round(dsw1.ttest_mean(value=10, alternative='smaller'), 3))"
   ]
  },
  {
   "cell_type": "code",
   "execution_count": 9,
   "id": "0abf2320-58db-4e2e-a4dd-49caa4dfde75",
   "metadata": {},
   "outputs": [
    {
     "data": {
      "text/plain": [
       "array([-0.32 ,  0.751, 29.   ])"
      ]
     },
     "execution_count": 9,
     "metadata": {},
     "output_type": "execute_result"
    }
   ],
   "source": [
    "# 3行プログラミング\n",
    "df1 = pd.read_csv('2-3-1-sample-data-1.csv')\n",
    "dsw1 = sm.stats.DescrStatsW(df1['x'])\n",
    "np.round(dsw1.ttest_mean(value=10, alternative='two-sided'), 3)"
   ]
  },
  {
   "cell_type": "markdown",
   "id": "5d0781f2-1e21-4140-b4fd-0abd79d9daeb",
   "metadata": {
    "tags": []
   },
   "source": [
    "### 2変量データの分析（数量×カテゴリー）"
   ]
  },
  {
   "cell_type": "markdown",
   "id": "63039e7a-602a-4b3d-a201-4115540a2cc0",
   "metadata": {
    "tags": []
   },
   "source": [
    "#### データの読み込み"
   ]
  },
  {
   "cell_type": "code",
   "execution_count": 10,
   "id": "e16ff896-8a49-4590-bcd7-d86769da12eb",
   "metadata": {},
   "outputs": [
    {
     "name": "stdout",
     "output_type": "stream",
     "text": [
      "       x category\n",
      "0  9.624        A\n",
      "1  7.388        A\n",
      "2  7.472        A\n"
     ]
    }
   ],
   "source": [
    "# データの読み込み\n",
    "df2 = pd.read_csv('2-3-2-sample-data-2.csv')\n",
    "print(df2.head(3))"
   ]
  },
  {
   "cell_type": "markdown",
   "id": "b51de4a1-c71a-40f2-9bd0-182e0e6d0728",
   "metadata": {
    "tags": []
   },
   "source": [
    "#### 統計量の計算"
   ]
  },
  {
   "cell_type": "code",
   "execution_count": 11,
   "id": "205f1dbc-6ad0-4582-99e9-4f492c676b0e",
   "metadata": {},
   "outputs": [
    {
     "name": "stdout",
     "output_type": "stream",
     "text": [
      "             x                                                           \n",
      "         count      mean       std    min     25%    50%      75%     max\n",
      "category                                                                 \n",
      "A         15.0  7.923867  1.256656  5.698  7.3135  7.678   8.9995   9.745\n",
      "B         15.0  9.868733  2.328365  6.698  7.6575  9.631  11.6695  13.434\n"
     ]
    }
   ],
   "source": [
    "print(df2.groupby('category').describe())"
   ]
  },
  {
   "cell_type": "markdown",
   "id": "62616ed5-13db-4da2-bfae-77bd74ff0b57",
   "metadata": {
    "tags": []
   },
   "source": [
    "#### 可視化"
   ]
  },
  {
   "cell_type": "code",
   "execution_count": 12,
   "id": "d6a7b557-7b9a-40b0-a177-216df5f85c52",
   "metadata": {},
   "outputs": [
    {
     "data": {
      "text/plain": [
       "<Axes: xlabel='x', ylabel='Count'>"
      ]
     },
     "execution_count": 12,
     "metadata": {},
     "output_type": "execute_result"
    },
    {
     "data": {
      "image/png": "[encoded data removed]",
      "text/plain": [
       "<Figure size 800x400 with 1 Axes>"
      ]
     },
     "metadata": {},
     "output_type": "display_data"
    }
   ],
   "source": [
    "sns.histplot(x='x', hue='category', data=df2)"
   ]
  },
  {
   "cell_type": "code",
   "execution_count": 13,
   "id": "cb5917f6-b117-49a5-8c3e-09afa7404607",
   "metadata": {},
   "outputs": [
    {
     "data": {
      "text/plain": [
       "<Axes: xlabel='category', ylabel='x'>"
      ]
     },
     "execution_count": 13,
     "metadata": {},
     "output_type": "execute_result"
    },
    {
     "data": {
      "image/png": "[encoded data removed]",
      "text/plain": [
       "<Figure size 800x400 with 1 Axes>"
      ]
     },
     "metadata": {},
     "output_type": "display_data"
    }
   ],
   "source": [
    "sns.violinplot(x='category', y='x', data=df2)"
   ]
  },
  {
   "cell_type": "markdown",
   "id": "76a021ac-bf08-43e0-b0e0-0263247bc687",
   "metadata": {
    "tags": []
   },
   "source": [
    "#### 平均値の差の区間推定"
   ]
  },
  {
   "cell_type": "code",
   "execution_count": 14,
   "id": "0ed76a0e-e81a-4c96-855e-5bf7c9a043df",
   "metadata": {},
   "outputs": [
    {
     "name": "stdout",
     "output_type": "stream",
     "text": [
      "       x category\n",
      "0  9.624        A\n",
      "1  7.388        A\n",
      "2  7.472        A\n"
     ]
    }
   ],
   "source": [
    "print(df2.query('category == \"A\"').head(3))"
   ]
  },
  {
   "cell_type": "code",
   "execution_count": 15,
   "id": "df0ba759-aa82-464f-83a9-2a54308bcde2",
   "metadata": {},
   "outputs": [],
   "source": [
    "# データの分割\n",
    "category_a = df2.query('category == \"A\"')['x']\n",
    "category_b = df2.query('category == \"B\"')['x']"
   ]
  },
  {
   "cell_type": "code",
   "execution_count": 16,
   "id": "4383307c-3411-4e6e-a9b2-ebf9399f84cd",
   "metadata": {},
   "outputs": [
    {
     "data": {
      "text/plain": [
       "array([-3.363, -0.526])"
      ]
     },
     "execution_count": 16,
     "metadata": {},
     "output_type": "execute_result"
    }
   ],
   "source": [
    "#平均値の差の信頼区間\n",
    "dsw2_a = sm.stats.DescrStatsW(category_a)\n",
    "dsw2_b = sm.stats.DescrStatsW(category_b)\n",
    "\n",
    "cm = sm.stats.CompareMeans(dsw2_a, dsw2_b)\n",
    "np.round(cm.tconfint_diff(alpha=0.05, usevar='unequal'), 3)"
   ]
  },
  {
   "cell_type": "markdown",
   "id": "5a4c4ffe-36a9-4a48-8f95-25316eafe4b5",
   "metadata": {
    "tags": []
   },
   "source": [
    "#### 平均の差に対するt検定"
   ]
  },
  {
   "cell_type": "code",
   "execution_count": 17,
   "id": "c89d25e7-ea23-4e88-826c-74a7e26bfc4c",
   "metadata": {},
   "outputs": [
    {
     "data": {
      "text/plain": [
       "array([-2.8470e+00,  1.0000e-02,  2.1518e+01])"
      ]
     },
     "execution_count": 17,
     "metadata": {},
     "output_type": "execute_result"
    }
   ],
   "source": [
    "# t値、p値、dfが出力される\n",
    "np.round(cm.ttest_ind(usevar='unequal', alternative='two-sided'), 3)"
   ]
  },
  {
   "cell_type": "code",
   "execution_count": 18,
   "id": "c042999b-dfb6-411b-a393-6e2f19c1e02e",
   "metadata": {},
   "outputs": [
    {
     "data": {
      "text/plain": [
       "array([-2.8470e+00,  1.0000e-02,  2.1518e+01])"
      ]
     },
     "execution_count": 18,
     "metadata": {},
     "output_type": "execute_result"
    }
   ],
   "source": [
    "# t値、p値、dfが出力される\n",
    "np.round(sm.stats.ttest_ind(\n",
    "    category_a, category_b, \n",
    "    usevar='unequal', alternative='two-sided'), 3)"
   ]
  },
  {
   "cell_type": "markdown",
   "id": "dcf5fb26-92b2-4958-8246-310f87cff3f8",
   "metadata": {
    "tags": []
   },
   "source": [
    "### 2変量データの分析（数量×数量）"
   ]
  },
  {
   "cell_type": "markdown",
   "id": "172dbfb4-69ac-4092-a9c1-829b3b4c8d97",
   "metadata": {
    "tags": []
   },
   "source": [
    "#### データの読み込み"
   ]
  },
  {
   "cell_type": "code",
   "execution_count": 19,
   "id": "8131eb68-6087-4180-b4c7-0836afca860f",
   "metadata": {},
   "outputs": [
    {
     "name": "stdout",
     "output_type": "stream",
     "text": [
      "        x       y\n",
      "0  46.243  36.461\n",
      "1  23.882  20.932\n",
      "2  24.718  19.277\n"
     ]
    }
   ],
   "source": [
    "# データの読み込み\n",
    "df3 = pd.read_csv('2-3-3-sample-data-3.csv')\n",
    "print(df3.head(3))"
   ]
  },
  {
   "cell_type": "markdown",
   "id": "24285334-75e5-41df-89ce-62b16fcf9374",
   "metadata": {
    "tags": []
   },
   "source": [
    "#### 統計量の計算"
   ]
  },
  {
   "cell_type": "code",
   "execution_count": 20,
   "id": "28b5ad35-261f-420d-acf8-1edc2e843fdf",
   "metadata": {},
   "outputs": [
    {
     "name": "stdout",
     "output_type": "stream",
     "text": [
      "               x          y\n",
      "count  30.000000  30.000000\n",
      "mean   29.400567  29.133033\n",
      "std    10.263615   9.645102\n",
      "min     6.985000   5.418000\n",
      "25%    22.581750  23.143500\n",
      "50%    27.891000  30.262000\n",
      "75%    37.947500  36.180750\n",
      "max    47.448000  44.831000\n"
     ]
    }
   ],
   "source": [
    "print(df3.describe())"
   ]
  },
  {
   "cell_type": "markdown",
   "id": "1feee80a-7ec4-463b-ab17-bced329b170d",
   "metadata": {
    "tags": []
   },
   "source": [
    "#### 可視化"
   ]
  },
  {
   "cell_type": "code",
   "execution_count": 21,
   "id": "913ec506-c9ff-45d3-abc4-35b55380a11e",
   "metadata": {},
   "outputs": [
    {
     "data": {
      "text/plain": [
       "<Axes: xlabel='x', ylabel='y'>"
      ]
     },
     "execution_count": 21,
     "metadata": {},
     "output_type": "execute_result"
    },
    {
     "data": {
      "image/png": "[encoded data removed]",
      "text/plain": [
       "<Figure size 800x400 with 1 Axes>"
      ]
     },
     "metadata": {},
     "output_type": "display_data"
    }
   ],
   "source": [
    "sns.scatterplot(x='x', y='y', data=df3)"
   ]
  },
  {
   "cell_type": "markdown",
   "id": "201a9be9-7343-48e9-82ee-1457ab09df55",
   "metadata": {
    "tags": []
   },
   "source": [
    "#### 回帰分析"
   ]
  },
  {
   "cell_type": "code",
   "execution_count": 22,
   "id": "1f61817c-e30f-4dab-b993-a74407dd2464",
   "metadata": {},
   "outputs": [
    {
     "name": "stdout",
     "output_type": "stream",
     "text": [
      "                            OLS Regression Results                            \n",
      "==============================================================================\n",
      "Dep. Variable:                      y   R-squared:                       0.526\n",
      "Model:                            OLS   Adj. R-squared:                  0.509\n",
      "Method:                 Least Squares   F-statistic:                     31.02\n",
      "Date:                Wed, 11 Sep 2024   Prob (F-statistic):           5.86e-06\n",
      "Time:                        16:39:00   Log-Likelihood:                -98.868\n",
      "No. Observations:                  30   AIC:                             201.7\n",
      "Df Residuals:                      28   BIC:                             204.5\n",
      "Df Model:                           1                                         \n",
      "Covariance Type:            nonrobust                                         \n",
      "==============================================================================\n",
      "                 coef    std err          t      P>|t|      [0.025      0.975]\n",
      "------------------------------------------------------------------------------\n",
      "Intercept      9.1027      3.802      2.394      0.024       1.314      16.891\n",
      "x              0.6813      0.122      5.570      0.000       0.431       0.932\n",
      "==============================================================================\n",
      "Omnibus:                        2.118   Durbin-Watson:                   1.351\n",
      "Prob(Omnibus):                  0.347   Jarque-Bera (JB):                1.795\n",
      "Skew:                           0.579   Prob(JB):                        0.408\n",
      "Kurtosis:                       2.690   Cond. No.                         95.8\n",
      "==============================================================================\n",
      "\n",
      "Notes:\n",
      "[1] Standard Errors assume that the covariance matrix of the errors is correctly specified.\n"
     ]
    }
   ],
   "source": [
    "# モデルの構築\n",
    "lm_model = smf.ols(formula='y ~ x', data=df3).fit()\n",
    "\n",
    "# 結果の確認\n",
    "print(lm_model.summary())"
   ]
  },
  {
   "cell_type": "markdown",
   "id": "b37334a6-47dc-4d1f-9ccd-2b5203bd77fa",
   "metadata": {
    "tags": []
   },
   "source": [
    "#### 分散分析"
   ]
  },
  {
   "cell_type": "code",
   "execution_count": 23,
   "id": "384fc5c6-16e6-4dee-8cf7-fb191ce091ec",
   "metadata": {},
   "outputs": [
    {
     "name": "stdout",
     "output_type": "stream",
     "text": [
      "            df       sum_sq      mean_sq          F    PR(>F)\n",
      "x          1.0  1417.965482  1417.965482  31.021716  0.000006\n",
      "Residual  28.0  1279.846475    45.708803        NaN       NaN\n"
     ]
    }
   ],
   "source": [
    "print(sm.stats.anova_lm(lm_model))"
   ]
  },
  {
   "cell_type": "code",
   "execution_count": 24,
   "id": "0f9e141b-677b-4403-b3a9-2cd6e51a4b5e",
   "metadata": {},
   "outputs": [
    {
     "name": "stdout",
     "output_type": "stream",
     "text": [
      "                            OLS Regression Results                            \n",
      "==============================================================================\n",
      "Dep. Variable:                      y   R-squared:                       0.526\n",
      "Model:                            OLS   Adj. R-squared:                  0.509\n",
      "Method:                 Least Squares   F-statistic:                     31.02\n",
      "Date:                Wed, 11 Sep 2024   Prob (F-statistic):           5.86e-06\n",
      "Time:                        16:39:00   Log-Likelihood:                -98.868\n",
      "No. Observations:                  30   AIC:                             201.7\n",
      "Df Residuals:                      28   BIC:                             204.5\n",
      "Df Model:                           1                                         \n",
      "Covariance Type:            nonrobust                                         \n",
      "==============================================================================\n",
      "                 coef    std err          t      P>|t|      [0.025      0.975]\n",
      "------------------------------------------------------------------------------\n",
      "Intercept      9.1027      3.802      2.394      0.024       1.314      16.891\n",
      "x              0.6813      0.122      5.570      0.000       0.431       0.932\n",
      "==============================================================================\n",
      "Omnibus:                        2.118   Durbin-Watson:                   1.351\n",
      "Prob(Omnibus):                  0.347   Jarque-Bera (JB):                1.795\n",
      "Skew:                           0.579   Prob(JB):                        0.408\n",
      "Kurtosis:                       2.690   Cond. No.                         95.8\n",
      "==============================================================================\n",
      "\n",
      "Notes:\n",
      "[1] Standard Errors assume that the covariance matrix of the errors is correctly specified.\n",
      "            df       sum_sq      mean_sq          F    PR(>F)\n",
      "x          1.0  1417.965482  1417.965482  31.021716  0.000006\n",
      "Residual  28.0  1279.846475    45.708803        NaN       NaN\n"
     ]
    }
   ],
   "source": [
    "# まとめ\n",
    "df3 = pd.read_csv('2-3-3-sample-data-3.csv')\n",
    "lm_model = smf.ols(formula='y ~ x', data=df3).fit()\n",
    "print(lm_model.summary())\n",
    "print(sm.stats.anova_lm(lm_model))"
   ]
  },
  {
   "cell_type": "markdown",
   "id": "f5937612-8b4c-4c52-984f-72812b2f96d6",
   "metadata": {
    "tags": []
   },
   "source": [
    "### サンプルデータの利用\n",
    "https://www.statsmodels.org/dev/datasets/index.html"
   ]
  },
  {
   "cell_type": "markdown",
   "id": "3ef42433-7df4-4723-bdb4-c79bdf9763dd",
   "metadata": {
    "tags": []
   },
   "source": [
    "#### load_pandas関数の利用"
   ]
  },
  {
   "cell_type": "code",
   "execution_count": 25,
   "id": "32cb046f-91f6-4e64-8514-7b1a982f2c57",
   "metadata": {},
   "outputs": [
    {
     "name": "stdout",
     "output_type": "stream",
     "text": [
      "     year  volume\n",
      "0  1871.0  1120.0\n",
      "1  1872.0  1160.0\n",
      "2  1873.0   963.0\n"
     ]
    }
   ],
   "source": [
    "nile = sm.datasets.nile.load_pandas().data\n",
    "print(nile.head(3))"
   ]
  },
  {
   "cell_type": "code",
   "execution_count": 26,
   "id": "d6214373-2549-4b31-9d26-389b815e4e1c",
   "metadata": {},
   "outputs": [
    {
     "data": {
      "text/html": [
       "<div>\n",
       "<style scoped>\n",
       "    .dataframe tbody tr th:only-of-type {\n",
       "        vertical-align: middle;\n",
       "    }\n",
       "\n",
       "    .dataframe tbody tr th {\n",
       "        vertical-align: top;\n",
       "    }\n",
       "\n",
       "    .dataframe thead th {\n",
       "        text-align: right;\n",
       "    }\n",
       "</style>\n",
       "<table border=\"1\" class=\"dataframe\">\n",
       "  <thead>\n",
       "    <tr style=\"text-align: right;\">\n",
       "      <th></th>\n",
       "      <th>co2</th>\n",
       "    </tr>\n",
       "  </thead>\n",
       "  <tbody>\n",
       "    <tr>\n",
       "      <th>1958-03-29</th>\n",
       "      <td>316.1</td>\n",
       "    </tr>\n",
       "    <tr>\n",
       "      <th>1958-04-05</th>\n",
       "      <td>317.3</td>\n",
       "    </tr>\n",
       "    <tr>\n",
       "      <th>1958-04-12</th>\n",
       "      <td>317.6</td>\n",
       "    </tr>\n",
       "  </tbody>\n",
       "</table>\n",
       "</div>"
      ],
      "text/plain": [
       "              co2\n",
       "1958-03-29  316.1\n",
       "1958-04-05  317.3\n",
       "1958-04-12  317.6"
      ]
     },
     "execution_count": 26,
     "metadata": {},
     "output_type": "execute_result"
    }
   ],
   "source": [
    "# 参考：別のデータの読み込み\n",
    "sm.datasets.co2.load_pandas().data.head(3)"
   ]
  },
  {
   "cell_type": "code",
   "execution_count": 27,
   "id": "324a1318-c519-4639-a5be-3b3282b441c0",
   "metadata": {},
   "outputs": [
    {
     "name": "stdout",
     "output_type": "stream",
     "text": [
      "\n",
      "Atmospheric CO2 from Continuous Air Samples at Mauna Loa Observatory, Hawaii, U.S.A.\n",
      "\n",
      "Period of Record: March 1958 - December 2001\n",
      "\n",
      "Methods: An Applied Physics Corporation (APC) nondispersive infrared gas analyzer was used to obtain atmospheric CO2 concentrations, based on continuous data (four measurements per hour) from atop intake lines on several towers. Steady data periods of not less than six hours per day are required; if no such six-hour periods are available on any given day, then no data are used that day. Weekly averages were calculated for most weeks throughout the approximately 44 years of record. The continuous data for year 2000 is compared with flask data from the same site in the graphics section.\n"
     ]
    }
   ],
   "source": [
    "print(sm.datasets.co2.DESCRLONG)"
   ]
  },
  {
   "cell_type": "code",
   "execution_count": 28,
   "id": "946a3ceb-2969-47d9-95eb-957d353f0118",
   "metadata": {},
   "outputs": [
    {
     "name": "stdout",
     "output_type": "stream",
     "text": [
      "This is public domain.\n",
      "---------------\n",
      "This dataset contains measurements on the annual flow of\n",
      "the Nile as measured at Ashwan for 100 years from 1871-1970. There is an apparent changepoint near 1898.\n",
      "---------------\n",
      "::\n",
      "\n",
      "    Number of observations: 100\n",
      "    Number of variables: 2\n",
      "    Variable name definitions:\n",
      "\n",
      "        year - the year of the observations\n",
      "        volumne - the discharge at Aswan in 10^8, m^3\n",
      "\n"
     ]
    }
   ],
   "source": [
    "print(sm.datasets.nile.COPYRIGHT)\n",
    "print('---------------')\n",
    "print(sm.datasets.nile.DESCRLONG)\n",
    "print('---------------')\n",
    "print(sm.datasets.nile.NOTE)"
   ]
  },
  {
   "cell_type": "markdown",
   "id": "e6dc189f-b05d-4022-b42c-c7eeb01c8f7e",
   "metadata": {
    "tags": []
   },
   "source": [
    "#### get_rdataset関数の利用"
   ]
  },
  {
   "cell_type": "code",
   "execution_count": 29,
   "id": "e7a71182-9487-4c3b-be9d-f8017f4a0e39",
   "metadata": {},
   "outputs": [
    {
     "data": {
      "text/html": [
       "<div>\n",
       "<style scoped>\n",
       "    .dataframe tbody tr th:only-of-type {\n",
       "        vertical-align: middle;\n",
       "    }\n",
       "\n",
       "    .dataframe tbody tr th {\n",
       "        vertical-align: top;\n",
       "    }\n",
       "\n",
       "    .dataframe thead th {\n",
       "        text-align: right;\n",
       "    }\n",
       "</style>\n",
       "<table border=\"1\" class=\"dataframe\">\n",
       "  <thead>\n",
       "    <tr style=\"text-align: right;\">\n",
       "      <th></th>\n",
       "      <th>time</th>\n",
       "      <th>value</th>\n",
       "    </tr>\n",
       "  </thead>\n",
       "  <tbody>\n",
       "    <tr>\n",
       "      <th>0</th>\n",
       "      <td>1871</td>\n",
       "      <td>1120</td>\n",
       "    </tr>\n",
       "    <tr>\n",
       "      <th>1</th>\n",
       "      <td>1872</td>\n",
       "      <td>1160</td>\n",
       "    </tr>\n",
       "    <tr>\n",
       "      <th>2</th>\n",
       "      <td>1873</td>\n",
       "      <td>963</td>\n",
       "    </tr>\n",
       "  </tbody>\n",
       "</table>\n",
       "</div>"
      ],
      "text/plain": [
       "   time  value\n",
       "0  1871   1120\n",
       "1  1872   1160\n",
       "2  1873    963"
      ]
     },
     "execution_count": 29,
     "metadata": {},
     "output_type": "execute_result"
    }
   ],
   "source": [
    "sm.datasets.get_rdataset(\"Nile\").data.head(3)"
   ]
  },
  {
   "cell_type": "code",
   "execution_count": 30,
   "id": "aeaab192-a940-432d-849b-7910043f1600",
   "metadata": {},
   "outputs": [
    {
     "name": "stdout",
     "output_type": "stream",
     "text": [
      "          time  value\n",
      "0  1949.000000    112\n",
      "1  1949.083333    118\n",
      "2  1949.166667    132\n"
     ]
    }
   ],
   "source": [
    "AirPassengers = sm.datasets.get_rdataset(\"AirPassengers\")\n",
    "print(AirPassengers.data.head(3))"
   ]
  },
  {
   "cell_type": "code",
   "execution_count": 31,
   "id": "17f1ab11-a2cd-44ca-a1ac-544a79fe31de",
   "metadata": {},
   "outputs": [
    {
     "name": "stdout",
     "output_type": "stream",
     "text": [
      ".. container::\n",
      "\n",
      "   .. container::\n",
      "\n",
      "      ============= ===============\n",
      "      AirPassengers R Documentation\n",
      "      ============= ===============\n",
      "\n",
      "      .. rubric:: Monthly Airline Passenger Numbers 1949-1960\n",
      "         :name: monthly-airline-passenger-numbers-1949-1960\n",
      "\n",
      "      .. rubric:: Description\n",
      "         :name: description\n",
      "\n",
      "      The classic Box & Jenkins airline data. Monthly totals of\n",
      "      international airline passengers, 1949 to 1960.\n",
      "\n",
      "      .. rubric:: Usage\n",
      "         :name: usage\n",
      "\n",
      "      .. code:: R\n",
      "\n",
      "         AirPassengers\n",
      "\n",
      "      .. rubric:: Format\n",
      "         :name: format\n",
      "\n",
      "      A monthly time series, in thousands.\n",
      "\n",
      "      .. rubric:: Source\n",
      "         :name: source\n",
      "\n",
      "      Box, G. E. P., Jenkins, G. M. and Reinsel, G. C. (1976) *Time\n",
      "      Series Analysis, Forecasting and Control.* Third Edition.\n",
      "      Holden-Day. Series G.\n",
      "\n",
      "      .. rubric:: Examples\n",
      "         :name: examples\n",
      "\n",
      "      .. code:: R\n",
      "\n",
      "         ## The classic 'airline model', by full ML\n",
      "         (fit <- arima(log10(AirPassengers), c(0, 1, 1),\n",
      "                       seasonal = list(order = c(0, 1, 1), period = 12)))\n",
      "         update(fit, method = \"CSS\")\n",
      "         update(fit, x = window(log10(AirPassengers), start = 1954))\n",
      "         pred <- predict(fit, n.ahead = 24)\n",
      "         tl <- pred$pred - 1.96 * pred$se\n",
      "         tu <- pred$pred + 1.96 * pred$se\n",
      "         ts.plot(AirPassengers, 10^tl, 10^tu, log = \"y\", lty = c(1, 2, 2))\n",
      "\n",
      "         ## full ML fit is the same if the series is reversed, CSS fit is not\n",
      "         ap0 <- rev(log10(AirPassengers))\n",
      "         attributes(ap0) <- attributes(AirPassengers)\n",
      "         arima(ap0, c(0, 1, 1), seasonal = list(order = c(0, 1, 1), period = 12))\n",
      "         arima(ap0, c(0, 1, 1), seasonal = list(order = c(0, 1, 1), period = 12),\n",
      "               method = \"CSS\")\n",
      "\n",
      "         ## Structural Time Series\n",
      "         ap <- log10(AirPassengers) - 2\n",
      "         (fit <- StructTS(ap, type = \"BSM\"))\n",
      "         par(mfrow = c(1, 2))\n",
      "         plot(cbind(ap, fitted(fit)), plot.type = \"single\")\n",
      "         plot(cbind(ap, tsSmooth(fit)), plot.type = \"single\")\n",
      "\n"
     ]
    }
   ],
   "source": [
    "print(AirPassengers.__doc__)"
   ]
  },
  {
   "cell_type": "markdown",
   "id": "69cf3c18-7f7e-4a92-a1ba-8e2cd639163b",
   "metadata": {
    "tags": []
   },
   "source": [
    "#### pmdarimaライブラリのデータ\n",
    "https://alkaline-ml.com/pmdarima/modules/datasets.html"
   ]
  },
  {
   "cell_type": "code",
   "execution_count": 32,
   "id": "5b1ef3fc-90f3-493f-a4fc-5f102770f862",
   "metadata": {},
   "outputs": [
    {
     "data": {
      "text/plain": [
       "0    22262.0\n",
       "1    21756.0\n",
       "2    22247.0\n",
       "dtype: float64"
      ]
     },
     "execution_count": 32,
     "metadata": {},
     "output_type": "execute_result"
    }
   ],
   "source": [
    "taylor = pm.datasets.load_taylor(as_series=True)\n",
    "taylor.head(3)"
   ]
  }
 ],
 "metadata": {
  "kernelspec": {
   "display_name": "Python 3 (ipykernel)",
   "language": "python",
   "name": "python3"
  },
  "language_info": {
   "codemirror_mode": {
    "name": "ipython",
    "version": 3
   },
   "file_extension": ".py",
   "mimetype": "text/x-python",
   "name": "python",
   "nbconvert_exporter": "python",
   "pygments_lexer": "ipython3",
   "version": "3.12.4"
  }
 },
 "nbformat": 4,
 "nbformat_minor": 5
}
