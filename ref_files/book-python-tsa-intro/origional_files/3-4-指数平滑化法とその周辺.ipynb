{
 "cells": [
  {
   "cell_type": "markdown",
   "id": "9eb775b4-87b7-4630-8ba5-24cd0e00f4d2",
   "metadata": {},
   "source": [
    "# 第3部　基本的な時系列予測の手法\n",
    "\n",
    "## 第4章　指数平滑化法とその周辺"
   ]
  },
  {
   "cell_type": "code",
   "execution_count": 1,
   "id": "ce4fe92c-8c84-4d42-892a-7f2642c7c06e",
   "metadata": {},
   "outputs": [],
   "source": [
    "# 数値計算に使うライブラリ\n",
    "import numpy as np\n",
    "import pandas as pd\n",
    "\n",
    "# グラフを描画するライブラリ\n",
    "from matplotlib import pyplot as plt\n",
    "import matplotlib.dates as mdates\n",
    "import seaborn as sns\n",
    "sns.set()\n",
    "\n",
    "# 統計モデルを推定するライブラリ\n",
    "import statsmodels.api as sm\n",
    "import statsmodels.formula.api as smf\n",
    "import statsmodels.tsa.api as tsa\n",
    "\n",
    "# 基本関数\n",
    "from sktime.utils.plotting import plot_series\n",
    "from sktime.forecasting.base import ForecastingHorizon\n",
    "\n",
    "# 予測\n",
    "from sktime.forecasting.exp_smoothing import ExponentialSmoothing\n",
    "from sktime.forecasting.ets import AutoETS\n",
    "\n",
    "# 予測の評価指標\n",
    "from sktime.performance_metrics.forecasting import (\n",
    "    mean_absolute_scaled_error, MeanAbsoluteError,\n",
    "    mean_absolute_percentage_error, mean_absolute_error\n",
    ")\n",
    "\n",
    "# 予測の評価\n",
    "from sktime.forecasting.model_selection import (\n",
    "    temporal_train_test_split, ExpandingWindowSplitter, ForecastingGridSearchCV\n",
    ")\n",
    "from sktime.forecasting.model_evaluation import evaluate\n",
    "\n",
    "# データの変換\n",
    "from sktime.transformations.series.boxcox import LogTransformer\n",
    "\n",
    "# パイプライン\n",
    "from sktime.forecasting.compose import (\n",
    "    TransformedTargetForecaster, MultiplexForecaster,\n",
    "    EnsembleForecaster, AutoEnsembleForecaster\n",
    ")\n",
    "from sktime.transformations.compose import OptionalPassthrough"
   ]
  },
  {
   "cell_type": "code",
   "execution_count": 2,
   "id": "31bcf14a-bef9-49ad-886d-7ab0089d2201",
   "metadata": {},
   "outputs": [],
   "source": [
    "# 表示設定\n",
    "np.set_printoptions(linewidth=60)\n",
    "pd.set_option('display.width', 80)\n",
    "\n",
    "from matplotlib.pylab import rcParams\n",
    "rcParams['figure.figsize'] = 8, 4"
   ]
  },
  {
   "cell_type": "code",
   "execution_count": 3,
   "id": "adca277b-b4e4-4def-bb51-4b60769daa70",
   "metadata": {},
   "outputs": [],
   "source": [
    "# 飛行機乗客数データの読み込み\n",
    "air_passengers = sm.datasets.get_rdataset('AirPassengers').data\n",
    "\n",
    "# 日付インデックスの作成(PeriodIndex)\n",
    "date_index = pd.period_range(\n",
    "    start='1949-01', periods=len(air_passengers), freq='M')\n",
    "air_passengers.index = date_index\n",
    "\n",
    "# 不要な時間ラベルの削除\n",
    "air_passengers = air_passengers.drop(air_passengers.columns[0], axis=1)"
   ]
  },
  {
   "cell_type": "code",
   "execution_count": 4,
   "id": "1a051f62-6476-4f74-bed6-8417e8d2b49d",
   "metadata": {},
   "outputs": [],
   "source": [
    "# データの分割\n",
    "train, test = temporal_train_test_split(air_passengers, test_size=36)\n",
    "\n",
    "# 予測期間\n",
    "fh = np.arange(1, len(test) + 1)"
   ]
  },
  {
   "cell_type": "markdown",
   "id": "8833373d-70be-4709-810d-f68760783e65",
   "metadata": {},
   "source": [
    "### 単純指数平滑化法"
   ]
  },
  {
   "cell_type": "code",
   "execution_count": 5,
   "id": "33574d4a-c024-48af-a210-2eaaacdbebea",
   "metadata": {},
   "outputs": [
    {
     "data": {
      "text/plain": [
       "0    1\n",
       "1    2\n",
       "2    3\n",
       "dtype: int64"
      ]
     },
     "execution_count": 5,
     "metadata": {},
     "output_type": "execute_result"
    }
   ],
   "source": [
    "data = pd.Series([1, 2, 3])\n",
    "data"
   ]
  },
  {
   "cell_type": "code",
   "execution_count": 6,
   "id": "2819e18a-3344-4f7b-a13c-91e4ad4456db",
   "metadata": {},
   "outputs": [
    {
     "data": {
      "text/plain": [
       "array([0.2, 0.2, 0.2])"
      ]
     },
     "execution_count": 6,
     "metadata": {},
     "output_type": "execute_result"
    }
   ],
   "source": [
    "# 平滑化定数\n",
    "alpha = 0.8\n",
    "\n",
    "# データの数だけ繰り返す\n",
    "alpha_list = np.tile(1 - alpha, len(data))\n",
    "alpha_list"
   ]
  },
  {
   "cell_type": "code",
   "execution_count": 7,
   "id": "ba160f4d-7ec8-48c2-b82c-a982f0b9508d",
   "metadata": {},
   "outputs": [
    {
     "data": {
      "text/plain": [
       "array([0.8  , 0.16 , 0.032])"
      ]
     },
     "execution_count": 7,
     "metadata": {},
     "output_type": "execute_result"
    }
   ],
   "source": [
    "# データにかける重み\n",
    "weight = alpha_list ** np.arange(0, len(data)) * alpha\n",
    "weight"
   ]
  },
  {
   "cell_type": "code",
   "execution_count": 8,
   "id": "1b49bc22-092d-444a-a96d-4b31c2f0f454",
   "metadata": {},
   "outputs": [
    {
     "name": "stdout",
     "output_type": "stream",
     "text": [
      "4時点目の予測値 2.752 \n"
     ]
    }
   ],
   "source": [
    "# 逆順にする\n",
    "weight = weight[::-1]\n",
    "\n",
    "# 指数平滑化法による予測値\n",
    "print(f'4時点目の予測値 {np.sum(data * weight):.4g} ')"
   ]
  },
  {
   "cell_type": "code",
   "execution_count": 9,
   "id": "97c85e1a-89b5-4864-bce4-c9205e471a49",
   "metadata": {},
   "outputs": [
    {
     "name": "stdout",
     "output_type": "stream",
     "text": [
      "4時点目の予測値 1.216 \n"
     ]
    }
   ],
   "source": [
    "# データの並び順の変更\n",
    "data_2 = pd.Series([3, 2, 1])\n",
    "\n",
    "# 指数平滑化法による予測値\n",
    "print(f'4時点目の予測値 {np.sum(data_2 * weight):.4g} ')"
   ]
  },
  {
   "cell_type": "code",
   "execution_count": 10,
   "id": "53726062-c2c3-433c-adbc-5adc5fa2655a",
   "metadata": {},
   "outputs": [
    {
     "data": {
      "text/plain": [
       "2.0"
      ]
     },
     "execution_count": 10,
     "metadata": {},
     "output_type": "execute_result"
    }
   ],
   "source": [
    "# 参考：単なるデータの平均\n",
    "np.mean(data)"
   ]
  },
  {
   "cell_type": "markdown",
   "id": "eeac26e2-c9f4-407e-9dc3-475cbf79e931",
   "metadata": {},
   "source": [
    "### 単純指数平滑化法の再帰的表現"
   ]
  },
  {
   "cell_type": "markdown",
   "id": "b855ed7c-01e8-4bc7-b8c6-6ee4230d7064",
   "metadata": {},
   "source": [
    "#### 初期値を0にした場合の単純指数平滑化法"
   ]
  },
  {
   "cell_type": "code",
   "execution_count": 11,
   "id": "d76e481a-71fa-4468-a0f8-574226aaa58c",
   "metadata": {},
   "outputs": [
    {
     "name": "stdout",
     "output_type": "stream",
     "text": [
      "2時点目 0.8 | 3時点目 1.76 | 4時点目 2.752\n"
     ]
    }
   ],
   "source": [
    "# 初期値\n",
    "yhat1 = 0\n",
    "\n",
    "# 予測値の計算\n",
    "yhat2 = alpha * data[0] + (1 - alpha) * yhat1\n",
    "yhat3 = alpha * data[1] + (1 - alpha) * yhat2\n",
    "yhat4 = alpha * data[2] + (1 - alpha) * yhat3\n",
    "\n",
    "# 結果の確認\n",
    "print(f'2時点目 {yhat2:.4g} | 3時点目 {yhat3:.4g} | 4時点目 {yhat4:.4g}')"
   ]
  },
  {
   "cell_type": "markdown",
   "id": "bca13b05-3318-464a-99de-4fe1e5969748",
   "metadata": {},
   "source": [
    "#### 初期データを初期値にした場合の単純指数平滑化法"
   ]
  },
  {
   "cell_type": "code",
   "execution_count": 12,
   "id": "f3c6c8dc-f91a-4797-a423-c446a8c92e26",
   "metadata": {},
   "outputs": [
    {
     "name": "stdout",
     "output_type": "stream",
     "text": [
      "2時点目 1 | 3時点目 1.8 | 4時点目 2.76\n"
     ]
    }
   ],
   "source": [
    "# 初期値\n",
    "yhat1 = data[0]\n",
    "\n",
    "# 予測値の計算\n",
    "yhat2 = alpha * data[0] + (1 - alpha) * yhat1\n",
    "yhat3 = alpha * data[1] + (1 - alpha) * yhat2\n",
    "yhat4 = alpha * data[2] + (1 - alpha) * yhat3\n",
    "\n",
    "# 結果の確認\n",
    "print(f'2時点目 {yhat2:.4g} | 3時点目 {yhat3:.4g} | 4時点目 {yhat4:.4g}')"
   ]
  },
  {
   "cell_type": "markdown",
   "id": "61d6aa10-28b0-4f09-9a7f-5ecc3e835abb",
   "metadata": {},
   "source": [
    "### 単純指数平滑化法の効率的な実装"
   ]
  },
  {
   "cell_type": "markdown",
   "id": "927dca06-9745-42c1-b4a6-9dee2ba6c5ea",
   "metadata": {},
   "source": [
    "#### pandasの利用"
   ]
  },
  {
   "cell_type": "code",
   "execution_count": 13,
   "id": "3256e588-d3dd-48c1-bf62-3cb6ccd087d4",
   "metadata": {},
   "outputs": [
    {
     "data": {
      "text/plain": [
       "0    1.00\n",
       "1    1.80\n",
       "2    2.76\n",
       "dtype: float64"
      ]
     },
     "execution_count": 13,
     "metadata": {},
     "output_type": "execute_result"
    }
   ],
   "source": [
    "# 単純指数平滑化法の実施\n",
    "ewma_pd = data.ewm(alpha = 0.8, adjust=False)\n",
    "ewma_pd.mean()"
   ]
  },
  {
   "cell_type": "markdown",
   "id": "6dd70e25-6b03-4d59-a54d-56e898d76426",
   "metadata": {},
   "source": [
    "#### statsmodelsの利用"
   ]
  },
  {
   "cell_type": "code",
   "execution_count": 14,
   "id": "2aa03e1f-a0e9-4c37-ada4-7f35925ef59b",
   "metadata": {},
   "outputs": [
    {
     "data": {
      "text/plain": [
       "0    0.00\n",
       "1    0.80\n",
       "2    1.76\n",
       "dtype: float64"
      ]
     },
     "execution_count": 14,
     "metadata": {},
     "output_type": "execute_result"
    }
   ],
   "source": [
    "# 初期値0の場合\n",
    "ewma_sm = tsa.SimpleExpSmoothing(\n",
    "    data, initialization_method='known', initial_level=0\n",
    ").fit(smoothing_level=0.8,optimized=False)\n",
    "\n",
    "# 当てはめ値\n",
    "ewma_sm.fittedvalues"
   ]
  },
  {
   "cell_type": "code",
   "execution_count": 15,
   "id": "8625a38d-cb2c-4e25-ab1f-7de8a4471562",
   "metadata": {},
   "outputs": [
    {
     "data": {
      "text/plain": [
       "3    2.752\n",
       "dtype: float64"
      ]
     },
     "execution_count": 15,
     "metadata": {},
     "output_type": "execute_result"
    }
   ],
   "source": [
    "# 予測値\n",
    "ewma_sm.forecast(1)"
   ]
  },
  {
   "cell_type": "code",
   "execution_count": 16,
   "id": "e2c42e65-d8f3-456e-a388-9f47de728ac7",
   "metadata": {},
   "outputs": [
    {
     "data": {
      "text/plain": [
       "0    1.0\n",
       "1    1.0\n",
       "2    1.8\n",
       "dtype: float64"
      ]
     },
     "execution_count": 16,
     "metadata": {},
     "output_type": "execute_result"
    }
   ],
   "source": [
    "# 初期データを初期値にした場合\n",
    "ewma_sm_lh = tsa.SimpleExpSmoothing(\n",
    "    data, initialization_method='legacy-heuristic'\n",
    ").fit(smoothing_level=0.8,optimized=False)\n",
    "\n",
    "# 当てはめ値\n",
    "ewma_sm_lh.fittedvalues"
   ]
  },
  {
   "cell_type": "code",
   "execution_count": 17,
   "id": "a75c2fe9-37da-4a80-abf8-9b821ebc0fe3",
   "metadata": {},
   "outputs": [
    {
     "data": {
      "text/plain": [
       "3    2.76\n",
       "dtype: float64"
      ]
     },
     "execution_count": 17,
     "metadata": {},
     "output_type": "execute_result"
    }
   ],
   "source": [
    "# 予測値\n",
    "ewma_sm_lh.forecast(1)"
   ]
  },
  {
   "cell_type": "markdown",
   "id": "557ea403-fb35-4edf-a2cb-40b764c0112a",
   "metadata": {},
   "source": [
    "#### パラメータの推定"
   ]
  },
  {
   "cell_type": "code",
   "execution_count": 18,
   "id": "0e2c366f-3936-4ce0-a6b5-ab125d607f67",
   "metadata": {},
   "outputs": [
    {
     "data": {
      "text/plain": [
       "0    1.0\n",
       "1    1.0\n",
       "2    2.0\n",
       "dtype: float64"
      ]
     },
     "execution_count": 18,
     "metadata": {},
     "output_type": "execute_result"
    }
   ],
   "source": [
    "# 初期データと平滑化定数を推定した場合\n",
    "ewma_best = tsa.SimpleExpSmoothing(\n",
    "    data, initialization_method='estimated').fit()\n",
    "\n",
    "# 当てはめ値\n",
    "ewma_best.fittedvalues"
   ]
  },
  {
   "cell_type": "code",
   "execution_count": 19,
   "id": "cf9342b1-9fcb-4602-bdec-e4ca43da40e1",
   "metadata": {},
   "outputs": [
    {
     "data": {
      "text/plain": [
       "3    3.0\n",
       "dtype: float64"
      ]
     },
     "execution_count": 19,
     "metadata": {},
     "output_type": "execute_result"
    }
   ],
   "source": [
    "# 予測値\n",
    "ewma_best.forecast(1)"
   ]
  },
  {
   "cell_type": "code",
   "execution_count": 20,
   "id": "7a45ccad-e143-4e49-87d7-c3e0f2beaeb5",
   "metadata": {},
   "outputs": [
    {
     "data": {
      "text/plain": [
       "{'smoothing_level': 0.9999999850988388,\n",
       " 'smoothing_trend': nan,\n",
       " 'smoothing_seasonal': nan,\n",
       " 'damping_trend': nan,\n",
       " 'initial_level': 1.0000000252217502,\n",
       " 'initial_trend': nan,\n",
       " 'initial_seasons': array([], dtype=float64),\n",
       " 'use_boxcox': False,\n",
       " 'lamda': None,\n",
       " 'remove_bias': False}"
      ]
     },
     "execution_count": 20,
     "metadata": {},
     "output_type": "execute_result"
    }
   ],
   "source": [
    "ewma_best.params"
   ]
  },
  {
   "cell_type": "markdown",
   "id": "43fea1b6-00c2-4974-8182-fbbfcfc060d7",
   "metadata": {},
   "source": [
    "### Holt法"
   ]
  },
  {
   "cell_type": "markdown",
   "id": "6c89878c-1494-448e-a318-a566d6884093",
   "metadata": {},
   "source": [
    "#### Holt法の実装"
   ]
  },
  {
   "cell_type": "code",
   "execution_count": 21,
   "id": "f8c74370-4975-4fb5-95f3-cf580d051d4c",
   "metadata": {},
   "outputs": [
    {
     "name": "stdout",
     "output_type": "stream",
     "text": [
      "yhat：2時点目 1.2 | 3時点目 2.56 | 4時点目 3.808\n",
      "level：1時点目 0.8 | 2時点目 1.84 | 3時点目 2.912\n",
      "trend：1時点目 0.4 | 2時点目 0.72 | 3時点目 0.896\n"
     ]
    }
   ],
   "source": [
    "# 平滑化定数\n",
    "alpha = 0.8\n",
    "beta = 0.5\n",
    "\n",
    "# 初期値\n",
    "l0 = 0\n",
    "d0 = 0\n",
    "yhat1 = l0 + d0\n",
    "\n",
    "# 予測値の計算\n",
    "l1 = alpha * data[0]   + (1 - alpha) * (l0 + d0)\n",
    "d1 = beta  * (l1 - l0) + (1 - beta)  * d0\n",
    "yhat2 = l1 + d1\n",
    "\n",
    "l2 = alpha * data[1]   + (1 - alpha) * (l1 + d1)\n",
    "d2 = beta  * (l2 - l1) + (1 - beta)  * d1\n",
    "yhat3 = l2 + d2\n",
    "\n",
    "l3 = alpha * data[2]   + (1 - alpha) * (l2 + d2)\n",
    "d3 = beta  * (l3 - l2) + (1 - beta)  * d2\n",
    "yhat4 = l3 + d3\n",
    "\n",
    "# 結果の確認\n",
    "print(f'yhat：2時点目 {yhat2:.4g} | 3時点目 {yhat3:.4g} | 4時点目 {yhat4:.4g}')\n",
    "print(f'level：1時点目 {l1:.3g} | 2時点目 {l2:.3g} | 3時点目 {l3:.4g}')\n",
    "print(f'trend：1時点目 {d1:.3g} | 2時点目 {d2:.3g} | 3時点目 {d3:.4g}')"
   ]
  },
  {
   "cell_type": "markdown",
   "id": "1b217b09-e68c-47dc-a0b6-40583dbf2a77",
   "metadata": {
    "tags": []
   },
   "source": [
    "#### statsmodelsの利用"
   ]
  },
  {
   "cell_type": "code",
   "execution_count": 22,
   "id": "85ea09f2-f869-4195-8f29-daad49f5e3c6",
   "metadata": {},
   "outputs": [],
   "source": [
    "# holt法の実装：パラメータ固定の場合\n",
    "holt = tsa.Holt(\n",
    "    data, initialization_method='known', initial_level=0, initial_trend=0\n",
    ").fit(smoothing_level=0.8, smoothing_trend=0.5, optimized=False)"
   ]
  },
  {
   "cell_type": "code",
   "execution_count": 23,
   "id": "02216842-c47b-4915-b33d-00a8b4d0d366",
   "metadata": {},
   "outputs": [
    {
     "data": {
      "text/plain": [
       "0    0.00\n",
       "1    1.20\n",
       "2    2.56\n",
       "dtype: float64"
      ]
     },
     "execution_count": 23,
     "metadata": {},
     "output_type": "execute_result"
    }
   ],
   "source": [
    "# 参考：当てはめ値\n",
    "holt.fittedvalues"
   ]
  },
  {
   "cell_type": "code",
   "execution_count": 24,
   "id": "d022d403-4f32-4512-958f-1e9cecea210d",
   "metadata": {},
   "outputs": [
    {
     "data": {
      "text/plain": [
       "0    0.800\n",
       "1    1.840\n",
       "2    2.912\n",
       "dtype: float64"
      ]
     },
     "execution_count": 24,
     "metadata": {},
     "output_type": "execute_result"
    }
   ],
   "source": [
    "# 参考：水準成分\n",
    "holt.level"
   ]
  },
  {
   "cell_type": "code",
   "execution_count": 25,
   "id": "9eedc194-5769-4efe-a2ad-4a46f2efa9bb",
   "metadata": {},
   "outputs": [
    {
     "data": {
      "text/plain": [
       "0    0.400\n",
       "1    0.720\n",
       "2    0.896\n",
       "dtype: float64"
      ]
     },
     "execution_count": 25,
     "metadata": {},
     "output_type": "execute_result"
    }
   ],
   "source": [
    "# 参考：ドリフト成分\n",
    "holt.trend"
   ]
  },
  {
   "cell_type": "code",
   "execution_count": 26,
   "id": "419da315-6d57-4657-99f3-ebdd8ecf601d",
   "metadata": {},
   "outputs": [
    {
     "data": {
      "text/plain": [
       "3    3.808\n",
       "dtype: float64"
      ]
     },
     "execution_count": 26,
     "metadata": {},
     "output_type": "execute_result"
    }
   ],
   "source": [
    "# 参考：予測値\n",
    "holt.forecast(1)"
   ]
  },
  {
   "cell_type": "markdown",
   "id": "baa137ab-5d87-4090-a178-4693fda35fc0",
   "metadata": {},
   "source": [
    "#### パラメータの推定"
   ]
  },
  {
   "cell_type": "code",
   "execution_count": 27,
   "id": "63b1c74f-7fca-4f9a-aa27-e9e028c66597",
   "metadata": {},
   "outputs": [
    {
     "data": {
      "text/plain": [
       "{'smoothing_level': 0.9999999850988388,\n",
       " 'smoothing_trend': 2.7105053908240827e-17,\n",
       " 'smoothing_seasonal': nan,\n",
       " 'damping_trend': nan,\n",
       " 'initial_level': -7.607667228101689e-05,\n",
       " 'initial_trend': 1.00011499468019,\n",
       " 'initial_seasons': array([], dtype=float64),\n",
       " 'use_boxcox': False,\n",
       " 'lamda': None,\n",
       " 'remove_bias': False}"
      ]
     },
     "execution_count": 27,
     "metadata": {},
     "output_type": "execute_result"
    }
   ],
   "source": [
    "# holt法の実装：パラメータを推定した場合\n",
    "holt_best = tsa.Holt(data, initialization_method='estimated').fit()\n",
    "holt_best.params"
   ]
  },
  {
   "cell_type": "code",
   "execution_count": 28,
   "id": "7574b510-0fa3-4e21-ad48-bd9190159fa8",
   "metadata": {},
   "outputs": [
    {
     "data": {
      "text/plain": [
       "0    1.000039\n",
       "1    2.000115\n",
       "2    3.000115\n",
       "dtype: float64"
      ]
     },
     "execution_count": 28,
     "metadata": {},
     "output_type": "execute_result"
    }
   ],
   "source": [
    "# 参考：当てはめ値\n",
    "holt_best.fittedvalues"
   ]
  },
  {
   "cell_type": "code",
   "execution_count": 29,
   "id": "84d865e0-8943-47a5-bfb6-6b3a70f49528",
   "metadata": {},
   "outputs": [
    {
     "data": {
      "text/plain": [
       "3    4.000115\n",
       "dtype: float64"
      ]
     },
     "execution_count": 29,
     "metadata": {},
     "output_type": "execute_result"
    }
   ],
   "source": [
    "# 予測値\n",
    "holt_best.forecast(1)"
   ]
  },
  {
   "cell_type": "markdown",
   "id": "c98fbb54-d7d1-4cd5-bb41-b856a2bdd1ff",
   "metadata": {},
   "source": [
    "### damped trendの利用"
   ]
  },
  {
   "cell_type": "markdown",
   "id": "67dfbcf6-a978-474e-b9e4-383a1a19e51c",
   "metadata": {},
   "source": [
    "#### 減衰しないトレンドを用いた予測"
   ]
  },
  {
   "cell_type": "code",
   "execution_count": 30,
   "id": "0b1410d3-b236-42d2-bf5e-8ff749594bb6",
   "metadata": {},
   "outputs": [
    {
     "data": {
      "text/plain": [
       "3      NaN\n",
       "4    0.896\n",
       "5    0.896\n",
       "dtype: float64"
      ]
     },
     "execution_count": 30,
     "metadata": {},
     "output_type": "execute_result"
    }
   ],
   "source": [
    "# 増減量は一定\n",
    "holt.forecast(3).diff()"
   ]
  },
  {
   "cell_type": "markdown",
   "id": "c8521266-a04b-4aeb-8ea2-5e54b6f4e715",
   "metadata": {},
   "source": [
    "#### damped trendを想定した予測"
   ]
  },
  {
   "cell_type": "code",
   "execution_count": 31,
   "id": "cd20f385-84b5-4803-bc5a-027dac1e8fc9",
   "metadata": {},
   "outputs": [
    {
     "name": "stdout",
     "output_type": "stream",
     "text": [
      "yhat：2時点目 1.16 | 3時点目 2.458 | 4時点目 3.65\n",
      "level：1時点目 0.8 | 2時点目 1.83 | 3時点目 2.892\n",
      "trend：1時点目 0.4 | 2時点目 0.696 | 3時点目 0.843\n"
     ]
    }
   ],
   "source": [
    "# トレンドの減衰率のパラメータ\n",
    "phi = 0.9\n",
    "\n",
    "# 初期の予測値\n",
    "yhat1 = l0 + phi * d0\n",
    "\n",
    "# 予測値の計算\n",
    "l1 = alpha * data[0]   + (1 - alpha) * (l0 + phi * d0)\n",
    "d1 = beta  * (l1 - l0) + (1 - beta)  * phi * d0\n",
    "yhat2 = l1 + phi * d1\n",
    "\n",
    "l2 = alpha * data[1]   + (1 - alpha) * (l1 + phi * d1)\n",
    "d2 = beta  * (l2 - l1) + (1 - beta)  * phi * d1\n",
    "yhat3 = l2 + phi * d2\n",
    "\n",
    "l3 = alpha * data[2]   + (1 - alpha) * (l2 + phi * d2)\n",
    "d3 = beta  * (l3 - l2) + (1 - beta)  * phi * d2\n",
    "yhat4 = l3 + phi * d3\n",
    "\n",
    "# 結果の確認\n",
    "print(f'yhat：2時点目 {yhat2:.4g} | 3時点目 {yhat3:.4g} | 4時点目 {yhat4:.4g}')\n",
    "print(f'level：1時点目 {l1:.3g} | 2時点目 {l2:.3g} | 3時点目 {l3:.4g}')\n",
    "print(f'trend：1時点目 {d1:.3g} | 2時点目 {d2:.3g} | 3時点目 {d3:.4g}')"
   ]
  },
  {
   "cell_type": "code",
   "execution_count": 32,
   "id": "3f751f5c-628c-487d-b79f-9e2e74540ef4",
   "metadata": {},
   "outputs": [],
   "source": [
    "# damped trendを利用した場合\n",
    "holt_damped = tsa.Holt(\n",
    "    data, initialization_method='known', initial_level=0, \n",
    "    initial_trend=0, damped_trend=True\n",
    ").fit(smoothing_level=0.8, smoothing_trend=0.5, damping_trend=0.9, \n",
    "      optimized=False)"
   ]
  },
  {
   "cell_type": "code",
   "execution_count": 33,
   "id": "4a611534-b5a5-4d03-bd73-33bba9c1e083",
   "metadata": {},
   "outputs": [
    {
     "data": {
      "text/plain": [
       "0    0.0000\n",
       "1    1.1600\n",
       "2    2.4584\n",
       "dtype: float64"
      ]
     },
     "execution_count": 33,
     "metadata": {},
     "output_type": "execute_result"
    }
   ],
   "source": [
    "# 参考：当てはめ値\n",
    "holt_damped.fittedvalues"
   ]
  },
  {
   "cell_type": "code",
   "execution_count": 34,
   "id": "710848e9-1263-4a66-a3bd-0d639a89b419",
   "metadata": {},
   "outputs": [
    {
     "data": {
      "text/plain": [
       "3    3.650416\n",
       "4    4.333278\n",
       "5    4.947855\n",
       "dtype: float64"
      ]
     },
     "execution_count": 34,
     "metadata": {},
     "output_type": "execute_result"
    }
   ],
   "source": [
    "# 参考：予測値\n",
    "holt_damped.forecast(3)"
   ]
  },
  {
   "cell_type": "code",
   "execution_count": 35,
   "id": "59262705-ea99-4d7a-b018-26cea0482e1d",
   "metadata": {},
   "outputs": [
    {
     "data": {
      "text/plain": [
       "3         NaN\n",
       "4    0.682862\n",
       "5    0.614576\n",
       "dtype: float64"
      ]
     },
     "execution_count": 35,
     "metadata": {},
     "output_type": "execute_result"
    }
   ],
   "source": [
    "# 増減量が変わる\n",
    "holt_damped.forecast(3).diff()"
   ]
  },
  {
   "cell_type": "code",
   "execution_count": 36,
   "id": "f7048f1e-b7c7-48af-aeb1-fe098d30565b",
   "metadata": {},
   "outputs": [
    {
     "name": "stdout",
     "output_type": "stream",
     "text": [
      "2時点先予測の増減量： 0.682862\n",
      "3時点先予測の増減量： 0.614576\n"
     ]
    }
   ],
   "source": [
    "print(f'2時点先予測の増減量： {d3 * phi ** 2:.6g}')\n",
    "print(f'3時点先予測の増減量： {d3 * phi ** 3:.6g}')"
   ]
  },
  {
   "cell_type": "markdown",
   "id": "308716cf-f20c-4664-b346-eca07268c5dc",
   "metadata": {},
   "source": [
    "### Holt-winters法"
   ]
  },
  {
   "cell_type": "markdown",
   "id": "25f4b355-c76c-49f9-a06a-b44335a0a9f0",
   "metadata": {},
   "source": [
    "#### Holt-Winters法の実装"
   ]
  },
  {
   "cell_type": "code",
   "execution_count": 37,
   "id": "3c08e6a9-7fc6-483b-a6fe-4291e92e9817",
   "metadata": {},
   "outputs": [
    {
     "name": "stdout",
     "output_type": "stream",
     "text": [
      "yhat：2時点目 1.2 | 3時点目 3.16 | 4時点目 3.568\n",
      "level：1時点目 0.8 | 2時点目 1.84 | 3時点目 2.432\n",
      "trend：1時点目 0.4 | 2時点目 0.72 | 3時点目 0.656\n",
      "season：1時点目 0.6 | 2時点目 0.48 | 3時点目 0.504\n"
     ]
    }
   ],
   "source": [
    "# 平滑化定数\n",
    "alpha = 0.8\n",
    "beta = 0.5\n",
    "gamma = 0.6\n",
    "\n",
    "# 初期値\n",
    "l0 = 0\n",
    "d0 = 0\n",
    "s_ng1 = 0 # -1時点目\n",
    "s0 = 0    # 0時点目\n",
    "yhat1 = l0 + d0 + s_ng1 # 周期2なので、前の時点のsを使う\n",
    "\n",
    "# 予測値の計算\n",
    "l1 = alpha * (data[0] - s_ng1)   + (1 - alpha) * (l0 + d0)\n",
    "d1 = beta  * (l1 - l0)           + (1 - beta)  * d0\n",
    "s1 = gamma * (data[0] - l0 - d0) + (1 - gamma) * s_ng1\n",
    "yhat2 = l1 + d1 + s0   # 周期2なので、前の時点のsを使う\n",
    "\n",
    "l2 = alpha * (data[1] - s0)      + (1 - alpha) * (l1 + d1)\n",
    "d2 = beta  * (l2 - l1)           + (1 - beta)  * d1\n",
    "s2 = gamma * (data[1] - l1 - d1) + (1 - gamma) * s0\n",
    "yhat3 = l2 + d2 + s1   # 周期2なので、前の時点のsを使う\n",
    "\n",
    "l3 = alpha * (data[2] - s1)      + (1 - alpha) * (l2 + d2)\n",
    "d3 = beta  * (l3 - l2)           + (1 - beta)  * d2\n",
    "s3 = gamma * (data[2] - l2 - d2) + (1 - gamma) * s1\n",
    "yhat4 = l3 + d3 + s2   # 周期2なので、前の時点のsを使う\n",
    "\n",
    "# 結果の確認\n",
    "print(f'yhat：2時点目 {yhat2:.3g} | 3時点目 {yhat3:.3g} | 4時点目 {yhat4:.4g}')\n",
    "print(f'level：1時点目 {l1:.3g} | 2時点目 {l2:.3g} | 3時点目 {l3:.4g}')\n",
    "print(f'trend：1時点目 {d1:.3g} | 2時点目 {d2:.3g} | 3時点目 {d3:.4g}')\n",
    "print(f'season：1時点目 {s1:.3g} | 2時点目 {s2:.3g} | 3時点目 {s3:.4g}')"
   ]
  },
  {
   "cell_type": "markdown",
   "id": "6890de35-e045-41d7-b392-1e2c385b318e",
   "metadata": {
    "tags": []
   },
   "source": [
    "#### statsmodelsの利用"
   ]
  },
  {
   "cell_type": "code",
   "execution_count": 38,
   "id": "3eaf8f96-9dee-46ac-a948-a12cb9a26c00",
   "metadata": {
    "tags": []
   },
   "outputs": [],
   "source": [
    "# Holt-Winters法の実装\n",
    "hw = tsa.ExponentialSmoothing(\n",
    "    data, trend='add', seasonal='add', initialization_method='known', \n",
    "    initial_level=0, initial_trend=0, \n",
    "    initial_seasonal=[0,0],seasonal_periods=2\n",
    ").fit(smoothing_level=0.8, smoothing_trend=0.5, smoothing_seasonal=0.6, \n",
    "      optimized=False)"
   ]
  },
  {
   "cell_type": "code",
   "execution_count": 39,
   "id": "c01f7925-4656-4a86-8578-053c1043a9c9",
   "metadata": {},
   "outputs": [
    {
     "data": {
      "text/plain": [
       "0    0.00\n",
       "1    1.20\n",
       "2    3.16\n",
       "dtype: float64"
      ]
     },
     "execution_count": 39,
     "metadata": {},
     "output_type": "execute_result"
    }
   ],
   "source": [
    "# 当てはめ値\n",
    "hw.fittedvalues"
   ]
  },
  {
   "cell_type": "code",
   "execution_count": 40,
   "id": "bdf65f97-204f-432c-8bf8-24c2e1c52a35",
   "metadata": {},
   "outputs": [
    {
     "data": {
      "text/plain": [
       "3    3.568\n",
       "dtype: float64"
      ]
     },
     "execution_count": 40,
     "metadata": {},
     "output_type": "execute_result"
    }
   ],
   "source": [
    "# 予測値\n",
    "hw.forecast(1)"
   ]
  },
  {
   "cell_type": "code",
   "execution_count": 41,
   "id": "335cc53d-267d-4a85-b957-d0a6f2391a95",
   "metadata": {},
   "outputs": [
    {
     "data": {
      "text/plain": [
       "0    0.800\n",
       "1    1.840\n",
       "2    2.432\n",
       "dtype: float64"
      ]
     },
     "execution_count": 41,
     "metadata": {},
     "output_type": "execute_result"
    }
   ],
   "source": [
    "# 参考：水準成分\n",
    "hw.level"
   ]
  },
  {
   "cell_type": "code",
   "execution_count": 42,
   "id": "b46a4053-110f-479b-8617-d41bfe96236d",
   "metadata": {},
   "outputs": [
    {
     "data": {
      "text/plain": [
       "0    0.400\n",
       "1    0.720\n",
       "2    0.656\n",
       "dtype: float64"
      ]
     },
     "execution_count": 42,
     "metadata": {},
     "output_type": "execute_result"
    }
   ],
   "source": [
    "# 参考：トレンド成分\n",
    "hw.trend"
   ]
  },
  {
   "cell_type": "code",
   "execution_count": 43,
   "id": "2377114f-a7cb-4b8d-afd4-efeee03e896b",
   "metadata": {},
   "outputs": [
    {
     "data": {
      "text/plain": [
       "0    0.600\n",
       "1    0.480\n",
       "2    0.504\n",
       "dtype: float64"
      ]
     },
     "execution_count": 43,
     "metadata": {},
     "output_type": "execute_result"
    }
   ],
   "source": [
    "# 参考：季節成分\n",
    "hw.season"
   ]
  },
  {
   "cell_type": "markdown",
   "id": "59b38797-3c69-47e3-b0ef-0044c25e08a7",
   "metadata": {},
   "source": [
    "#### 飛行機乗客数データへの適用"
   ]
  },
  {
   "cell_type": "code",
   "execution_count": 44,
   "id": "3050cb2f-88ef-41f1-a173-58f962491f10",
   "metadata": {},
   "outputs": [
    {
     "data": {
      "text/plain": [
       "21.544775457219366"
      ]
     },
     "execution_count": 44,
     "metadata": {},
     "output_type": "execute_result"
    }
   ],
   "source": [
    "# モデル化\n",
    "hw_air = tsa.ExponentialSmoothing(\n",
    "    train, trend='add', seasonal='add', seasonal_periods=12).fit()\n",
    "\n",
    "# 予測\n",
    "pred = hw_air.forecast(len(test))\n",
    "\n",
    "# 予測精度\n",
    "mean_absolute_error(test, pred)"
   ]
  },
  {
   "cell_type": "code",
   "execution_count": 45,
   "id": "45e166ad-a490-49b0-8a8b-707496a3f835",
   "metadata": {},
   "outputs": [
    {
     "data": {
      "image/png": "[encoded data removed]",
      "text/plain": [
       "<Figure size 800x400 with 1 Axes>"
      ]
     },
     "metadata": {},
     "output_type": "display_data"
    }
   ],
   "source": [
    "# 予測結果と季節調整済み系列の可視化\n",
    "fig, ax = plot_series(train, hw_air.level, test, pred, \n",
    "                      labels=['train', 'level', 'test', 'pred'], \n",
    "                      markers=np.tile('', 4))\n",
    "fig.set_size_inches(8, 4)"
   ]
  },
  {
   "cell_type": "markdown",
   "id": "ea35593a-e386-45ab-a501-1f400bd773aa",
   "metadata": {},
   "source": [
    "#### 乗法型のHolt-Winters法"
   ]
  },
  {
   "cell_type": "code",
   "execution_count": 46,
   "id": "7fa4c702-a627-41e9-964a-64f1cd9b8354",
   "metadata": {},
   "outputs": [
    {
     "data": {
      "text/plain": [
       "22.318015069498156"
      ]
     },
     "execution_count": 46,
     "metadata": {},
     "output_type": "execute_result"
    }
   ],
   "source": [
    "# 乗法型としてモデル化\n",
    "hw_air_mul = tsa.ExponentialSmoothing(\n",
    "    train, trend='add', seasonal='mul', seasonal_periods=12).fit()\n",
    "\n",
    "# 予測\n",
    "pred_mul = hw_air_mul.forecast(len(test))\n",
    "\n",
    "# 予測精度\n",
    "mean_absolute_error(test, pred_mul)"
   ]
  },
  {
   "cell_type": "markdown",
   "id": "7eded2c9-7e7e-4e2e-ba65-aa2c533013a4",
   "metadata": {},
   "source": [
    "### sktimeによる実践的な指数平滑化法"
   ]
  },
  {
   "cell_type": "markdown",
   "id": "7b99a567-4443-4614-8737-d00ddf89d602",
   "metadata": {},
   "source": [
    "#### sktimeの利用"
   ]
  },
  {
   "cell_type": "code",
   "execution_count": 47,
   "id": "8204a174-c940-446f-a370-29f33515c71b",
   "metadata": {},
   "outputs": [],
   "source": [
    "# 予測手法の指定\n",
    "hw_forecaster = ExponentialSmoothing(trend='add', seasonal='add')\n",
    "\n",
    "# データへの当てはめ\n",
    "hw_forecaster.fit(train)\n",
    "\n",
    "# 予測の実施\n",
    "hw_fore_sk = hw_forecaster.predict(fh)"
   ]
  },
  {
   "cell_type": "code",
   "execution_count": 48,
   "id": "980a6304-7d05-4b39-9739-e1ad4303958c",
   "metadata": {},
   "outputs": [
    {
     "data": {
      "text/plain": [
       "0.0"
      ]
     },
     "execution_count": 48,
     "metadata": {},
     "output_type": "execute_result"
    }
   ],
   "source": [
    "# 参考：statsmodelと同じ結果になる\n",
    "np.sum((hw_fore_sk.value - pred) ** 2)"
   ]
  },
  {
   "cell_type": "markdown",
   "id": "381da352-408d-4b2a-836c-1a695e2acf90",
   "metadata": {},
   "source": [
    "#### 精度の高い手法の探索"
   ]
  },
  {
   "cell_type": "code",
   "execution_count": 49,
   "id": "2235aa38-39e3-4e19-b3a2-0be34bea9b9c",
   "metadata": {},
   "outputs": [],
   "source": [
    "# 前処理から予測の選択までを1つのパイプラインにまとめる\n",
    "pipe = TransformedTargetForecaster(\n",
    "    steps=[\n",
    "        ('log', OptionalPassthrough(LogTransformer())),\n",
    "        ('forecaster', MultiplexForecaster(\n",
    "            forecasters=[\n",
    "                ('add', ExponentialSmoothing(trend='add', seasonal='add')),\n",
    "                ('add_damped', ExponentialSmoothing(\n",
    "                    trend='add', seasonal='add', damped_trend=True)),\n",
    "                ('mul', ExponentialSmoothing(trend='add', seasonal='mul')),\n",
    "                ('mul_damped', ExponentialSmoothing(\n",
    "                    trend='add', seasonal='mul', damped_trend=True))\n",
    "            ]\n",
    "        )),\n",
    "    ]\n",
    ")\n",
    "\n",
    "# 対数変換の有無・対象となる予測方法の一覧\n",
    "param_grid = {\n",
    "    'log__passthrough': [True, False],\n",
    "    'forecaster__selected_forecaster': [\n",
    "        'add', 'add_damped', 'mul', 'mul_damped'\n",
    "    ],\n",
    "}\n",
    "\n",
    "# 12時点先予測のCVによってモデルの精度を比較して、最も精度が高い手法を選ぶ\n",
    "cv = ExpandingWindowSplitter(\n",
    "    fh=np.arange(1,13), initial_window=24, step_length=12\n",
    ")\n",
    "\n",
    "# 予測器の作成\n",
    "cv_pipe_forecaster = ForecastingGridSearchCV(\n",
    "    forecaster=pipe, param_grid=param_grid, \n",
    "    cv=cv, scoring=MeanAbsoluteError()\n",
    ")"
   ]
  },
  {
   "cell_type": "code",
   "execution_count": 50,
   "id": "11ea8776-f1e1-476a-a851-37018f44841b",
   "metadata": {},
   "outputs": [
    {
     "data": {
      "text/plain": [
       "{'forecaster__selected_forecaster': 'add', 'log__passthrough': False}"
      ]
     },
     "execution_count": 50,
     "metadata": {},
     "output_type": "execute_result"
    }
   ],
   "source": [
    "# データへの当てはめ\n",
    "cv_pipe_forecaster.fit(train)\n",
    "\n",
    "# CVで判断された最良の予測手法\n",
    "cv_pipe_forecaster.best_params_"
   ]
  },
  {
   "cell_type": "code",
   "execution_count": 51,
   "id": "7d4c8f07-239c-4db8-a636-150e6a102b1f",
   "metadata": {},
   "outputs": [
    {
     "name": "stdout",
     "output_type": "stream",
     "text": [
      "   mean_test_MeanAbsoluteError               params\n",
      "0                    15.946600          [add, True]\n",
      "1                     9.778336         [add, False]\n",
      "2                    16.988803   [add_damped, True]\n",
      "3                    11.627914  [add_damped, False]\n",
      "4                    11.289958          [mul, True]\n",
      "5                    10.083780         [mul, False]\n",
      "6                    13.031329   [mul_damped, True]\n",
      "7                    11.001232  [mul_damped, False]\n"
     ]
    }
   ],
   "source": [
    "# 参考：全ての方式のCVの結果一覧\n",
    "\n",
    "# CVの結果のうち、必要な列だけをコピーする\n",
    "result_df = cv_pipe_forecaster.cv_results_[\n",
    "    ['mean_test_MeanAbsoluteError', 'params']].copy()\n",
    "\n",
    "# パラメータの値だけを取り出して格納する\n",
    "result_df['params'] = result_df['params'].apply(lambda x: list(x.values()))\n",
    "\n",
    "# 結果の確認\n",
    "print(result_df)"
   ]
  },
  {
   "cell_type": "code",
   "execution_count": 52,
   "id": "45a8b2b5-fbff-4b41-a17c-8f25bd8477e0",
   "metadata": {},
   "outputs": [
    {
     "data": {
      "text/plain": [
       "32.86696975874994"
      ]
     },
     "execution_count": 52,
     "metadata": {},
     "output_type": "execute_result"
    }
   ],
   "source": [
    "# 予測の実施\n",
    "best_pred = cv_pipe_forecaster.predict(fh)\n",
    "\n",
    "# 予測精度\n",
    "mean_absolute_error(test, best_pred)"
   ]
  },
  {
   "cell_type": "markdown",
   "id": "6c2c6612-91ba-412d-8bf3-8afdcef02cba",
   "metadata": {},
   "source": [
    "### 指数平滑化法と状態空間モデル"
   ]
  },
  {
   "cell_type": "markdown",
   "id": "52c76f01-f5c1-437c-8670-22a830a94519",
   "metadata": {},
   "source": [
    "### statsmodelsによる実装"
   ]
  },
  {
   "cell_type": "code",
   "execution_count": 53,
   "id": "f6585301-eae8-47e6-8074-d6b1b56cd697",
   "metadata": {},
   "outputs": [
    {
     "data": {
      "text/plain": [
       "21.502929501798196"
      ]
     },
     "execution_count": 53,
     "metadata": {},
     "output_type": "execute_result"
    }
   ],
   "source": [
    "# モデル化\n",
    "hw_ssm = tsa.ETSModel(\n",
    "    train['value'], error='add', trend=\"add\", seasonal=\"add\",\n",
    "    damped_trend=False, seasonal_periods=12).fit()\n",
    "\n",
    "# 予測\n",
    "pred_hw_ssm = hw_ssm.forecast(len(test))\n",
    "\n",
    "# 予測精度\n",
    "mean_absolute_error(test, pred_hw_ssm)"
   ]
  }
 ],
 "metadata": {
  "kernelspec": {
   "display_name": "Python 3 (ipykernel)",
   "language": "python",
   "name": "python3"
  },
  "language_info": {
   "codemirror_mode": {
    "name": "ipython",
    "version": 3
   },
   "file_extension": ".py",
   "mimetype": "text/x-python",
   "name": "python",
   "nbconvert_exporter": "python",
   "pygments_lexer": "ipython3",
   "version": "3.12.4"
  }
 },
 "nbformat": 4,
 "nbformat_minor": 5
}
