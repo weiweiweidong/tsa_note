{
 "cells": [
  {
   "cell_type": "markdown",
   "metadata": {},
   "source": [
    "# 5.1 スクレイピング"
   ]
  },
  {
   "cell_type": "markdown",
   "metadata": {},
   "source": [
    "## 5.1.2 スクレイピング環境の準備\n",
    "\n",
    "```\n",
    "(pydataenv) $ pip install requests==2.28.1\n",
    "(pydataenv) $ pip install beautifulsoup4==4.11.1\n",
    "```\n",
    "\n",
    "* Requests: https://requests.readthedocs.io/\n",
    "* BeautifulSoup4: https://www.crummy.com/software/BeautifulSoup/bs4/doc/"
   ]
  },
  {
   "cell_type": "markdown",
   "metadata": {},
   "source": [
    "## 5.1.3 Webページをダウンロード\n",
    "\n",
    "* SEshop.com https://www.seshop.com/"
   ]
  },
  {
   "cell_type": "code",
   "execution_count": 1,
   "metadata": {},
   "outputs": [
    {
     "name": "stdout",
     "output_type": "stream",
     "text": [
      "<class 'requests.models.Response'>\n",
      "200\n"
     ]
    }
   ],
   "source": [
    "import requests\n",
    "\n",
    "r = requests.get('https://www.seshop.com/')  # URLにアクセス\n",
    "print(type(r))\n",
    "print(r.status_code)  # ステータスコードを確認"
   ]
  },
  {
   "cell_type": "code",
   "execution_count": 2,
   "metadata": {},
   "outputs": [
    {
     "name": "stdout",
     "output_type": "stream",
     "text": [
      "<title>SEshop｜ 翔泳社の本・電子書籍通販サイト</title>\n",
      "<h2>新刊書籍 <span class=\"pull-right links\"><a href=\"/product/1/\"><span class=\"glyphicon glyphicon-chevron-right\"></span> 一覧を見る</a></span></h2>\n",
      "<h2>あなたへのおすすめ</h2>\n",
      "<h2>書籍ランキング <span class=\"pull-right links\"><a href=\"/ranking/1/\"><span class=\"glyphicon glyphicon-chevron-right\"></span> その他を見る</a></span></h2>\n",
      "<h2>電子書籍ランキング<span class=\"pull-right links\"><a href=\"/ranking/327/\"><span class=\"glyphicon glyphicon-chevron-right\"></span> その他を見る</a></span></h2>\n",
      "<h2>セミナー・イベント <span class=\"pull-right links\"><a href=\"/product/406/\"><span class=\"glyphicon glyphicon-chevron-right\"></span> 一覧を見る</a></span></h2>\n",
      "<h2>商品カテゴリー</h2>\n",
      "<h2>人気商品ランキング</h2>\n",
      "<h2>キャンペーン・特集</h2>\n",
      "<h2>新着記事</h2>\n"
     ]
    }
   ],
   "source": [
    "text = r.text  # HTMLのソースコードを取得する\n",
    "for line in text.split('\\n'):\n",
    "    if'<title>' in line or '<h2>' in line:\n",
    "        print(line.strip())"
   ]
  },
  {
   "cell_type": "markdown",
   "metadata": {},
   "source": [
    "## 5.1.4 Webページから要素を抜き出す"
   ]
  },
  {
   "cell_type": "code",
   "execution_count": 3,
   "metadata": {},
   "outputs": [
    {
     "name": "stdout",
     "output_type": "stream",
     "text": [
      "<title>SEshop｜ 翔泳社の本・電子書籍通販サイト</title>\n",
      "<h2>新刊書籍 <span class=\"pull-right links\"><a href=\"/product/1/\"><span class=\"glyphicon glyphicon-chevron-right\"></span> 一覧を見る</a></span></h2>\n",
      "/product/1/\n"
     ]
    }
   ],
   "source": [
    "from bs4 import BeautifulSoup\n",
    "\n",
    "# HTMLを解析したBeautifulSoupオブジェクトを生成\n",
    "soup = BeautifulSoup(text, 'html.parser')\n",
    "print(soup.title)  # <title> タグの情報を取得\n",
    "print(soup.h2)  # <h2> タグの情報を取得\n",
    "# h2タグの中のaタグのhref属性\n",
    "print(soup.h2.a['href'])"
   ]
  },
  {
   "cell_type": "code",
   "execution_count": 4,
   "metadata": {},
   "outputs": [
    {
     "name": "stdout",
     "output_type": "stream",
     "text": [
      "aタグの数: 239\n",
      "タイトル: \n",
      "リンク: /\n",
      "タイトル:  会員登録\n",
      "リンク: https://www.seshop.com/regist/\n",
      "タイトル:  ログイン\n",
      "リンク: #modalLogin\n",
      "タイトル:  ヘルプ\n",
      "リンク: /help\n",
      "タイトル: 会員登録\n",
      "リンク: https://www.seshop.com/regist\n"
     ]
    }
   ],
   "source": [
    "atags = soup.find_all('a')  # すべてのaタグを取得\n",
    "print('aタグの数:', len(atags))  # aタグの数を取得\n",
    "for atag in atags[:5]:\n",
    "    print('タイトル:', atag.text)  # aタグのテキストを取得\n",
    "    print('リンク:', atag['href'])  # aタグのリンクを取得"
   ]
  },
  {
   "cell_type": "markdown",
   "metadata": {},
   "source": [
    "## 5.1.5 記事の一覧を抜き出す\n",
    "\n",
    "* Pythonの書籍一覧: https://www.seshop.com/product/616"
   ]
  },
  {
   "cell_type": "code",
   "execution_count": 5,
   "metadata": {},
   "outputs": [],
   "source": [
    "from datetime import datetime\n",
    "\n",
    "import requests\n",
    "from bs4 import BeautifulSoup\n",
    "\n",
    "r = requests.get(\"https://www.seshop.com/product/616\")\n",
    "soup = BeautifulSoup(r.text, \"html.parser\")\n",
    "\n",
    "books = []  # 各書籍の情報を格納するリスト\n",
    "\n",
    "# CSSセレクターで <div class=\"list\">の中の<div class=\"inner\"> を取得\n",
    "divs = soup.select(\"div.list div.inner\")\n",
    "for div in divs:\n",
    "    img_url = div.find(\"img\")[\"src\"]\n",
    "    # 日付の文字列を取得\n",
    "    day = div.find(\"span\", class_=\"date\").text.strip()\n",
    "    day = day.replace(\"発売\", \"\")\n",
    "    # 日付をdatetimeに変換\n",
    "    published = datetime.strptime(day, \"%Y.%m.%d\")\n",
    "    \n",
    "    div_txt = div.find(\"div\", class_=\"txt\")\n",
    "    a_tag = div_txt.find(\"a\")  # aタグを取得\n",
    "    title = a_tag.text.strip()  # 書籍タイトルを取得\n",
    "    url = a_tag[\"href\"]  # 書籍URLを取得\n",
    "    \n",
    "    # 販売価格を取得\n",
    "    price_s = div_txt.find(\"span\", class_=\"sale-price\").parent.text\n",
    "    price_s = price_s.strip()\n",
    "    price_s = price_s.replace(\"円（税込）送料無料\", \"\")\n",
    "    price_s = price_s.replace(\",\", \"\")\n",
    "    price = int(price_s)\n",
    "    \n",
    "    book = {\n",
    "        \"title\": title,\n",
    "        \"img_url\": img_url,\n",
    "        \"url\": url,\n",
    "        \"price\": price,\n",
    "        \"published\": published,\n",
    "    }\n",
    "    books.append(book)"
   ]
  },
  {
   "cell_type": "code",
   "execution_count": 6,
   "metadata": {},
   "outputs": [
    {
     "data": {
      "text/plain": [
       "[{'title': 'Pythonによるあたらしいデータ分析の教科書 第2版',\n",
       "  'img_url': '/static/images/product/25331/L.png',\n",
       "  'url': '/product/detail/25331',\n",
       "  'price': 2838,\n",
       "  'published': datetime.datetime(2022, 10, 24, 0, 0)},\n",
       " {'title': 'PyTorchで作る！深層学習モデル・AI アプリ開発入門',\n",
       "  'img_url': '/static/images/product/25063/L.png',\n",
       "  'url': '/product/detail/25063',\n",
       "  'price': 3520,\n",
       "  'published': datetime.datetime(2022, 9, 5, 0, 0)},\n",
       " {'title': 'テスト駆動Python 第2版',\n",
       "  'img_url': '/static/images/product/25262/L.png',\n",
       "  'url': '/product/detail/25262',\n",
       "  'price': 3300,\n",
       "  'published': datetime.datetime(2022, 8, 30, 0, 0)}]"
      ]
     },
     "execution_count": 6,
     "metadata": {},
     "output_type": "execute_result"
    }
   ],
   "source": [
    "books[:3]"
   ]
  },
  {
   "cell_type": "code",
   "execution_count": 7,
   "metadata": {},
   "outputs": [
    {
     "data": {
      "text/html": [
       "<div>\n",
       "<style scoped>\n",
       "    .dataframe tbody tr th:only-of-type {\n",
       "        vertical-align: middle;\n",
       "    }\n",
       "\n",
       "    .dataframe tbody tr th {\n",
       "        vertical-align: top;\n",
       "    }\n",
       "\n",
       "    .dataframe thead th {\n",
       "        text-align: right;\n",
       "    }\n",
       "</style>\n",
       "<table border=\"1\" class=\"dataframe\">\n",
       "  <thead>\n",
       "    <tr style=\"text-align: right;\">\n",
       "      <th></th>\n",
       "      <th>title</th>\n",
       "      <th>img_url</th>\n",
       "      <th>url</th>\n",
       "      <th>price</th>\n",
       "      <th>published</th>\n",
       "    </tr>\n",
       "  </thead>\n",
       "  <tbody>\n",
       "    <tr>\n",
       "      <th>0</th>\n",
       "      <td>Pythonによるあたらしいデータ分析の教科書 第2版</td>\n",
       "      <td>/static/images/product/25331/L.png</td>\n",
       "      <td>/product/detail/25331</td>\n",
       "      <td>2838</td>\n",
       "      <td>2022-10-24</td>\n",
       "    </tr>\n",
       "    <tr>\n",
       "      <th>1</th>\n",
       "      <td>PyTorchで作る！深層学習モデル・AI アプリ開発入門</td>\n",
       "      <td>/static/images/product/25063/L.png</td>\n",
       "      <td>/product/detail/25063</td>\n",
       "      <td>3520</td>\n",
       "      <td>2022-09-05</td>\n",
       "    </tr>\n",
       "    <tr>\n",
       "      <th>2</th>\n",
       "      <td>テスト駆動Python 第2版</td>\n",
       "      <td>/static/images/product/25262/L.png</td>\n",
       "      <td>/product/detail/25262</td>\n",
       "      <td>3300</td>\n",
       "      <td>2022-08-30</td>\n",
       "    </tr>\n",
       "    <tr>\n",
       "      <th>3</th>\n",
       "      <td>Python1年生 第2版  体験してわかる！会話でまなべる！プログラミングのしくみ</td>\n",
       "      <td>/static/images/product/25005/L.png</td>\n",
       "      <td>/product/detail/25005</td>\n",
       "      <td>2178</td>\n",
       "      <td>2022-08-04</td>\n",
       "    </tr>\n",
       "    <tr>\n",
       "      <th>4</th>\n",
       "      <td>Pythonで動かして学ぶ！あたらしい機械学習の教科書 第3版</td>\n",
       "      <td>/static/images/product/25020/L.png</td>\n",
       "      <td>/product/detail/25020</td>\n",
       "      <td>2970</td>\n",
       "      <td>2022-07-19</td>\n",
       "    </tr>\n",
       "  </tbody>\n",
       "</table>\n",
       "</div>"
      ],
      "text/plain": [
       "                                        title  \\\n",
       "0                 Pythonによるあたらしいデータ分析の教科書 第2版   \n",
       "1               PyTorchで作る！深層学習モデル・AI アプリ開発入門   \n",
       "2                             テスト駆動Python 第2版   \n",
       "3  Python1年生 第2版  体験してわかる！会話でまなべる！プログラミングのしくみ   \n",
       "4             Pythonで動かして学ぶ！あたらしい機械学習の教科書 第3版   \n",
       "\n",
       "                              img_url                    url  price  published  \n",
       "0  /static/images/product/25331/L.png  /product/detail/25331   2838 2022-10-24  \n",
       "1  /static/images/product/25063/L.png  /product/detail/25063   3520 2022-09-05  \n",
       "2  /static/images/product/25262/L.png  /product/detail/25262   3300 2022-08-30  \n",
       "3  /static/images/product/25005/L.png  /product/detail/25005   2178 2022-08-04  \n",
       "4  /static/images/product/25020/L.png  /product/detail/25020   2970 2022-07-19  "
      ]
     },
     "execution_count": 7,
     "metadata": {},
     "output_type": "execute_result"
    }
   ],
   "source": [
    "import pandas as pd\n",
    "\n",
    "df = pd.DataFrame(books)  # 辞書をDataFrameに変換\n",
    "df.head()"
   ]
  },
  {
   "cell_type": "markdown",
   "metadata": {},
   "source": [
    "## 5.1.6 スクレイピングで気をつけること\n",
    "\n",
    "* Robots.txtの仕様: https://developers.google.com/search/docs/crawling-indexing/robots/intro"
   ]
  },
  {
   "cell_type": "markdown",
   "metadata": {},
   "source": [
    "## 5.1.7 次のステップ\n",
    "\n",
    "* Selenium: https://www.seleniumhq.org/\n",
    "* Scrapy: https://scrapy.org/"
   ]
  }
 ],
 "metadata": {
  "kernelspec": {
   "display_name": "Python 3 (ipykernel)",
   "language": "python",
   "name": "python3"
  },
  "language_info": {
   "codemirror_mode": {
    "name": "ipython",
    "version": 3
   },
   "file_extension": ".py",
   "mimetype": "text/x-python",
   "name": "python",
   "nbconvert_exporter": "python",
   "pygments_lexer": "ipython3",
   "version": "3.11.7"
  }
 },
 "nbformat": 4,
 "nbformat_minor": 4
}
