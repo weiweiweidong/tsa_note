{
 "cells": [
  {
   "cell_type": "markdown",
   "id": "a683362d-ee25-48f5-8d0d-12c169b92996",
   "metadata": {},
   "source": [
    "# 第2部　Pythonによる時系列分析の基本\n",
    "\n",
    "## 第2章　Pythonの基本"
   ]
  },
  {
   "cell_type": "markdown",
   "id": "91b7212e-7a79-493f-827b-529e408ab24b",
   "metadata": {
    "tags": []
   },
   "source": [
    "### 基本的な演算"
   ]
  },
  {
   "cell_type": "code",
   "execution_count": 1,
   "id": "bce8acd3-cead-4fca-a023-1d989490e6ea",
   "metadata": {},
   "outputs": [
    {
     "data": {
      "text/plain": [
       "2"
      ]
     },
     "execution_count": 1,
     "metadata": {},
     "output_type": "execute_result"
    }
   ],
   "source": [
    "# 足し算\n",
    "1 + 1"
   ]
  },
  {
   "cell_type": "code",
   "execution_count": 2,
   "id": "19344287-c165-4f8f-8808-2abb8db9e7e9",
   "metadata": {},
   "outputs": [
    {
     "data": {
      "text/plain": [
       "2"
      ]
     },
     "execution_count": 2,
     "metadata": {},
     "output_type": "execute_result"
    }
   ],
   "source": [
    "# 引き算\n",
    "3 - 1"
   ]
  },
  {
   "cell_type": "code",
   "execution_count": 3,
   "id": "33052e15-6c88-4e46-bcb9-d457ee6a13f3",
   "metadata": {},
   "outputs": [
    {
     "data": {
      "text/plain": [
       "6"
      ]
     },
     "execution_count": 3,
     "metadata": {},
     "output_type": "execute_result"
    }
   ],
   "source": [
    "# 掛け算\n",
    "2 * 3"
   ]
  },
  {
   "cell_type": "code",
   "execution_count": 4,
   "id": "e970c1d8-c745-4603-951c-100384171548",
   "metadata": {},
   "outputs": [
    {
     "data": {
      "text/plain": [
       "2.5"
      ]
     },
     "execution_count": 4,
     "metadata": {},
     "output_type": "execute_result"
    }
   ],
   "source": [
    "# 割り算\n",
    "5 / 2"
   ]
  },
  {
   "cell_type": "code",
   "execution_count": 5,
   "id": "0f983422-a269-467c-ac6f-d92e20918ad0",
   "metadata": {},
   "outputs": [
    {
     "data": {
      "text/plain": [
       "16"
      ]
     },
     "execution_count": 5,
     "metadata": {},
     "output_type": "execute_result"
    }
   ],
   "source": [
    "# 累乗\n",
    "2 ** 4"
   ]
  },
  {
   "cell_type": "code",
   "execution_count": 6,
   "id": "0f0a79b3-a982-4db5-bd32-04611ede564e",
   "metadata": {},
   "outputs": [
    {
     "data": {
      "text/plain": [
       "1.4142135623730951"
      ]
     },
     "execution_count": 6,
     "metadata": {},
     "output_type": "execute_result"
    }
   ],
   "source": [
    "# やや複雑な計算\n",
    "2 ** (1 / 2)"
   ]
  },
  {
   "cell_type": "markdown",
   "id": "c138bbf6-97d3-4a75-8277-d76fff19ccae",
   "metadata": {
    "tags": []
   },
   "source": [
    "### 文字列"
   ]
  },
  {
   "cell_type": "code",
   "execution_count": 7,
   "id": "f49aaf7c-2208-4c78-b3dd-38a1a3d74c7e",
   "metadata": {},
   "outputs": [
    {
     "data": {
      "text/plain": [
       "'A'"
      ]
     },
     "execution_count": 7,
     "metadata": {},
     "output_type": "execute_result"
    }
   ],
   "source": [
    "'A'"
   ]
  },
  {
   "cell_type": "code",
   "execution_count": 8,
   "id": "d42413d4-b9df-4944-871d-85d4436950e5",
   "metadata": {},
   "outputs": [
    {
     "data": {
      "text/plain": [
       "'A'"
      ]
     },
     "execution_count": 8,
     "metadata": {},
     "output_type": "execute_result"
    }
   ],
   "source": [
    "\"A\""
   ]
  },
  {
   "cell_type": "markdown",
   "id": "8623e545-cfdc-4573-abdf-c8d0027a4e8d",
   "metadata": {
    "tags": []
   },
   "source": [
    "### 変数"
   ]
  },
  {
   "cell_type": "markdown",
   "id": "6a64eb7c-597a-449b-bf70-fdfcfad30047",
   "metadata": {
    "tags": []
   },
   "source": [
    "#### 変数の基本"
   ]
  },
  {
   "cell_type": "code",
   "execution_count": 9,
   "id": "909f8024-1fe4-48af-b04e-73f7b6be554a",
   "metadata": {},
   "outputs": [
    {
     "data": {
      "text/plain": [
       "5"
      ]
     },
     "execution_count": 9,
     "metadata": {},
     "output_type": "execute_result"
    }
   ],
   "source": [
    "x = 5\n",
    "x"
   ]
  },
  {
   "cell_type": "code",
   "execution_count": 10,
   "id": "719e99bc-cf7a-4933-9c67-5052b21515aa",
   "metadata": {},
   "outputs": [
    {
     "data": {
      "text/plain": [
       "8"
      ]
     },
     "execution_count": 10,
     "metadata": {},
     "output_type": "execute_result"
    }
   ],
   "source": [
    "x + 3"
   ]
  },
  {
   "cell_type": "markdown",
   "id": "c2e78fa0-69c1-4122-b95e-99f6af0a23af",
   "metadata": {
    "tags": []
   },
   "source": [
    "#### 複数の変数の定義"
   ]
  },
  {
   "cell_type": "code",
   "execution_count": 11,
   "id": "b95c269d-c7c5-42e3-98da-8a37313a2352",
   "metadata": {},
   "outputs": [],
   "source": [
    "a, b = 1, 2"
   ]
  },
  {
   "cell_type": "code",
   "execution_count": 12,
   "id": "25db8a1d-ecde-49e1-95d1-9d85dc22d01f",
   "metadata": {},
   "outputs": [
    {
     "data": {
      "text/plain": [
       "1"
      ]
     },
     "execution_count": 12,
     "metadata": {},
     "output_type": "execute_result"
    }
   ],
   "source": [
    "a"
   ]
  },
  {
   "cell_type": "code",
   "execution_count": 13,
   "id": "974cbb6b-1ca6-4661-ba3b-228f01bd2f6a",
   "metadata": {},
   "outputs": [
    {
     "data": {
      "text/plain": [
       "2"
      ]
     },
     "execution_count": 13,
     "metadata": {},
     "output_type": "execute_result"
    }
   ],
   "source": [
    "b"
   ]
  },
  {
   "cell_type": "markdown",
   "id": "105b9adf-e7d1-4d56-898f-e0861a17885b",
   "metadata": {
    "tags": []
   },
   "source": [
    "### 関数"
   ]
  },
  {
   "cell_type": "markdown",
   "id": "75b6746c-17e4-48c7-82b9-2091d860c6a6",
   "metadata": {
    "tags": []
   },
   "source": [
    "#### 関数の作成"
   ]
  },
  {
   "cell_type": "code",
   "execution_count": 14,
   "id": "b3a51fca-c4e0-4797-b2dd-4a11075ec6dc",
   "metadata": {},
   "outputs": [],
   "source": [
    "def my_func(hikisu):\n",
    "    return hikisu * 2"
   ]
  },
  {
   "cell_type": "code",
   "execution_count": 15,
   "id": "82850057-a39b-4c0a-b9b7-2cc5b909c444",
   "metadata": {},
   "outputs": [
    {
     "data": {
      "text/plain": [
       "10"
      ]
     },
     "execution_count": 15,
     "metadata": {},
     "output_type": "execute_result"
    }
   ],
   "source": [
    "my_func(x)"
   ]
  },
  {
   "cell_type": "markdown",
   "id": "95b186ae-d5cd-459d-8bdd-ad0d5e8ee89d",
   "metadata": {
    "tags": []
   },
   "source": [
    "#### 頻繁に使う関数"
   ]
  },
  {
   "cell_type": "code",
   "execution_count": 16,
   "id": "729e7951-e4e8-41d6-94fa-ce6c74ed4535",
   "metadata": {},
   "outputs": [
    {
     "name": "stdout",
     "output_type": "stream",
     "text": [
      "足し算　1 + 2 =  3\n",
      "引き算　1 - 2 =  -1\n"
     ]
    }
   ],
   "source": [
    "# print関数\n",
    "print('足し算　1 + 2 = ', 1 + 2)\n",
    "print('引き算　1 - 2 = ', 1 - 2)"
   ]
  },
  {
   "cell_type": "code",
   "execution_count": 17,
   "id": "52174cac-7c9a-45c0-805c-7249fe149b36",
   "metadata": {},
   "outputs": [
    {
     "data": {
      "text/plain": [
       "2.35"
      ]
     },
     "execution_count": 17,
     "metadata": {},
     "output_type": "execute_result"
    }
   ],
   "source": [
    "# round関数\n",
    "round(2.345, 2)     # 把数字四舍五入到小数点后 2 位"
   ]
  },
  {
   "cell_type": "code",
   "execution_count": 18,
   "id": "40ade05b-e365-4ec6-85cd-7ca06bd10d47",
   "metadata": {},
   "outputs": [
    {
     "name": "stdout",
     "output_type": "stream",
     "text": [
      "Help on built-in function round in module builtins:\n",
      "\n",
      "round(number, ndigits=None)\n",
      "    Round a number to a given precision in decimal digits.\n",
      "\n",
      "    The return value is an integer if ndigits is omitted or None.  Otherwise\n",
      "    the return value has the same type as the number.  ndigits may be negative.\n",
      "\n"
     ]
    }
   ],
   "source": [
    "help(round)"
   ]
  },
  {
   "cell_type": "markdown",
   "id": "9e6f7078-38a3-42f7-876c-6aa2b0a0acb3",
   "metadata": {},
   "source": [
    "### type関数とdir関数の利用"
   ]
  },
  {
   "cell_type": "code",
   "execution_count": 19,
   "id": "87ac1b11-d28e-42a0-b738-f86b51408459",
   "metadata": {},
   "outputs": [
    {
     "data": {
      "text/plain": [
       "str"
      ]
     },
     "execution_count": 19,
     "metadata": {},
     "output_type": "execute_result"
    }
   ],
   "source": [
    "type('ABC')     # 查看输入变量的类型"
   ]
  },
  {
   "cell_type": "code",
   "execution_count": 20,
   "id": "69d950ac-1ab5-475d-b8c8-e5e430677029",
   "metadata": {},
   "outputs": [
    {
     "data": {
      "text/plain": [
       "['__add__',\n",
       " '__class__',\n",
       " '__contains__',\n",
       " '__delattr__',\n",
       " '__dir__',\n",
       " '__doc__',\n",
       " '__eq__',\n",
       " '__format__',\n",
       " '__ge__',\n",
       " '__getattribute__',\n",
       " '__getitem__',\n",
       " '__getnewargs__',\n",
       " '__getstate__',\n",
       " '__gt__',\n",
       " '__hash__',\n",
       " '__init__',\n",
       " '__init_subclass__',\n",
       " '__iter__',\n",
       " '__le__',\n",
       " '__len__',\n",
       " '__lt__',\n",
       " '__mod__',\n",
       " '__mul__',\n",
       " '__ne__',\n",
       " '__new__',\n",
       " '__reduce__',\n",
       " '__reduce_ex__',\n",
       " '__repr__',\n",
       " '__rmod__',\n",
       " '__rmul__',\n",
       " '__setattr__',\n",
       " '__sizeof__',\n",
       " '__str__',\n",
       " '__subclasshook__',\n",
       " 'capitalize',\n",
       " 'casefold',\n",
       " 'center',\n",
       " 'count',\n",
       " 'encode',\n",
       " 'endswith',\n",
       " 'expandtabs',\n",
       " 'find',\n",
       " 'format',\n",
       " 'format_map',\n",
       " 'index',\n",
       " 'isalnum',\n",
       " 'isalpha',\n",
       " 'isascii',\n",
       " 'isdecimal',\n",
       " 'isdigit',\n",
       " 'isidentifier',\n",
       " 'islower',\n",
       " 'isnumeric',\n",
       " 'isprintable',\n",
       " 'isspace',\n",
       " 'istitle',\n",
       " 'isupper',\n",
       " 'join',\n",
       " 'ljust',\n",
       " 'lower',\n",
       " 'lstrip',\n",
       " 'maketrans',\n",
       " 'partition',\n",
       " 'removeprefix',\n",
       " 'removesuffix',\n",
       " 'replace',\n",
       " 'rfind',\n",
       " 'rindex',\n",
       " 'rjust',\n",
       " 'rpartition',\n",
       " 'rsplit',\n",
       " 'rstrip',\n",
       " 'split',\n",
       " 'splitlines',\n",
       " 'startswith',\n",
       " 'strip',\n",
       " 'swapcase',\n",
       " 'title',\n",
       " 'translate',\n",
       " 'upper',\n",
       " 'zfill']"
      ]
     },
     "execution_count": 20,
     "metadata": {},
     "output_type": "execute_result"
    }
   ],
   "source": [
    "dir('ABC')      # 查看当前变量有哪些方法可以使用"
   ]
  },
  {
   "cell_type": "code",
   "execution_count": 21,
   "id": "fd358f97-c8db-4843-9e8f-c0423a21bfcb",
   "metadata": {},
   "outputs": [
    {
     "data": {
      "text/plain": [
       "'abc'"
      ]
     },
     "execution_count": 21,
     "metadata": {},
     "output_type": "execute_result"
    }
   ],
   "source": [
    "'ABC'.lower()       # 字符串转换为小写"
   ]
  },
  {
   "cell_type": "code",
   "execution_count": 22,
   "id": "4863aace-351b-4d3a-9358-232aa8528715",
   "metadata": {},
   "outputs": [
    {
     "name": "stdout",
     "output_type": "stream",
     "text": [
      "Help on built-in function lower:\n",
      "\n",
      "lower() method of builtins.str instance\n",
      "    Return a copy of the string converted to lowercase.\n",
      "\n"
     ]
    }
   ],
   "source": [
    "help('ABC'.lower)   # 输出当前方法的文档"
   ]
  },
  {
   "cell_type": "markdown",
   "id": "76ba3d26-09c5-4dc2-a162-2da3f575afd6",
   "metadata": {
    "tags": []
   },
   "source": [
    "### list"
   ]
  },
  {
   "cell_type": "markdown",
   "id": "ebaa8753-c7fb-49b7-a147-b842126029b4",
   "metadata": {
    "tags": []
   },
   "source": [
    "#### listの基本"
   ]
  },
  {
   "cell_type": "code",
   "execution_count": 23,
   "id": "5fea796d-ca29-402e-b393-d9cc34888687",
   "metadata": {},
   "outputs": [
    {
     "data": {
      "text/plain": [
       "[1, 2, 3, 4]"
      ]
     },
     "execution_count": 23,
     "metadata": {},
     "output_type": "execute_result"
    }
   ],
   "source": [
    "my_list = [1, 2, 3, 4]\n",
    "my_list"
   ]
  },
  {
   "cell_type": "code",
   "execution_count": 24,
   "id": "7d8a8d62-7186-45c7-8566-94f209ddd3fe",
   "metadata": {},
   "outputs": [
    {
     "data": {
      "text/plain": [
       "1"
      ]
     },
     "execution_count": 24,
     "metadata": {},
     "output_type": "execute_result"
    }
   ],
   "source": [
    "my_list[0]"
   ]
  },
  {
   "cell_type": "markdown",
   "id": "ade13173-553d-4c83-8a13-2be56294048c",
   "metadata": {
    "tags": []
   },
   "source": [
    "#### listに対する関数の適用"
   ]
  },
  {
   "cell_type": "code",
   "execution_count": 25,
   "id": "82db74a1-a3bf-4700-8953-97e986a70c17",
   "metadata": {},
   "outputs": [
    {
     "data": {
      "text/plain": [
       "4"
      ]
     },
     "execution_count": 25,
     "metadata": {},
     "output_type": "execute_result"
    }
   ],
   "source": [
    "len(my_list)"
   ]
  },
  {
   "cell_type": "code",
   "execution_count": 26,
   "id": "aca68e89-2099-431b-89be-a89b27f35475",
   "metadata": {},
   "outputs": [
    {
     "data": {
      "text/plain": [
       "10"
      ]
     },
     "execution_count": 26,
     "metadata": {},
     "output_type": "execute_result"
    }
   ],
   "source": [
    "sum(my_list)"
   ]
  },
  {
   "cell_type": "markdown",
   "id": "cdd286f8-fadd-4ec9-9e0f-7498ac89a3aa",
   "metadata": {
    "tags": []
   },
   "source": [
    "### 辞書型"
   ]
  },
  {
   "cell_type": "code",
   "execution_count": 27,
   "id": "95543e1a-44a0-4b70-a636-db20cfc01273",
   "metadata": {},
   "outputs": [
    {
     "data": {
      "text/plain": [
       "{'A': 3, 'B': 7}"
      ]
     },
     "execution_count": 27,
     "metadata": {},
     "output_type": "execute_result"
    }
   ],
   "source": [
    "my_dict = {\n",
    "    'A':3,\n",
    "    'B':7\n",
    "}\n",
    "my_dict"
   ]
  },
  {
   "cell_type": "code",
   "execution_count": 28,
   "id": "6e3a951c-3797-4b7e-853a-d6fba58deb01",
   "metadata": {},
   "outputs": [
    {
     "data": {
      "text/plain": [
       "3"
      ]
     },
     "execution_count": 28,
     "metadata": {},
     "output_type": "execute_result"
    }
   ],
   "source": [
    "my_dict['A']"
   ]
  },
  {
   "cell_type": "markdown",
   "id": "08f98776-5ae4-4f14-b395-7d3c14d4c094",
   "metadata": {
    "tags": []
   },
   "source": [
    "### for構文"
   ]
  },
  {
   "cell_type": "code",
   "execution_count": 29,
   "id": "2023c1a6-4d4d-45da-8113-64c8ab264518",
   "metadata": {},
   "outputs": [
    {
     "name": "stdout",
     "output_type": "stream",
     "text": [
      "0\n",
      "1\n",
      "2\n"
     ]
    }
   ],
   "source": [
    "for i in range(0, 3):\n",
    "    print(i)"
   ]
  },
  {
   "cell_type": "code",
   "execution_count": 30,
   "id": "1ad8a64f-e083-4242-983b-b977f07b8fdc",
   "metadata": {},
   "outputs": [
    {
     "name": "stdout",
     "output_type": "stream",
     "text": [
      "1\n",
      "3\n",
      "5\n",
      "7\n"
     ]
    }
   ],
   "source": [
    "for i in [1, 3, 5, 7]:\n",
    "    print(i)"
   ]
  },
  {
   "cell_type": "markdown",
   "id": "ef1dd86a-d1ff-414e-9f19-e03313c954b1",
   "metadata": {
    "tags": []
   },
   "source": [
    "### if構文"
   ]
  },
  {
   "cell_type": "code",
   "execution_count": 31,
   "id": "9dfdd032-650a-4e90-a194-d69a4ebab5d2",
   "metadata": {},
   "outputs": [],
   "source": [
    "def check_num(data):\n",
    "    if(data < 0):\n",
    "        return '0未満です'\n",
    "    else:\n",
    "        return '0以上です'"
   ]
  },
  {
   "cell_type": "code",
   "execution_count": 32,
   "id": "2a0c821a-d431-4145-94ce-91f73ddad5c8",
   "metadata": {},
   "outputs": [
    {
     "name": "stdout",
     "output_type": "stream",
     "text": [
      "i = -2 の判別結果 0未満です\n",
      "i = -1 の判別結果 0未満です\n",
      "i = 0 の判別結果 0以上です\n",
      "i = 1 の判別結果 0以上です\n"
     ]
    }
   ],
   "source": [
    "for i in range(-2, 2):\n",
    "    print('i =', i, 'の判別結果', check_num(i))"
   ]
  },
  {
   "cell_type": "markdown",
   "id": "8c771715-8ce6-4bcd-a890-7081a4d69b36",
   "metadata": {
    "tags": []
   },
   "source": [
    "### numpyの利用"
   ]
  },
  {
   "cell_type": "code",
   "execution_count": 33,
   "id": "5e7c9286-4f48-4946-8d4a-1eccfbeac054",
   "metadata": {},
   "outputs": [],
   "source": [
    "import numpy as np"
   ]
  },
  {
   "cell_type": "markdown",
   "id": "d92bb1f0-8755-40d2-a7d9-b108ce1b32f9",
   "metadata": {
    "tags": []
   },
   "source": [
    "#### ndarray"
   ]
  },
  {
   "cell_type": "code",
   "execution_count": 34,
   "id": "2ca36629-89fc-4f3a-822f-7ac8aa3f5cb2",
   "metadata": {},
   "outputs": [
    {
     "data": {
      "text/plain": [
       "array([1, 2, 3, 4])"
      ]
     },
     "execution_count": 34,
     "metadata": {},
     "output_type": "execute_result"
    }
   ],
   "source": [
    "my_array = np.array([1,2,3,4])\n",
    "my_array"
   ]
  },
  {
   "cell_type": "markdown",
   "id": "d22a266d-75f2-4209-a9f2-d905b5f8732b",
   "metadata": {
    "tags": []
   },
   "source": [
    "#### numpyが提供するndarrayを作る関数"
   ]
  },
  {
   "cell_type": "code",
   "execution_count": 35,
   "id": "a6560709-c130-470e-96a8-c4abfb441796",
   "metadata": {},
   "outputs": [
    {
     "data": {
      "text/plain": [
       "array([0., 0., 0., 0.])"
      ]
     },
     "execution_count": 35,
     "metadata": {},
     "output_type": "execute_result"
    }
   ],
   "source": [
    "np.zeros(4)"
   ]
  },
  {
   "cell_type": "code",
   "execution_count": 36,
   "id": "bc0193d6-efd7-4d8e-8777-12ba3980f283",
   "metadata": {},
   "outputs": [
    {
     "data": {
      "text/plain": [
       "array([0, 0, 0, 0])"
      ]
     },
     "execution_count": 36,
     "metadata": {},
     "output_type": "execute_result"
    }
   ],
   "source": [
    "np.tile(0, 4)       # 类比于贴瓷砖。 np.tile(1,3)   np.tile([1,2],2)   "
   ]
  },
  {
   "cell_type": "code",
   "execution_count": 37,
   "id": "706a4369-12b7-47e7-8da3-a1c14c10f4ec",
   "metadata": {},
   "outputs": [
    {
     "data": {
      "text/plain": [
       "array([0. , 0.1, 0.2, 0.3, 0.4, 0.5, 0.6, 0.7])"
      ]
     },
     "execution_count": 37,
     "metadata": {},
     "output_type": "execute_result"
    }
   ],
   "source": [
    "np.arange(0, 0.8, 0.1)      # 在[0,0.8)区间内，按照0.1的间隔生成 ndarray"
   ]
  },
  {
   "cell_type": "markdown",
   "id": "b08edd52-4aab-4410-91e1-d84834f1f178",
   "metadata": {
    "tags": []
   },
   "source": [
    "#### numpyが提供する関数の利用"
   ]
  },
  {
   "cell_type": "code",
   "execution_count": 38,
   "id": "45ed2a5e-8eb8-4e5f-a77b-3e3ab20352d2",
   "metadata": {},
   "outputs": [
    {
     "data": {
      "text/plain": [
       "10"
      ]
     },
     "execution_count": 38,
     "metadata": {},
     "output_type": "execute_result"
    }
   ],
   "source": [
    "np.sum(my_array)"
   ]
  },
  {
   "cell_type": "code",
   "execution_count": 39,
   "id": "6a72a4d7-67e1-4ecc-98cd-c0367ee51e92",
   "metadata": {},
   "outputs": [
    {
     "data": {
      "text/plain": [
       "array([ 1,  3,  6, 10])"
      ]
     },
     "execution_count": 39,
     "metadata": {},
     "output_type": "execute_result"
    }
   ],
   "source": [
    "np.cumsum(my_array)     # 累加运算（就是前缀和）"
   ]
  },
  {
   "cell_type": "code",
   "execution_count": 40,
   "id": "9699170c-9dfc-4b5e-8d46-512698319529",
   "metadata": {},
   "outputs": [
    {
     "data": {
      "text/plain": [
       "array([0.       , 1.       , 1.5849625, 2.       ])"
      ]
     },
     "execution_count": 40,
     "metadata": {},
     "output_type": "execute_result"
    }
   ],
   "source": [
    "np.log2(my_array)       # 以 2 为底的对数运算"
   ]
  },
  {
   "cell_type": "code",
   "execution_count": 41,
   "id": "6aed3f77-8eb9-41d3-8d43-7e1840e3e722",
   "metadata": {},
   "outputs": [
    {
     "data": {
      "text/plain": [
       "array([0.        , 0.69314718, 1.09861229, 1.38629436])"
      ]
     },
     "execution_count": 41,
     "metadata": {},
     "output_type": "execute_result"
    }
   ],
   "source": [
    "np.log(my_array)        # 以 e 为底的对数运算"
   ]
  },
  {
   "cell_type": "markdown",
   "id": "6cc1a435-f3fa-4aaa-b6d4-a0ff2c7c6f12",
   "metadata": {
    "tags": []
   },
   "source": [
    "### pandasの利用"
   ]
  },
  {
   "cell_type": "code",
   "execution_count": 42,
   "id": "f93dca9a-32fa-4f2b-90db-5f54e548bfc7",
   "metadata": {},
   "outputs": [],
   "source": [
    "import pandas as pd"
   ]
  },
  {
   "cell_type": "markdown",
   "id": "ad3721ed-1033-4a2d-84b4-781ff24bfb09",
   "metadata": {
    "tags": []
   },
   "source": [
    "#### DataFrame"
   ]
  },
  {
   "cell_type": "markdown",
   "id": "66c227c4",
   "metadata": {},
   "source": [
    "DataFrame 是一种特殊的数据结构，是由 dict 生成的。"
   ]
  },
  {
   "cell_type": "code",
   "execution_count": 43,
   "id": "c36655ea-3765-44b6-8462-dc584b9e1205",
   "metadata": {},
   "outputs": [
    {
     "name": "stdout",
     "output_type": "stream",
     "text": [
      "     A         B\n",
      "0  0.0  0.000000\n",
      "1  0.0  0.693147\n",
      "2  0.0  1.098612\n",
      "3  0.0  1.386294\n"
     ]
    }
   ],
   "source": [
    "my_df = pd.DataFrame({\n",
    "    'A': np.zeros(4), \n",
    "    'B': np.log(my_array)\n",
    "})\n",
    "print(my_df)"
   ]
  },
  {
   "cell_type": "code",
   "execution_count": 44,
   "id": "a8adcab1-515d-4d4f-a910-c0c77bfb73a2",
   "metadata": {},
   "outputs": [
    {
     "data": {
      "text/plain": [
       "0    0.000000\n",
       "1    0.693147\n",
       "2    1.098612\n",
       "3    1.386294\n",
       "Name: B, dtype: float64"
      ]
     },
     "execution_count": 44,
     "metadata": {},
     "output_type": "execute_result"
    }
   ],
   "source": [
    "my_df['B']"
   ]
  },
  {
   "cell_type": "code",
   "execution_count": 45,
   "id": "e81df2d7-1e2a-4a83-96cd-c37b06daff5b",
   "metadata": {},
   "outputs": [
    {
     "data": {
      "text/plain": [
       "0    0.000000\n",
       "1    0.693147\n",
       "2    1.098612\n",
       "3    1.386294\n",
       "Name: B, dtype: float64"
      ]
     },
     "execution_count": 45,
     "metadata": {},
     "output_type": "execute_result"
    }
   ],
   "source": [
    "my_df.B"
   ]
  },
  {
   "cell_type": "markdown",
   "id": "71acfad7-8f5d-4b84-91b5-5eb406221440",
   "metadata": {
    "tags": []
   },
   "source": [
    "#### Series"
   ]
  },
  {
   "cell_type": "code",
   "execution_count": 46,
   "id": "40efbece-0548-4120-90c5-3290d8fec804",
   "metadata": {},
   "outputs": [
    {
     "data": {
      "text/plain": [
       "0    0.0\n",
       "1    0.0\n",
       "2    0.0\n",
       "3    0.0\n",
       "dtype: float64"
      ]
     },
     "execution_count": 46,
     "metadata": {},
     "output_type": "execute_result"
    }
   ],
   "source": [
    "my_series = pd.Series(np.zeros(4))\n",
    "my_series"
   ]
  },
  {
   "cell_type": "markdown",
   "id": "e1d5d216-dd90-43c0-892c-5e6f7fceaf90",
   "metadata": {},
   "source": [
    "#### indexの設定"
   ]
  },
  {
   "cell_type": "code",
   "execution_count": 47,
   "id": "b8739eb5-1353-4df3-bf7a-f22c1d5a3ea1",
   "metadata": {},
   "outputs": [
    {
     "data": {
      "text/plain": [
       "5    0.0\n",
       "9    0.0\n",
       "2    0.0\n",
       "8    0.0\n",
       "dtype: float64"
      ]
     },
     "execution_count": 47,
     "metadata": {},
     "output_type": "execute_result"
    }
   ],
   "source": [
    "my_series.index = np.array([5, 9, 2, 8])\n",
    "my_series"
   ]
  },
  {
   "cell_type": "markdown",
   "id": "1cd04af5-224f-4685-80da-aa0b54c770cf",
   "metadata": {},
   "source": [
    "#### apply"
   ]
  },
  {
   "cell_type": "markdown",
   "id": "113db01d",
   "metadata": {},
   "source": [
    "df.apply 是对 dp 的所有数据应用一个函数。这个函数可以是库里面的，也可以是自己写的"
   ]
  },
  {
   "cell_type": "code",
   "execution_count": 48,
   "id": "9c91f003-b556-4a09-8cc4-cc53f2edfb88",
   "metadata": {},
   "outputs": [
    {
     "name": "stdout",
     "output_type": "stream",
     "text": [
      "     A    B\n",
      "0  1.0  1.0\n",
      "1  1.0  2.0\n",
      "2  1.0  3.0\n",
      "3  1.0  4.0\n"
     ]
    }
   ],
   "source": [
    "print(my_df.apply(np.exp))      # 计算 e^x 的值"
   ]
  },
  {
   "cell_type": "code",
   "execution_count": 49,
   "id": "5925edb8-5091-4ea7-bed2-dbc6611aa141",
   "metadata": {},
   "outputs": [
    {
     "name": "stdout",
     "output_type": "stream",
     "text": [
      "     A    B\n",
      "0  2.0  2.0\n",
      "1  2.0  4.0\n",
      "2  2.0  6.0\n",
      "3  2.0  8.0\n"
     ]
    }
   ],
   "source": [
    "print(my_df.apply(np.exp).apply(my_func))   # 先计算 e^x，再计算 2 倍"
   ]
  },
  {
   "cell_type": "markdown",
   "id": "2d799a72",
   "metadata": {},
   "source": [
    "示例："
   ]
  },
  {
   "cell_type": "code",
   "execution_count": null,
   "id": "26d06b3f",
   "metadata": {},
   "outputs": [
    {
     "name": "stdout",
     "output_type": "stream",
     "text": [
      "          A          B\n",
      "0  1.000000   1.648721\n",
      "1  2.718282   4.481689\n",
      "2  7.389056  12.182494\n"
     ]
    }
   ],
   "source": [
    "import numpy as np\n",
    "import pandas as pd\n",
    "\n",
    "my_df = pd.DataFrame({\n",
    "    'A': [0, 1, 2],\n",
    "    'B': [0.5, 1.5, 2.5]\n",
    "})\n",
    "\n",
    "# 应用指数函数\n",
    "print(my_df.apply(np.exp))      # 计算每一个数x的 e^x 的值\n"
   ]
  }
 ],
 "metadata": {
  "kernelspec": {
   "display_name": "HelloWorld",
   "language": "python",
   "name": "python3"
  },
  "language_info": {
   "codemirror_mode": {
    "name": "ipython",
    "version": 3
   },
   "file_extension": ".py",
   "mimetype": "text/x-python",
   "name": "python",
   "nbconvert_exporter": "python",
   "pygments_lexer": "ipython3",
   "version": "3.10.13"
  }
 },
 "nbformat": 4,
 "nbformat_minor": 5
}
