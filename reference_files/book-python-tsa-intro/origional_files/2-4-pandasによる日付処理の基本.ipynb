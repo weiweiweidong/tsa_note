{
 "cells": [
  {
   "cell_type": "markdown",
   "id": "ce012260-2d94-4ca8-91b5-fe0b4baad692",
   "metadata": {},
   "source": [
    "# 第2部　Pythonによる時系列分析の基本\n",
    "\n",
    "## 第4章　pandasによる日付処理の基本"
   ]
  },
  {
   "cell_type": "markdown",
   "id": "97ff1b47-c46a-4391-8ca9-2f145260c74f",
   "metadata": {
    "tags": []
   },
   "source": [
    "### 分析の準備"
   ]
  },
  {
   "cell_type": "code",
   "execution_count": 1,
   "id": "ae34312a-f9b8-469a-8fe9-0f764891678b",
   "metadata": {},
   "outputs": [],
   "source": [
    "# 数値計算に使うライブラリ\n",
    "import numpy as np\n",
    "import pandas as pd"
   ]
  },
  {
   "cell_type": "code",
   "execution_count": 2,
   "id": "71f5e4c6-ce1d-40ce-861a-ee26c3f798f2",
   "metadata": {},
   "outputs": [],
   "source": [
    "# 表示設定\n",
    "np.set_printoptions(linewidth=80)\n",
    "pd.set_option('display.width', 80)\n",
    "\n",
    "from matplotlib.pylab import rcParams\n",
    "rcParams['figure.figsize'] = 8, 4"
   ]
  },
  {
   "cell_type": "markdown",
   "id": "807b31d9-5f7e-427c-9b67-4d25e284784d",
   "metadata": {
    "tags": []
   },
   "source": [
    "### pandasを用いたTimestampの作成"
   ]
  },
  {
   "cell_type": "markdown",
   "id": "23ecc2e0-3745-4881-a438-84c92fae95ab",
   "metadata": {
    "tags": []
   },
   "source": [
    "#### Timestampの作成"
   ]
  },
  {
   "cell_type": "code",
   "execution_count": 3,
   "id": "be4aa76d-a039-4e6b-a887-f28b980e34f8",
   "metadata": {},
   "outputs": [
    {
     "data": {
      "text/plain": [
       "str"
      ]
     },
     "execution_count": 3,
     "metadata": {},
     "output_type": "execute_result"
    }
   ],
   "source": [
    "type('2020-01-01')"
   ]
  },
  {
   "cell_type": "code",
   "execution_count": 4,
   "id": "e9d50dd1-b525-4e4d-9d60-6a8f3fc43a0c",
   "metadata": {},
   "outputs": [
    {
     "data": {
      "text/plain": [
       "Timestamp('2020-05-11 00:00:00')"
      ]
     },
     "execution_count": 4,
     "metadata": {},
     "output_type": "execute_result"
    }
   ],
   "source": [
    "my_time = pd.Timestamp('2020-05-11')\n",
    "my_time"
   ]
  },
  {
   "cell_type": "code",
   "execution_count": 5,
   "id": "8cbe5f82-4394-4e43-affb-13bb0fa6cc72",
   "metadata": {},
   "outputs": [
    {
     "data": {
      "text/plain": [
       "pandas._libs.tslibs.timestamps.Timestamp"
      ]
     },
     "execution_count": 5,
     "metadata": {},
     "output_type": "execute_result"
    }
   ],
   "source": [
    "type(my_time)"
   ]
  },
  {
   "cell_type": "markdown",
   "id": "53579875-f885-44dc-a441-648bf7dd2d8f",
   "metadata": {
    "tags": []
   },
   "source": [
    "#### pd.to_datetime関数の利用"
   ]
  },
  {
   "cell_type": "code",
   "execution_count": 6,
   "id": "987cde33-80c9-4f27-9d79-96078282f491",
   "metadata": {},
   "outputs": [
    {
     "data": {
      "text/plain": [
       "Timestamp('2020-05-11 00:00:00')"
      ]
     },
     "execution_count": 6,
     "metadata": {},
     "output_type": "execute_result"
    }
   ],
   "source": [
    "my_time2 = pd.to_datetime('2020-05-11')\n",
    "my_time2"
   ]
  },
  {
   "cell_type": "code",
   "execution_count": 7,
   "id": "d528ff58-fff6-4834-96df-072f857b97c8",
   "metadata": {},
   "outputs": [
    {
     "data": {
      "text/plain": [
       "Timestamp('2020-06-08 00:00:00')"
      ]
     },
     "execution_count": 7,
     "metadata": {},
     "output_type": "execute_result"
    }
   ],
   "source": [
    "pd.to_datetime('2020年6月8日', format='%Y年%m月%d日')"
   ]
  },
  {
   "cell_type": "code",
   "execution_count": 8,
   "id": "dcc68704-2089-4fbf-aca8-e6acbd0b3449",
   "metadata": {},
   "outputs": [
    {
     "data": {
      "text/plain": [
       "Timestamp('2020-02-07 00:00:00')"
      ]
     },
     "execution_count": 8,
     "metadata": {},
     "output_type": "execute_result"
    }
   ],
   "source": [
    "pd.to_datetime('2020 Feb 7', format='%Y %b %d')"
   ]
  },
  {
   "cell_type": "code",
   "execution_count": 9,
   "id": "b68d57db-fbe6-4bab-91f7-ff1fe238e4d4",
   "metadata": {},
   "outputs": [
    {
     "data": {
      "text/plain": [
       "Timestamp('2020-06-08 14:28:14')"
      ]
     },
     "execution_count": 9,
     "metadata": {},
     "output_type": "execute_result"
    }
   ],
   "source": [
    "pd.to_datetime('時間は14時28分14秒だよ。ちなみに2020年の6月8日です。',\n",
    "               format='時間は%H時%M分%S秒だよ。ちなみに%Y年の%m月%d日です。')"
   ]
  },
  {
   "cell_type": "markdown",
   "id": "5737ddc3-d923-4b82-8aa5-7bc1497bc03b",
   "metadata": {
    "tags": []
   },
   "source": [
    "#### 現在時刻の取得"
   ]
  },
  {
   "cell_type": "code",
   "execution_count": 10,
   "id": "d16f44d5-fb36-4e84-be1d-685569b20970",
   "metadata": {},
   "outputs": [
    {
     "data": {
      "text/plain": [
       "Timestamp('2024-09-11 16:28:02.648078')"
      ]
     },
     "execution_count": 10,
     "metadata": {},
     "output_type": "execute_result"
    }
   ],
   "source": [
    "pd.Timestamp.now()"
   ]
  },
  {
   "cell_type": "markdown",
   "id": "4db5b803-8bb3-441d-bbde-45419eb1ed4a",
   "metadata": {
    "tags": []
   },
   "source": [
    "### Timestampからの日付情報の取得"
   ]
  },
  {
   "cell_type": "code",
   "execution_count": 11,
   "id": "c24266b5-7452-424b-abad-36f880708737",
   "metadata": {},
   "outputs": [
    {
     "data": {
      "text/plain": [
       "Timestamp('2020-09-08 14:11:04')"
      ]
     },
     "execution_count": 11,
     "metadata": {},
     "output_type": "execute_result"
    }
   ],
   "source": [
    "my_time3 = pd.to_datetime('2020-09-08 14:11:04')\n",
    "my_time3"
   ]
  },
  {
   "cell_type": "code",
   "execution_count": 12,
   "id": "52a2abe9-e5a2-4335-9d2e-39ae19919643",
   "metadata": {},
   "outputs": [
    {
     "name": "stdout",
     "output_type": "stream",
     "text": [
      "年 2020\n",
      "月 9\n",
      "日 8\n",
      "時 14\n",
      "分 11\n",
      "秒 4\n",
      "1年の何日目か 252\n",
      "1年の何週目か 37\n",
      "曜日(月曜が0) 1\n",
      "四半期　　　  3\n"
     ]
    }
   ],
   "source": [
    "print('年', my_time3.year)\n",
    "print('月', my_time3.month)\n",
    "print('日', my_time3.day)\n",
    "print('時', my_time3.hour)\n",
    "print('分', my_time3.minute)\n",
    "print('秒', my_time3.second)\n",
    "print('1年の何日目か', my_time3.dayofyear)\n",
    "print('1年の何週目か', my_time3.weekofyear)\n",
    "print('曜日(月曜が0)', my_time3.dayofweek)\n",
    "print('四半期　　　 ', my_time3.quarter)"
   ]
  },
  {
   "cell_type": "code",
   "execution_count": 13,
   "id": "28baf1f7-f0cb-447f-ae07-009ba835dc67",
   "metadata": {},
   "outputs": [
    {
     "name": "stdout",
     "output_type": "stream",
     "text": [
      "2020年2月 29\n",
      "2021年2月 28\n"
     ]
    }
   ],
   "source": [
    "print('2020年2月', pd.to_datetime('2020-02').daysinmonth)\n",
    "print('2021年2月', pd.to_datetime('2021-02').daysinmonth)"
   ]
  },
  {
   "cell_type": "markdown",
   "id": "99219f0c-42e1-4aae-8481-2613dfca1f4a",
   "metadata": {
    "tags": []
   },
   "source": [
    "### pandasを用いたDatetimeIndexの作成"
   ]
  },
  {
   "cell_type": "markdown",
   "id": "4501daaf-ac49-4624-a271-d12f31d131d8",
   "metadata": {
    "tags": []
   },
   "source": [
    "#### pd.date_range関数の利用"
   ]
  },
  {
   "cell_type": "code",
   "execution_count": 14,
   "id": "b7f90005-9e57-4416-b9e4-41eb80d41637",
   "metadata": {},
   "outputs": [
    {
     "data": {
      "text/plain": [
       "DatetimeIndex(['2020-01-01', '2020-02-01', '2020-03-01'], dtype='datetime64[ns]', freq='MS')"
      ]
     },
     "execution_count": 14,
     "metadata": {},
     "output_type": "execute_result"
    }
   ],
   "source": [
    "time_range = pd.date_range(start='2020-01-01', end='2020-03-01', freq='MS')\n",
    "time_range"
   ]
  },
  {
   "cell_type": "code",
   "execution_count": 15,
   "id": "a732b7c8-9d60-4e78-8c16-18235cebdf54",
   "metadata": {},
   "outputs": [
    {
     "data": {
      "text/plain": [
       "pandas.core.indexes.datetimes.DatetimeIndex"
      ]
     },
     "execution_count": 15,
     "metadata": {},
     "output_type": "execute_result"
    }
   ],
   "source": [
    "type(time_range)"
   ]
  },
  {
   "cell_type": "code",
   "execution_count": 16,
   "id": "42e7f1ab-f021-4080-aa41-6b2efa6ea904",
   "metadata": {},
   "outputs": [
    {
     "data": {
      "text/plain": [
       "DatetimeIndex(['2020-01-01', '2020-02-01'], dtype='datetime64[ns]', freq='MS')"
      ]
     },
     "execution_count": 16,
     "metadata": {},
     "output_type": "execute_result"
    }
   ],
   "source": [
    "# endを含まない\n",
    "pd.date_range(start='2020-01-01', end='2020-03-01', freq='MS', inclusive='left')"
   ]
  },
  {
   "cell_type": "code",
   "execution_count": 17,
   "id": "5231963a-2411-4b49-82b0-5df5bb77e1d3",
   "metadata": {},
   "outputs": [
    {
     "data": {
      "text/plain": [
       "DatetimeIndex(['2020-02-01', '2020-03-01'], dtype='datetime64[ns]', freq='MS')"
      ]
     },
     "execution_count": 17,
     "metadata": {},
     "output_type": "execute_result"
    }
   ],
   "source": [
    "# startを含まない\n",
    "pd.date_range(start='2020-01-01', end='2020-03-01', freq='MS', inclusive='right')"
   ]
  },
  {
   "cell_type": "code",
   "execution_count": 18,
   "id": "400cd829-98e0-4784-9a16-d09b024f7ad0",
   "metadata": {},
   "outputs": [
    {
     "data": {
      "text/plain": [
       "DatetimeIndex(['2020-02-01'], dtype='datetime64[ns]', freq='MS')"
      ]
     },
     "execution_count": 18,
     "metadata": {},
     "output_type": "execute_result"
    }
   ],
   "source": [
    "# start,endを含まない\n",
    "pd.date_range(start='2020-01-01', end='2020-03-01', freq='MS', inclusive='neither')"
   ]
  },
  {
   "cell_type": "code",
   "execution_count": 19,
   "id": "81474251-7f24-48f8-83ed-5d5de3ad6fdc",
   "metadata": {},
   "outputs": [
    {
     "data": {
      "text/plain": [
       "DatetimeIndex(['2020-01-01', '2020-02-01', '2020-03-01'], dtype='datetime64[ns]', freq='MS')"
      ]
     },
     "execution_count": 19,
     "metadata": {},
     "output_type": "execute_result"
    }
   ],
   "source": [
    "# periodsの指定\n",
    "pd.date_range(start='2020-01-01', periods=3, freq='MS')"
   ]
  },
  {
   "cell_type": "markdown",
   "id": "9f2c907a-1f94-492a-ab93-270b201d7975",
   "metadata": {
    "tags": []
   },
   "source": [
    "#### freqの指定"
   ]
  },
  {
   "cell_type": "code",
   "execution_count": 20,
   "id": "700b5b1a-006c-488a-a7c1-62f0f8867418",
   "metadata": {},
   "outputs": [
    {
     "data": {
      "text/plain": [
       "DatetimeIndex(['2020-01-31', '2020-02-29', '2020-03-31'], dtype='datetime64[ns]', freq='ME')"
      ]
     },
     "execution_count": 20,
     "metadata": {},
     "output_type": "execute_result"
    }
   ],
   "source": [
    "# 月の終わり\n",
    "pd.date_range(start='2020-01-01', periods=3, freq='ME')"
   ]
  },
  {
   "cell_type": "code",
   "execution_count": 21,
   "id": "dc9f217e-62f8-43c0-adec-b57197603458",
   "metadata": {},
   "outputs": [
    {
     "data": {
      "text/plain": [
       "DatetimeIndex(['2020-01-01', '2020-01-02', '2020-01-03'], dtype='datetime64[ns]', freq='D')"
      ]
     },
     "execution_count": 21,
     "metadata": {},
     "output_type": "execute_result"
    }
   ],
   "source": [
    "# 1日単位\n",
    "pd.date_range(start='2020-01-01', periods=3, freq='D')"
   ]
  },
  {
   "cell_type": "markdown",
   "id": "6a65a4b0-25e9-44cb-bfaa-289fff695611",
   "metadata": {},
   "source": [
    "参考 時間単位の一覧<br>\n",
    "https://pandas.pydata.org/docs/user_guide/timeseries.html#timeseries-offset-aliases"
   ]
  },
  {
   "cell_type": "code",
   "execution_count": 22,
   "id": "ccb9aec2-cc3e-4239-9faa-6660bf9bc6f8",
   "metadata": {},
   "outputs": [
    {
     "name": "stdout",
     "output_type": "stream",
     "text": [
      "DatetimeIndex(['2020-01-01', '2020-01-02', '2020-01-03'], dtype='datetime64[ns]', freq='D')\n",
      "DatetimeIndex(['2020-01-05', '2020-01-12', '2020-01-19'], dtype='datetime64[ns]', freq='W-SUN')\n",
      "DatetimeIndex(['2020-01-15', '2020-01-31', '2020-02-15'], dtype='datetime64[ns]', freq='SME-15')\n",
      "DatetimeIndex(['2020-01-01', '2020-01-15', '2020-02-01'], dtype='datetime64[ns]', freq='SMS-15')\n",
      "DatetimeIndex(['2020-01-31', '2020-02-29', '2020-03-31'], dtype='datetime64[ns]', freq='ME')\n",
      "DatetimeIndex(['2020-01-01', '2020-02-01', '2020-03-01'], dtype='datetime64[ns]', freq='MS')\n",
      "DatetimeIndex(['2020-03-31', '2020-06-30', '2020-09-30'], dtype='datetime64[ns]', freq='QE-DEC')\n",
      "DatetimeIndex(['2020-01-01', '2020-04-01', '2020-07-01'], dtype='datetime64[ns]', freq='QS-JAN')\n",
      "DatetimeIndex(['2020-12-31', '2021-12-31', '2022-12-31'], dtype='datetime64[ns]', freq='YE-DEC')\n",
      "DatetimeIndex(['2020-01-01', '2021-01-01', '2022-01-01'], dtype='datetime64[ns]', freq='YS-JAN')\n"
     ]
    }
   ],
   "source": [
    "# さまざまな時間単位(日より大きい単位)\n",
    "print(pd.date_range(start='2020-01-01', periods=3, freq='D'))  # Day\n",
    "print(pd.date_range(start='2020-01-01', periods=3, freq='W'))  # Week\n",
    "\n",
    "print(pd.date_range(start='2020-01-01', periods=3, freq='SME')) # Semi-Month\n",
    "print(pd.date_range(start='2020-01-01', periods=3, freq='SMS')) # Semi-Month-Start\n",
    "\n",
    "print(pd.date_range(start='2020-01-01', periods=3, freq='ME'))  # Month\n",
    "print(pd.date_range(start='2020-01-01', periods=3, freq='MS'))  # Month-Start\n",
    "\n",
    "print(pd.date_range(start='2020-01-01', periods=3, freq='QE'))  # Quarter\n",
    "print(pd.date_range(start='2020-01-01', periods=3, freq='QS'))  # Quater-start\n",
    "\n",
    "print(pd.date_range(start='2020-01-01', periods=3, freq='YE'))  # Year\n",
    "print(pd.date_range(start='2020-01-01', periods=3, freq='YS'))  # Year"
   ]
  },
  {
   "cell_type": "code",
   "execution_count": 23,
   "id": "470f0247-e050-41a9-a08a-07cfac873ef9",
   "metadata": {},
   "outputs": [
    {
     "name": "stdout",
     "output_type": "stream",
     "text": [
      "DatetimeIndex(['2020-01-01 00:00:00', '2020-01-01 01:00:00',\n",
      "               '2020-01-01 02:00:00'],\n",
      "              dtype='datetime64[ns]', freq='h')\n",
      "DatetimeIndex(['2020-01-01 00:00:00', '2020-01-01 00:01:00',\n",
      "               '2020-01-01 00:02:00'],\n",
      "              dtype='datetime64[ns]', freq='min')\n",
      "DatetimeIndex(['2020-01-01 00:00:00', '2020-01-01 00:00:01',\n",
      "               '2020-01-01 00:00:02'],\n",
      "              dtype='datetime64[ns]', freq='s')\n",
      "DatetimeIndex([       '2020-01-01 00:00:00', '2020-01-01 00:00:00.001000',\n",
      "               '2020-01-01 00:00:00.002000'],\n",
      "              dtype='datetime64[ns]', freq='ms')\n",
      "DatetimeIndex([       '2020-01-01 00:00:00', '2020-01-01 00:00:00.000001',\n",
      "               '2020-01-01 00:00:00.000002'],\n",
      "              dtype='datetime64[ns]', freq='us')\n",
      "DatetimeIndex([          '2020-01-01 00:00:00',\n",
      "               '2020-01-01 00:00:00.000000001',\n",
      "               '2020-01-01 00:00:00.000000002'],\n",
      "              dtype='datetime64[ns]', freq='ns')\n"
     ]
    }
   ],
   "source": [
    "# さまざまな時間単位(1日未満の単位)\n",
    "print(pd.date_range(start='2020-01-01', periods=3, freq='h'))    # Hour\n",
    "print(pd.date_range(start='2020-01-01', periods=3, freq='min'))  # Minute\n",
    "print(pd.date_range(start='2020-01-01', periods=3, freq='s'))    # Second\n",
    "\n",
    "# 以下、本文にない参考\n",
    "print(pd.date_range(start='2020-01-01', periods=3, freq='ms'))   # milli-second\n",
    "print(pd.date_range(start='2020-01-01', periods=3, freq='us'))   # micro-seconds\n",
    "print(pd.date_range(start='2020-01-01', periods=3, freq='ns'))   # nanoseconds"
   ]
  },
  {
   "cell_type": "markdown",
   "id": "e460ada1-ca3d-4ee4-b476-91593e96a11a",
   "metadata": {
    "tags": []
   },
   "source": [
    "#### freqの詳細な指定"
   ]
  },
  {
   "cell_type": "code",
   "execution_count": 24,
   "id": "63066dd9-ea61-4455-b830-a721b87e3447",
   "metadata": {},
   "outputs": [
    {
     "name": "stdout",
     "output_type": "stream",
     "text": [
      "DatetimeIndex(['2020-01-05', '2020-01-12', '2020-01-19', '2020-01-26'], dtype='datetime64[ns]', freq='W-SUN')\n",
      "DatetimeIndex(['2020-01-06', '2020-01-13', '2020-01-20', '2020-01-27'], dtype='datetime64[ns]', freq='W-MON')\n"
     ]
    }
   ],
   "source": [
    "# freqの詳細な設定\n",
    "print(pd.date_range(start='2020-01-01', periods=4, freq='W-SUN'))  # Week-Sunday\n",
    "print(pd.date_range(start='2020-01-01', periods=4, freq='W-MON'))  # Week-Monday"
   ]
  },
  {
   "cell_type": "code",
   "execution_count": 25,
   "id": "106d15e9-364c-4fc9-acf8-c6cb273bc419",
   "metadata": {},
   "outputs": [
    {
     "name": "stdout",
     "output_type": "stream",
     "text": [
      "DatetimeIndex(['2020-01-01 00:00:00', '2020-01-01 00:15:00',\n",
      "               '2020-01-01 00:30:00', '2020-01-01 00:45:00',\n",
      "               '2020-01-01 01:00:00', '2020-01-01 01:15:00'],\n",
      "              dtype='datetime64[ns]', freq='15min')\n"
     ]
    }
   ],
   "source": [
    "# 15分単位\n",
    "print(pd.date_range(start='2020-01-01', periods=6, freq='15min'))  # 15 Minute"
   ]
  },
  {
   "cell_type": "markdown",
   "id": "7cc5b823-b069-42c0-96f4-ff209f380102",
   "metadata": {
    "tags": []
   },
   "source": [
    "### SeriesやDataFrameへのindexの付与"
   ]
  },
  {
   "cell_type": "markdown",
   "id": "68115ef7-0597-4aff-9531-a5f253847ff5",
   "metadata": {
    "tags": []
   },
   "source": [
    "#### TimestampのindexをもつSeries"
   ]
  },
  {
   "cell_type": "code",
   "execution_count": 26,
   "id": "e5ed2d11-a680-4edb-ad32-9530344f14c5",
   "metadata": {},
   "outputs": [
    {
     "data": {
      "text/plain": [
       "0    1\n",
       "1    2\n",
       "2    3\n",
       "3    4\n",
       "4    5\n",
       "dtype: int64"
      ]
     },
     "execution_count": 26,
     "metadata": {},
     "output_type": "execute_result"
    }
   ],
   "source": [
    "my_ts = pd.Series([1,2,3,4,5])\n",
    "my_ts"
   ]
  },
  {
   "cell_type": "code",
   "execution_count": 27,
   "id": "5ca3197a-8992-4473-afd5-49062933e360",
   "metadata": {},
   "outputs": [
    {
     "data": {
      "text/plain": [
       "2020-01-01    1\n",
       "2020-01-02    2\n",
       "2020-01-03    3\n",
       "2020-01-04    4\n",
       "2020-01-05    5\n",
       "Freq: D, dtype: int64"
      ]
     },
     "execution_count": 27,
     "metadata": {},
     "output_type": "execute_result"
    }
   ],
   "source": [
    "my_ts.index = pd.date_range(start='2020-01-01', periods=5, freq='D')\n",
    "my_ts"
   ]
  },
  {
   "cell_type": "markdown",
   "id": "16fcc57f-648c-483a-9246-65ef9a560e61",
   "metadata": {
    "tags": []
   },
   "source": [
    "#### TimestampのindexをもつDataFrame"
   ]
  },
  {
   "cell_type": "code",
   "execution_count": 28,
   "id": "66f40412-eda4-4689-912c-751a64c1a390",
   "metadata": {},
   "outputs": [
    {
     "name": "stdout",
     "output_type": "stream",
     "text": [
      "            product_a  product_b\n",
      "2020-01-01          1          4\n",
      "2020-02-01          4          9\n",
      "2020-03-01          7          3\n",
      "2020-04-01          4          1\n",
      "2020-05-01          8          0\n"
     ]
    }
   ],
   "source": [
    "my_mts = pd.DataFrame({\n",
    "    'product_a':[1,4,7,4,8],\n",
    "    'product_b':[4,9,3,1,0]\n",
    "})\n",
    "my_mts.index = pd.date_range(start='2020-01-01', periods=5, freq='MS')\n",
    "print(my_mts)"
   ]
  },
  {
   "cell_type": "markdown",
   "id": "be65dba0-3166-4c45-a8d3-f1ad312977f5",
   "metadata": {
    "tags": []
   },
   "source": [
    "#### indexの修正"
   ]
  },
  {
   "cell_type": "code",
   "execution_count": 29,
   "id": "8efbf21b-5072-4f2f-897f-94d58fd09b1e",
   "metadata": {},
   "outputs": [
    {
     "name": "stdout",
     "output_type": "stream",
     "text": [
      "            product_a  product_b\n",
      "2020-01-05          1          4\n",
      "2020-01-12          4          9\n",
      "2020-01-19          7          3\n",
      "2020-01-26          4          1\n",
      "2020-02-02          8          0\n"
     ]
    }
   ],
   "source": [
    "my_mts.index = pd.date_range(start='2020-01-01', periods=5, freq='W')\n",
    "print(my_mts)"
   ]
  },
  {
   "cell_type": "markdown",
   "id": "1b92c3f7-f754-4c97-ac48-db4d99030e22",
   "metadata": {
    "tags": []
   },
   "source": [
    "### 時系列データの読み込み"
   ]
  },
  {
   "cell_type": "markdown",
   "id": "9a20f596-5ed7-4421-b91d-ef15f1030a85",
   "metadata": {
    "tags": []
   },
   "source": [
    "#### 時系列データの読み込みの基本"
   ]
  },
  {
   "cell_type": "code",
   "execution_count": 30,
   "id": "1021f19f-cd5c-4a96-a52d-f34976705bb6",
   "metadata": {},
   "outputs": [
    {
     "name": "stdout",
     "output_type": "stream",
     "text": [
      "            sales\n",
      "time             \n",
      "2000-01-01   10.0\n",
      "2000-02-01    5.0\n",
      "2000-03-01    8.0\n",
      "2000-04-01   14.0\n",
      "2000-05-01    9.0\n"
     ]
    }
   ],
   "source": [
    "# データの読み込み\n",
    "ts_month = pd.read_csv(\n",
    "    '2-4-1-time-series-month.csv',  # ファイル名\n",
    "    index_col='time',               # インデックスとして扱う列名\n",
    "    parse_dates=True,               # インデックスを「時間軸」として扱う\n",
    "    dtype='float'                   # データの型(浮動小数点)\n",
    ")\n",
    "\n",
    "ts_month.index.freq = 'MS'\n",
    "\n",
    "# 結果の確認\n",
    "print(ts_month)"
   ]
  },
  {
   "cell_type": "code",
   "execution_count": 31,
   "id": "5245603d-41bc-4d11-82c9-d9cfe9ad584f",
   "metadata": {},
   "outputs": [
    {
     "name": "stdout",
     "output_type": "stream",
     "text": [
      "            value\n",
      "time             \n",
      "1990-01-01    1.0\n",
      "1990-01-02    2.0\n",
      "1990-01-03    3.0\n",
      "             value\n",
      "time              \n",
      "1999-12-29  3650.0\n",
      "1999-12-30  3651.0\n",
      "1999-12-31  3652.0\n"
     ]
    }
   ],
   "source": [
    "# 日単位データの読み込み\n",
    "ts_day = pd.read_csv(\n",
    "    '2-4-2-time-series-day.csv', \n",
    "    index_col='time',\n",
    "    parse_dates=True,\n",
    "    dtype='float'\n",
    ")\n",
    "\n",
    "ts_day.index.freq = 'D'\n",
    "\n",
    "# 結果の確認\n",
    "print(ts_day.head(3))\n",
    "print(ts_day.tail(3))"
   ]
  },
  {
   "cell_type": "code",
   "execution_count": 32,
   "id": "1e4e44b6-1cf9-45ee-b213-3891ead255d3",
   "metadata": {},
   "outputs": [
    {
     "data": {
      "text/plain": [
       "DatetimeIndex(['2000-01-01', '2000-02-01', '2000-03-01', '2000-04-01',\n",
       "               '2000-05-01'],\n",
       "              dtype='datetime64[ns]', name='time', freq='MS')"
      ]
     },
     "execution_count": 32,
     "metadata": {},
     "output_type": "execute_result"
    }
   ],
   "source": [
    "ts_month.index"
   ]
  },
  {
   "cell_type": "code",
   "execution_count": 33,
   "id": "15a1805d-2a5f-435e-99ac-d8405e19e053",
   "metadata": {},
   "outputs": [
    {
     "data": {
      "text/plain": [
       "pandas.core.indexes.datetimes.DatetimeIndex"
      ]
     },
     "execution_count": 33,
     "metadata": {},
     "output_type": "execute_result"
    }
   ],
   "source": [
    "# 参考：indexの型\n",
    "type(ts_month.index)"
   ]
  },
  {
   "cell_type": "markdown",
   "id": "b3dd0605-e932-4ecc-9b4f-4d9b9714a672",
   "metadata": {
    "jp-MarkdownHeadingCollapsed": true,
    "tags": []
   },
   "source": [
    "#### 時間情報がわかれたデータの読み込み(日単位)"
   ]
  },
  {
   "cell_type": "code",
   "execution_count": 34,
   "id": "ed26cd11-de67-4b0b-b740-a001e6717257",
   "metadata": {},
   "outputs": [
    {
     "name": "stdout",
     "output_type": "stream",
     "text": [
      "   year  month  day  value\n",
      "0  1990      1    1      1\n",
      "1  1990      1    2      2\n",
      "2  1990      1    3      3\n"
     ]
    }
   ],
   "source": [
    "# 時間情報がわかれたデータの読み込み\n",
    "separate_day = pd.read_csv('2-4-3-separate-time-day.csv')\n",
    "\n",
    "# 結果の確認\n",
    "print(separate_day.head(3))"
   ]
  },
  {
   "cell_type": "code",
   "execution_count": 35,
   "id": "3374a98c-f198-4359-a7f4-cb871e6825cd",
   "metadata": {},
   "outputs": [
    {
     "name": "stdout",
     "output_type": "stream",
     "text": [
      "            year  month  day  value\n",
      "1990-01-01  1990      1    1      1\n",
      "1990-01-02  1990      1    2      2\n",
      "1990-01-03  1990      1    3      3\n"
     ]
    }
   ],
   "source": [
    "# インデックスの作成\n",
    "separate_day.index = pd.to_datetime(separate_day[['year', 'month', 'day']])\n",
    "separate_day.index.freq = 'D'\n",
    "\n",
    "# 結果の確認\n",
    "print(separate_day.head(3))"
   ]
  },
  {
   "cell_type": "code",
   "execution_count": 36,
   "id": "c6c69538-1852-40d7-85be-1ab1c00ce3fb",
   "metadata": {},
   "outputs": [
    {
     "name": "stdout",
     "output_type": "stream",
     "text": [
      "            value\n",
      "1990-01-01      1\n",
      "1990-01-02      2\n",
      "1990-01-03      3\n"
     ]
    }
   ],
   "source": [
    "# 不要な列の削除\n",
    "separate_day = separate_day.drop(['year', 'month', 'day'], axis=1)\n",
    "\n",
    "# 結果の確認\n",
    "print(separate_day.head(3))"
   ]
  },
  {
   "cell_type": "markdown",
   "id": "3a5ed60f-7654-4638-9e0f-673db4976c69",
   "metadata": {
    "jp-MarkdownHeadingCollapsed": true,
    "tags": []
   },
   "source": [
    "#### 時間情報がわかれたデータの読み込み(月単位)"
   ]
  },
  {
   "cell_type": "code",
   "execution_count": 37,
   "id": "e1498aa9-0c20-4c18-970c-bd171d9e18b2",
   "metadata": {},
   "outputs": [
    {
     "name": "stdout",
     "output_type": "stream",
     "text": [
      "   year  month  value\n",
      "0  1990      1      1\n",
      "1  1990      2      2\n",
      "2  1990      3      3\n"
     ]
    }
   ],
   "source": [
    "# 時間情報がわかれたデータの読み込み\n",
    "separate_month = pd.read_csv('2-4-4-separate-time-month.csv')\n",
    "\n",
    "# 結果の確認\n",
    "print(separate_month.head(3))"
   ]
  },
  {
   "cell_type": "code",
   "execution_count": 38,
   "id": "6014be35-661d-4325-9687-1d81c3b4a37b",
   "metadata": {},
   "outputs": [
    {
     "name": "stdout",
     "output_type": "stream",
     "text": [
      "            value\n",
      "1990-01-01      1\n",
      "1990-02-01      2\n",
      "1990-03-01      3\n"
     ]
    }
   ],
   "source": [
    "# 日付情報の結合\n",
    "# インデックスの作成\n",
    "separate_month.index = pd.to_datetime(\n",
    "    {'year':separate_month['year'], \n",
    "     'month':separate_month['month'], \n",
    "     'day':np.tile(1, len(separate_month))}\n",
    ")\n",
    "separate_month.index.freq = 'MS'\n",
    "# 不要な列の削除\n",
    "separate_month = separate_month.drop(['year', 'month'], axis=1)\n",
    "\n",
    "# 結果の確認\n",
    "print(separate_month.head(3))"
   ]
  },
  {
   "cell_type": "markdown",
   "id": "a277b4a8-2935-417e-9e3e-061cb1245b81",
   "metadata": {
    "tags": []
   },
   "source": [
    "### 日時を指定したデータの抽出"
   ]
  },
  {
   "cell_type": "markdown",
   "id": "d07e53d0-aaf0-471b-9fd5-ce490ee946dc",
   "metadata": {
    "tags": []
   },
   "source": [
    "#### データ抽出の基本"
   ]
  },
  {
   "cell_type": "code",
   "execution_count": 39,
   "id": "6e4256cd-51e1-4621-8c8b-3417dcee9341",
   "metadata": {},
   "outputs": [
    {
     "name": "stdout",
     "output_type": "stream",
     "text": [
      "            value\n",
      "time             \n",
      "1990-01-01    1.0\n",
      "1990-01-02    2.0\n",
      "1990-01-03    3.0\n",
      "             value\n",
      "time              \n",
      "1999-12-29  3650.0\n",
      "1999-12-30  3651.0\n",
      "1999-12-31  3652.0\n"
     ]
    }
   ],
   "source": [
    "print(ts_day.head(3))\n",
    "print(ts_day.tail(3))"
   ]
  },
  {
   "cell_type": "code",
   "execution_count": 40,
   "id": "5177e9eb-a03a-4015-b1e7-2fa71f0d1139",
   "metadata": {},
   "outputs": [
    {
     "name": "stdout",
     "output_type": "stream",
     "text": [
      "value    2.0\n",
      "Name: 1990-01-02 00:00:00, dtype: float64\n"
     ]
    }
   ],
   "source": [
    "# 日付の指定\n",
    "print(ts_day.loc['1990-01-02'])"
   ]
  },
  {
   "cell_type": "code",
   "execution_count": 41,
   "id": "d28a035e-aafc-45cd-9735-ff0d15db8a66",
   "metadata": {},
   "outputs": [
    {
     "name": "stdout",
     "output_type": "stream",
     "text": [
      "            value\n",
      "time             \n",
      "1990-01-02    2.0\n",
      "1990-01-03    3.0\n",
      "1990-01-04    4.0\n"
     ]
    }
   ],
   "source": [
    "# 範囲の指定\n",
    "print(ts_day.loc['1990-01-02':'1990-01-04'])"
   ]
  },
  {
   "cell_type": "code",
   "execution_count": 42,
   "id": "e94bb7fc-7894-4e3b-b21d-627695d037dc",
   "metadata": {},
   "outputs": [
    {
     "name": "stdout",
     "output_type": "stream",
     "text": [
      "            value\n",
      "time             \n",
      "1990-01-01    1.0\n",
      "1990-01-02    2.0\n",
      "1990-01-03    3.0\n",
      "1990-01-04    4.0\n",
      "1990-01-05    5.0\n",
      "1990-01-06    6.0\n",
      "1990-01-07    7.0\n",
      "1990-01-08    8.0\n",
      "1990-01-09    9.0\n",
      "1990-01-10   10.0\n",
      "1990-01-11   11.0\n",
      "1990-01-12   12.0\n",
      "1990-01-13   13.0\n",
      "1990-01-14   14.0\n",
      "1990-01-15   15.0\n",
      "1990-01-16   16.0\n",
      "1990-01-17   17.0\n",
      "1990-01-18   18.0\n",
      "1990-01-19   19.0\n",
      "1990-01-20   20.0\n",
      "1990-01-21   21.0\n",
      "1990-01-22   22.0\n",
      "1990-01-23   23.0\n",
      "1990-01-24   24.0\n",
      "1990-01-25   25.0\n",
      "1990-01-26   26.0\n",
      "1990-01-27   27.0\n",
      "1990-01-28   28.0\n",
      "1990-01-29   29.0\n",
      "1990-01-30   30.0\n",
      "1990-01-31   31.0\n"
     ]
    }
   ],
   "source": [
    "# 月単位での指定\n",
    "print(ts_day.loc['1990-01'])"
   ]
  },
  {
   "cell_type": "markdown",
   "id": "e50cc229-d893-4735-8244-8ad0dbc19997",
   "metadata": {
    "tags": []
   },
   "source": [
    "#### 日時の詳細な指定"
   ]
  },
  {
   "cell_type": "code",
   "execution_count": 43,
   "id": "261cddb2-b688-4d8e-b84a-4a95e9632d85",
   "metadata": {},
   "outputs": [
    {
     "name": "stdout",
     "output_type": "stream",
     "text": [
      "2020-01-01 00:00:00    0\n",
      "2020-01-01 00:15:00    1\n",
      "2020-01-01 00:30:00    2\n",
      "Freq: 15min, dtype: int32\n",
      "2020-12-31 23:15:00    35133\n",
      "2020-12-31 23:30:00    35134\n",
      "2020-12-31 23:45:00    35135\n",
      "Freq: 15min, dtype: int32\n"
     ]
    }
   ],
   "source": [
    "time_idx = pd.date_range(start='2020-01-01', end='2021-01-01', \n",
    "                         freq='15min', inclusive='left')\n",
    "long_ts = pd.Series(np.arange(0, len(time_idx), 1), index=time_idx)\n",
    "\n",
    "print(long_ts.head(3))\n",
    "print(long_ts.tail(3))"
   ]
  },
  {
   "cell_type": "code",
   "execution_count": 44,
   "id": "e532e3b4-c00f-4aba-ac53-f170a26ec647",
   "metadata": {},
   "outputs": [
    {
     "data": {
      "text/plain": [
       "35136"
      ]
     },
     "execution_count": 44,
     "metadata": {},
     "output_type": "execute_result"
    }
   ],
   "source": [
    "# データの長さ\n",
    "366 * 24 * 4"
   ]
  },
  {
   "cell_type": "code",
   "execution_count": 45,
   "id": "0ade677b-7961-4d2e-b1df-086cc163fab9",
   "metadata": {},
   "outputs": [
    {
     "data": {
      "text/plain": [
       "35134"
      ]
     },
     "execution_count": 45,
     "metadata": {},
     "output_type": "execute_result"
    }
   ],
   "source": [
    "# 日次の指定\n",
    "long_ts.loc['2020-12-31 23:30:00']"
   ]
  },
  {
   "cell_type": "code",
   "execution_count": 46,
   "id": "e1ffc817-d31b-4026-9c84-ab2f86742738",
   "metadata": {},
   "outputs": [
    {
     "data": {
      "text/plain": [
       "Timestamp('2020-12-31 23:30:00')"
      ]
     },
     "execution_count": 46,
     "metadata": {},
     "output_type": "execute_result"
    }
   ],
   "source": [
    "# TImestampの作成\n",
    "pd.Timestamp(2020, 12, 31, 23, 30, 0)"
   ]
  },
  {
   "cell_type": "code",
   "execution_count": 47,
   "id": "92206510-0a47-4adb-85ba-06d39187474d",
   "metadata": {},
   "outputs": [
    {
     "data": {
      "text/plain": [
       "35134"
      ]
     },
     "execution_count": 47,
     "metadata": {},
     "output_type": "execute_result"
    }
   ],
   "source": [
    "# Timestampを利用したデータの抽出\n",
    "long_ts.loc[pd.Timestamp(2020, 12, 31, 23, 30, 0)]"
   ]
  },
  {
   "cell_type": "code",
   "execution_count": 48,
   "id": "99db70c4-3f2e-4b39-a16a-602004e32a03",
   "metadata": {},
   "outputs": [
    {
     "data": {
      "text/plain": [
       "2020-12-30 00:00:00    34944\n",
       "2020-12-30 00:15:00    34945\n",
       "2020-12-30 00:30:00    34946\n",
       "2020-12-30 00:45:00    34947\n",
       "2020-12-30 01:00:00    34948\n",
       "                       ...  \n",
       "2020-12-31 09:00:00    35076\n",
       "2020-12-31 09:15:00    35077\n",
       "2020-12-31 09:30:00    35078\n",
       "2020-12-31 09:45:00    35079\n",
       "2020-12-31 10:00:00    35080\n",
       "Freq: 15min, Length: 137, dtype: int32"
      ]
     },
     "execution_count": 48,
     "metadata": {},
     "output_type": "execute_result"
    }
   ],
   "source": [
    "long_ts.loc[pd.Timestamp(2020, 12, 30):pd.Timestamp(2020, 12, 31, 10)]"
   ]
  },
  {
   "cell_type": "markdown",
   "id": "d92530b6-5a12-42ac-84bf-cc4577326dcd",
   "metadata": {
    "tags": []
   },
   "source": [
    "#### 時間の指定"
   ]
  },
  {
   "cell_type": "code",
   "execution_count": 49,
   "id": "019878d2-2165-4c9a-9abb-51404fe5b151",
   "metadata": {},
   "outputs": [
    {
     "data": {
      "text/plain": [
       "2020-01-01 10:00:00       40\n",
       "2020-01-02 10:00:00      136\n",
       "2020-01-03 10:00:00      232\n",
       "2020-01-04 10:00:00      328\n",
       "2020-01-05 10:00:00      424\n",
       "                       ...  \n",
       "2020-12-27 10:00:00    34696\n",
       "2020-12-28 10:00:00    34792\n",
       "2020-12-29 10:00:00    34888\n",
       "2020-12-30 10:00:00    34984\n",
       "2020-12-31 10:00:00    35080\n",
       "Freq: 1440min, Length: 366, dtype: int32"
      ]
     },
     "execution_count": 49,
     "metadata": {},
     "output_type": "execute_result"
    }
   ],
   "source": [
    "# 10時のデータのみ抽出\n",
    "long_ts.at_time('10:00:00')"
   ]
  },
  {
   "cell_type": "code",
   "execution_count": 50,
   "id": "7afc4357-42f7-4e9d-8934-dcc8decef348",
   "metadata": {},
   "outputs": [
    {
     "data": {
      "text/plain": [
       "2020-01-01 10:00:00       40\n",
       "2020-01-01 10:15:00       41\n",
       "2020-01-01 10:30:00       42\n",
       "2020-01-01 10:45:00       43\n",
       "2020-01-02 10:00:00      136\n",
       "                       ...  \n",
       "2020-12-30 10:45:00    34987\n",
       "2020-12-31 10:00:00    35080\n",
       "2020-12-31 10:15:00    35081\n",
       "2020-12-31 10:30:00    35082\n",
       "2020-12-31 10:45:00    35083\n",
       "Length: 1464, dtype: int32"
      ]
     },
     "execution_count": 50,
     "metadata": {},
     "output_type": "execute_result"
    }
   ],
   "source": [
    "# 10時から11時までのデータを抽出\n",
    "long_ts.between_time(start_time='10:00:00', end_time='11:00:00', \n",
    "                     inclusive='left')"
   ]
  },
  {
   "cell_type": "markdown",
   "id": "1930e721-fa45-4651-bbe7-a78e98ee8d79",
   "metadata": {},
   "source": [
    "### 日次を用いたデータの集計"
   ]
  },
  {
   "cell_type": "markdown",
   "id": "03b65693-da3d-4ebb-ac37-6c7f2f0e2c2c",
   "metadata": {},
   "source": [
    "#### 日付情報を持つ列の作成"
   ]
  },
  {
   "cell_type": "code",
   "execution_count": 51,
   "id": "01b88e7d-dab3-42ef-9ccd-03a973338840",
   "metadata": {},
   "outputs": [
    {
     "name": "stdout",
     "output_type": "stream",
     "text": [
      "            value  month\n",
      "time                    \n",
      "1990-01-01    1.0      1\n",
      "1990-01-02    2.0      1\n",
      "1990-01-03    3.0      1\n"
     ]
    }
   ],
   "source": [
    "# 月を表すmonth列を追加する\n",
    "ts_day['month'] = ts_day.index.month\n",
    "print(ts_day.head(3))"
   ]
  },
  {
   "cell_type": "code",
   "execution_count": 52,
   "id": "ca1e8b17-b0c1-4774-8eff-c5bf11b2bf78",
   "metadata": {},
   "outputs": [
    {
     "name": "stdout",
     "output_type": "stream",
     "text": [
      "          value\n",
      "month          \n",
      "1      514445.0\n",
      "2      475961.0\n",
      "3      532797.0\n",
      "4      524760.0\n",
      "5      551707.0\n",
      "6      543060.0\n",
      "7      570617.0\n",
      "8      580227.0\n",
      "9      570660.0\n",
      "10     599137.0\n",
      "11     588960.0\n",
      "12     618047.0\n"
     ]
    }
   ],
   "source": [
    "# 月ごとの合計値\n",
    "print(ts_day.groupby('month').sum())"
   ]
  },
  {
   "cell_type": "code",
   "execution_count": 53,
   "id": "c823262a-bf68-4a7c-87ee-ded53dfac174",
   "metadata": {},
   "outputs": [
    {
     "name": "stdout",
     "output_type": "stream",
     "text": [
      "month\n",
      "1     514445.0\n",
      "2     475961.0\n",
      "3     532797.0\n",
      "4     524760.0\n",
      "5     551707.0\n",
      "6     543060.0\n",
      "7     570617.0\n",
      "8     580227.0\n",
      "9     570660.0\n",
      "10    599137.0\n",
      "11    588960.0\n",
      "12    618047.0\n",
      "Name: value, dtype: float64\n"
     ]
    }
   ],
   "source": [
    "# 参考：applyメソッドの利用\n",
    "print(ts_day.groupby('month')['value'].apply(np.sum))"
   ]
  },
  {
   "cell_type": "code",
   "execution_count": 54,
   "id": "4be400f4-b212-4742-9450-59729de85b14",
   "metadata": {},
   "outputs": [
    {
     "name": "stdout",
     "output_type": "stream",
     "text": [
      "         value  month\n",
      "time                 \n",
      "1     514445.0    310\n",
      "2     475961.0    564\n",
      "3     532797.0    930\n",
      "4     524760.0   1200\n",
      "5     551707.0   1550\n",
      "6     543060.0   1800\n",
      "7     570617.0   2170\n",
      "8     580227.0   2480\n",
      "9     570660.0   2700\n",
      "10    599137.0   3100\n",
      "11    588960.0   3300\n",
      "12    618047.0   3720\n"
     ]
    }
   ],
   "source": [
    "# 参考：日時情報の列を使わない例\n",
    "print(ts_day.groupby(ts_day.index.month).sum())"
   ]
  },
  {
   "cell_type": "code",
   "execution_count": 55,
   "id": "674935f2-607e-4368-8fd1-e76312489952",
   "metadata": {},
   "outputs": [
    {
     "data": {
      "text/html": [
       "<div>\n",
       "<style scoped>\n",
       "    .dataframe tbody tr th:only-of-type {\n",
       "        vertical-align: middle;\n",
       "    }\n",
       "\n",
       "    .dataframe tbody tr th {\n",
       "        vertical-align: top;\n",
       "    }\n",
       "\n",
       "    .dataframe thead th {\n",
       "        text-align: right;\n",
       "    }\n",
       "</style>\n",
       "<table border=\"1\" class=\"dataframe\">\n",
       "  <thead>\n",
       "    <tr style=\"text-align: right;\">\n",
       "      <th></th>\n",
       "      <th></th>\n",
       "      <th>value</th>\n",
       "      <th>month</th>\n",
       "    </tr>\n",
       "    <tr>\n",
       "      <th>time</th>\n",
       "      <th>time</th>\n",
       "      <th></th>\n",
       "      <th></th>\n",
       "    </tr>\n",
       "  </thead>\n",
       "  <tbody>\n",
       "    <tr>\n",
       "      <th rowspan=\"5\" valign=\"top\">1990</th>\n",
       "      <th>1</th>\n",
       "      <td>496.0</td>\n",
       "      <td>31</td>\n",
       "    </tr>\n",
       "    <tr>\n",
       "      <th>2</th>\n",
       "      <td>1274.0</td>\n",
       "      <td>56</td>\n",
       "    </tr>\n",
       "    <tr>\n",
       "      <th>3</th>\n",
       "      <td>2325.0</td>\n",
       "      <td>93</td>\n",
       "    </tr>\n",
       "    <tr>\n",
       "      <th>4</th>\n",
       "      <td>3165.0</td>\n",
       "      <td>120</td>\n",
       "    </tr>\n",
       "    <tr>\n",
       "      <th>5</th>\n",
       "      <td>4216.0</td>\n",
       "      <td>155</td>\n",
       "    </tr>\n",
       "    <tr>\n",
       "      <th>...</th>\n",
       "      <th>...</th>\n",
       "      <td>...</td>\n",
       "      <td>...</td>\n",
       "    </tr>\n",
       "    <tr>\n",
       "      <th rowspan=\"5\" valign=\"top\">1999</th>\n",
       "      <th>8</th>\n",
       "      <td>108965.0</td>\n",
       "      <td>248</td>\n",
       "    </tr>\n",
       "    <tr>\n",
       "      <th>9</th>\n",
       "      <td>106365.0</td>\n",
       "      <td>270</td>\n",
       "    </tr>\n",
       "    <tr>\n",
       "      <th>10</th>\n",
       "      <td>110856.0</td>\n",
       "      <td>310</td>\n",
       "    </tr>\n",
       "    <tr>\n",
       "      <th>11</th>\n",
       "      <td>108195.0</td>\n",
       "      <td>330</td>\n",
       "    </tr>\n",
       "    <tr>\n",
       "      <th>12</th>\n",
       "      <td>112747.0</td>\n",
       "      <td>372</td>\n",
       "    </tr>\n",
       "  </tbody>\n",
       "</table>\n",
       "<p>120 rows × 2 columns</p>\n",
       "</div>"
      ],
      "text/plain": [
       "              value  month\n",
       "time time                 \n",
       "1990 1        496.0     31\n",
       "     2       1274.0     56\n",
       "     3       2325.0     93\n",
       "     4       3165.0    120\n",
       "     5       4216.0    155\n",
       "...             ...    ...\n",
       "1999 8     108965.0    248\n",
       "     9     106365.0    270\n",
       "     10    110856.0    310\n",
       "     11    108195.0    330\n",
       "     12    112747.0    372\n",
       "\n",
       "[120 rows x 2 columns]"
      ]
     },
     "execution_count": 55,
     "metadata": {},
     "output_type": "execute_result"
    }
   ],
   "source": [
    "# 参考：年ごと、月ごとの集計\n",
    "ts_day.groupby([ts_day.index.year, ts_day.index.month]).sum()"
   ]
  },
  {
   "cell_type": "markdown",
   "id": "bf23e28c-cff7-4700-8321-225b759aada8",
   "metadata": {},
   "source": [
    "### PeriodIndexの作成と利用"
   ]
  },
  {
   "cell_type": "markdown",
   "id": "eda1d12f-0dc0-4ecd-8142-7a592d05e654",
   "metadata": {},
   "source": [
    "#### period_range関数の利用"
   ]
  },
  {
   "cell_type": "code",
   "execution_count": 56,
   "id": "80db91a8-eb0a-433c-a52d-024296e25834",
   "metadata": {},
   "outputs": [
    {
     "data": {
      "text/plain": [
       "PeriodIndex(['2020-01', '2020-02'], dtype='period[M]')"
      ]
     },
     "execution_count": 56,
     "metadata": {},
     "output_type": "execute_result"
    }
   ],
   "source": [
    "period_range = pd.period_range(start='2020-01-01', end='2020-02-01', freq='M')\n",
    "period_range"
   ]
  },
  {
   "cell_type": "code",
   "execution_count": 57,
   "id": "50f794fc-8b52-46ee-a907-0b79d05737b5",
   "metadata": {},
   "outputs": [
    {
     "data": {
      "text/plain": [
       "pandas.core.indexes.period.PeriodIndex"
      ]
     },
     "execution_count": 57,
     "metadata": {},
     "output_type": "execute_result"
    }
   ],
   "source": [
    "type(period_range)"
   ]
  },
  {
   "cell_type": "markdown",
   "id": "7085b848-9485-4064-b7f3-1b989059a54c",
   "metadata": {},
   "source": [
    "#### DatetimeIndexとPeriodIndexの変換"
   ]
  },
  {
   "cell_type": "code",
   "execution_count": 58,
   "id": "a34d9f45-ac3e-42fa-8339-59567fa60a6d",
   "metadata": {},
   "outputs": [
    {
     "data": {
      "text/plain": [
       "DatetimeIndex(['2020-01-01', '2020-02-01'], dtype='datetime64[ns]', freq='MS')"
      ]
     },
     "execution_count": 58,
     "metadata": {},
     "output_type": "execute_result"
    }
   ],
   "source": [
    "time_range = pd.date_range(start='2020-01-01', end='2020-02-01', freq='MS')\n",
    "time_range"
   ]
  },
  {
   "cell_type": "code",
   "execution_count": 59,
   "id": "cf54d893-c013-424f-a981-9c4ad6e07f87",
   "metadata": {},
   "outputs": [
    {
     "data": {
      "text/plain": [
       "PeriodIndex(['2020-01', '2020-02'], dtype='period[M]')"
      ]
     },
     "execution_count": 59,
     "metadata": {},
     "output_type": "execute_result"
    }
   ],
   "source": [
    "# DatetimeIndexをPeriodIndexにする\n",
    "time_range.to_period()"
   ]
  },
  {
   "cell_type": "code",
   "execution_count": 60,
   "id": "6fcf7e13-1925-4db5-a00f-192773a9807b",
   "metadata": {},
   "outputs": [
    {
     "data": {
      "text/plain": [
       "DatetimeIndex(['2020-01-01', '2020-02-01'], dtype='datetime64[ns]', freq=None)"
      ]
     },
     "execution_count": 60,
     "metadata": {},
     "output_type": "execute_result"
    }
   ],
   "source": [
    "# PeriodIndexをDatetimeIndexにする\n",
    "period_range.to_timestamp()"
   ]
  },
  {
   "cell_type": "markdown",
   "id": "28445111-e0e4-4a37-b684-9a21def59871",
   "metadata": {},
   "source": [
    "#### DataFrameのindexの変換"
   ]
  },
  {
   "cell_type": "code",
   "execution_count": 61,
   "id": "1d030e60-3687-4d99-955d-ce873e7515cb",
   "metadata": {},
   "outputs": [
    {
     "name": "stdout",
     "output_type": "stream",
     "text": [
      "            sales\n",
      "time             \n",
      "2000-01-01   10.0\n",
      "2000-02-01    5.0\n",
      "2000-03-01    8.0\n",
      "2000-04-01   14.0\n",
      "2000-05-01    9.0\n"
     ]
    }
   ],
   "source": [
    "print(ts_month)"
   ]
  },
  {
   "cell_type": "code",
   "execution_count": 62,
   "id": "3b989a76-33c1-4fb9-a2aa-f54bb4f4b28f",
   "metadata": {},
   "outputs": [
    {
     "data": {
      "text/plain": [
       "PeriodIndex(['2000-01', '2000-02', '2000-03', '2000-04', '2000-05'], dtype='period[M]', name='time')"
      ]
     },
     "execution_count": 62,
     "metadata": {},
     "output_type": "execute_result"
    }
   ],
   "source": [
    "# 参考：indexを対象に変換することもできる\n",
    "ts_month.index.to_period()"
   ]
  },
  {
   "cell_type": "code",
   "execution_count": 63,
   "id": "b91bc0ec-5be9-43ca-8d78-5d051cea7d2d",
   "metadata": {},
   "outputs": [
    {
     "name": "stdout",
     "output_type": "stream",
     "text": [
      "         sales\n",
      "time          \n",
      "2000-01   10.0\n",
      "2000-02    5.0\n",
      "2000-03    8.0\n",
      "2000-04   14.0\n",
      "2000-05    9.0\n"
     ]
    }
   ],
   "source": [
    "# DataFrameに対して直接実行\n",
    "ts_month_period = ts_month.copy()\n",
    "ts_month_period = ts_month_period.to_period()\n",
    "print(ts_month_period)"
   ]
  },
  {
   "cell_type": "markdown",
   "id": "a3881248-2684-4c75-a713-355a5da38667",
   "metadata": {},
   "source": [
    "#### PeriodIndexの操作"
   ]
  },
  {
   "cell_type": "code",
   "execution_count": 64,
   "id": "11dd85f9-a9a5-460c-b982-4d3e19785e10",
   "metadata": {},
   "outputs": [
    {
     "name": "stdout",
     "output_type": "stream",
     "text": [
      "年 Index([2020, 2020], dtype='int64')\n",
      "月 Index([1, 2], dtype='int64')\n"
     ]
    }
   ],
   "source": [
    "# 日付情報の取得\n",
    "print('年', period_range.year)\n",
    "print('月', period_range.month)"
   ]
  },
  {
   "cell_type": "code",
   "execution_count": 65,
   "id": "aff9c285-4475-4d81-a27e-015ad77fe312",
   "metadata": {},
   "outputs": [
    {
     "data": {
      "text/plain": [
       "sales    14.0\n",
       "Name: 2000-04, dtype: float64"
      ]
     },
     "execution_count": 65,
     "metadata": {},
     "output_type": "execute_result"
    }
   ],
   "source": [
    "ts_month_period.loc['2000-04']"
   ]
  },
  {
   "cell_type": "code",
   "execution_count": 66,
   "id": "d5dda433-6279-4fa0-bd17-95a1df7d76fa",
   "metadata": {},
   "outputs": [
    {
     "name": "stdout",
     "output_type": "stream",
     "text": [
      "         sales\n",
      "time          \n",
      "2000-03    8.0\n",
      "2000-04   14.0\n",
      "2000-05    9.0\n"
     ]
    }
   ],
   "source": [
    "print(ts_month_period.loc['2000-03':'2000-05'])"
   ]
  }
 ],
 "metadata": {
  "kernelspec": {
   "display_name": "Python 3 (ipykernel)",
   "language": "python",
   "name": "python3"
  },
  "language_info": {
   "codemirror_mode": {
    "name": "ipython",
    "version": 3
   },
   "file_extension": ".py",
   "mimetype": "text/x-python",
   "name": "python",
   "nbconvert_exporter": "python",
   "pygments_lexer": "ipython3",
   "version": "3.12.4"
  }
 },
 "nbformat": 4,
 "nbformat_minor": 5
}
