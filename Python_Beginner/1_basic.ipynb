{
 "cells": [
  {
   "cell_type": "markdown",
   "metadata": {},
   "source": [
    "# Python 基础语法"
   ]
  },
  {
   "cell_type": "code",
   "execution_count": 1,
   "metadata": {},
   "outputs": [],
   "source": [
    "import sys  # PET8 準拠した書き方\n",
    "import os"
   ]
  },
  {
   "cell_type": "code",
   "execution_count": 2,
   "metadata": {},
   "outputs": [
    {
     "data": {
      "text/plain": [
       "[4, 3, 4]"
      ]
     },
     "execution_count": 2,
     "metadata": {},
     "output_type": "execute_result"
    }
   ],
   "source": [
    "names = ['spam' , 'ham' , 'eggs']\n",
    "\n",
    "lens = []\n",
    "for name in names:\n",
    "    lens.append(len(name))\n",
    "\n",
    "lens"
   ]
  },
  {
   "cell_type": "code",
   "execution_count": 3,
   "metadata": {},
   "outputs": [
    {
     "data": {
      "text/plain": [
       "[4, 3, 4]"
      ]
     },
     "execution_count": 3,
     "metadata": {},
     "output_type": "execute_result"
    }
   ],
   "source": [
    "[len(name) for name in names]"
   ]
  },
  {
   "cell_type": "code",
   "execution_count": 5,
   "metadata": {},
   "outputs": [
    {
     "data": {
      "text/plain": [
       "{3, 4}"
      ]
     },
     "execution_count": 5,
     "metadata": {},
     "output_type": "execute_result"
    }
   ],
   "source": [
    "{len(name) for name in names}"
   ]
  },
  {
   "cell_type": "code",
   "execution_count": 6,
   "metadata": {},
   "outputs": [
    {
     "data": {
      "text/plain": [
       "{'spam': 4, 'ham': 3, 'eggs': 4}"
      ]
     },
     "execution_count": 6,
     "metadata": {},
     "output_type": "execute_result"
    }
   ],
   "source": [
    "{name : len(name) for name in names}"
   ]
  },
  {
   "cell_type": "code",
   "execution_count": 8,
   "metadata": {},
   "outputs": [
    {
     "data": {
      "text/plain": [
       "[0, 4, 16, 36, 64]"
      ]
     },
     "execution_count": 8,
     "metadata": {},
     "output_type": "execute_result"
    }
   ],
   "source": [
    "[x*x for x in range(10) if x%2==0 ]"
   ]
  },
  {
   "cell_type": "code",
   "execution_count": 9,
   "metadata": {},
   "outputs": [
    {
     "data": {
      "text/plain": [
       "[[(0, 0), (0, 4), (0, 16), (0, 36), (0, 64)],\n",
       " [(1, 0), (1, 4), (1, 16), (1, 36), (1, 64)],\n",
       " [(2, 0), (2, 4), (2, 16), (2, 36), (2, 64)],\n",
       " [(3, 0), (3, 4), (3, 16), (3, 36), (3, 64)],\n",
       " [(4, 0), (4, 4), (4, 16), (4, 36), (4, 64)]]"
      ]
     },
     "execution_count": 9,
     "metadata": {},
     "output_type": "execute_result"
    }
   ],
   "source": [
    "[[(y , x*x) for x in range(10) if x%2 ==0 ] for y in range(5)]"
   ]
  },
  {
   "cell_type": "markdown",
   "metadata": {},
   "source": [
    "预先生成数据 和 generator"
   ]
  },
  {
   "cell_type": "code",
   "execution_count": 10,
   "metadata": {},
   "outputs": [
    {
     "data": {
      "text/plain": [
       "(list, 100000)"
      ]
     },
     "execution_count": 10,
     "metadata": {},
     "output_type": "execute_result"
    }
   ],
   "source": [
    "l = [x*x for x in range(100000)]\n",
    "\n",
    "type(l) , len(l)"
   ]
  },
  {
   "cell_type": "code",
   "execution_count": 11,
   "metadata": {},
   "outputs": [
    {
     "data": {
      "text/plain": [
       "generator"
      ]
     },
     "execution_count": 11,
     "metadata": {},
     "output_type": "execute_result"
    }
   ],
   "source": [
    "g = (x*x for x in range(10000))\n",
    "\n",
    "type(g)"
   ]
  },
  {
   "cell_type": "code",
   "execution_count": 12,
   "metadata": {},
   "outputs": [
    {
     "data": {
      "text/plain": [
       "(0, 1, 4)"
      ]
     },
     "execution_count": 12,
     "metadata": {},
     "output_type": "execute_result"
    }
   ],
   "source": [
    "next(g) , next(g) , next(g)"
   ]
  },
  {
   "cell_type": "markdown",
   "metadata": {},
   "source": [
    "文件读取"
   ]
  },
  {
   "cell_type": "code",
   "execution_count": 17,
   "metadata": {},
   "outputs": [
    {
     "data": {
      "text/plain": [
       "True"
      ]
     },
     "execution_count": 17,
     "metadata": {},
     "output_type": "execute_result"
    }
   ],
   "source": [
    "with open('sample.txt' , 'w' , encoding='utf-8') as f:\n",
    "    f.write('Hello World\\n')\n",
    "    f.write('Python\\n')\n",
    "f.closed"
   ]
  },
  {
   "cell_type": "code",
   "execution_count": 18,
   "metadata": {},
   "outputs": [
    {
     "data": {
      "text/plain": [
       "'Hello World\\nPython\\n'"
      ]
     },
     "execution_count": 18,
     "metadata": {},
     "output_type": "execute_result"
    }
   ],
   "source": [
    "with open('sample.txt' , encoding='utf-8') as f:\n",
    "    data = f.read()\n",
    "data"
   ]
  },
  {
   "cell_type": "markdown",
   "metadata": {},
   "source": [
    "string 的操作"
   ]
  },
  {
   "cell_type": "code",
   "execution_count": 19,
   "metadata": {},
   "outputs": [
    {
     "data": {
      "text/plain": [
       "('HELLO WORLD', 'hello world', 'Hello World')"
      ]
     },
     "execution_count": 19,
     "metadata": {},
     "output_type": "execute_result"
    }
   ],
   "source": [
    "s1 = \"hello world\"\n",
    "\n",
    "s1.upper() , s1.lower() , s1.title()"
   ]
  },
  {
   "cell_type": "code",
   "execution_count": 25,
   "metadata": {},
   "outputs": [
    {
     "name": "stdout",
     "output_type": "stream",
     "text": [
      "hello world\n"
     ]
    },
    {
     "data": {
      "text/plain": [
       "'Hi world'"
      ]
     },
     "execution_count": 25,
     "metadata": {},
     "output_type": "execute_result"
    }
   ],
   "source": [
    "print(s1)\n",
    "s1.replace('hello' , 'Hi')"
   ]
  },
  {
   "cell_type": "code",
   "execution_count": 26,
   "metadata": {},
   "outputs": [
    {
     "data": {
      "text/plain": [
       "['spam', 'ham', 'eggs']"
      ]
     },
     "execution_count": 26,
     "metadata": {},
     "output_type": "execute_result"
    }
   ],
   "source": [
    "s2 = '        spam ham     eggs'\n",
    "s2.split()"
   ]
  },
  {
   "cell_type": "code",
   "execution_count": 27,
   "metadata": {},
   "outputs": [
    {
     "data": {
      "text/plain": [
       "'spam ham     eggs'"
      ]
     },
     "execution_count": 27,
     "metadata": {},
     "output_type": "execute_result"
    }
   ],
   "source": [
    "s2.strip()"
   ]
  },
  {
   "cell_type": "code",
   "execution_count": 29,
   "metadata": {},
   "outputs": [
    {
     "data": {
      "text/plain": [
       "True"
      ]
     },
     "execution_count": 29,
     "metadata": {},
     "output_type": "execute_result"
    }
   ],
   "source": [
    "# 判断 string 是否以 tuple 里的内容结尾\n",
    "s3 = 'sample.jpg'\n",
    "s3.endswith(('jpg' , 'gif' , 'png'))"
   ]
  },
  {
   "cell_type": "code",
   "execution_count": 30,
   "metadata": {},
   "outputs": [
    {
     "data": {
      "text/plain": [
       "True"
      ]
     },
     "execution_count": 30,
     "metadata": {},
     "output_type": "execute_result"
    }
   ],
   "source": [
    "'123456789'.isdigit()"
   ]
  },
  {
   "cell_type": "code",
   "execution_count": 32,
   "metadata": {},
   "outputs": [
    {
     "name": "stdout",
     "output_type": "stream",
     "text": [
      "hello world\n"
     ]
    },
    {
     "data": {
      "text/plain": [
       "11"
      ]
     },
     "execution_count": 32,
     "metadata": {},
     "output_type": "execute_result"
    }
   ],
   "source": [
    "print(s1)\n",
    "len(s1)"
   ]
  },
  {
   "cell_type": "code",
   "execution_count": 33,
   "metadata": {},
   "outputs": [
    {
     "data": {
      "text/plain": [
       "True"
      ]
     },
     "execution_count": 33,
     "metadata": {},
     "output_type": "execute_result"
    }
   ],
   "source": [
    "'lo' in s1"
   ]
  },
  {
   "cell_type": "code",
   "execution_count": 34,
   "metadata": {},
   "outputs": [
    {
     "data": {
      "text/plain": [
       "'spam-ham-eggs'"
      ]
     },
     "execution_count": 34,
     "metadata": {},
     "output_type": "execute_result"
    }
   ],
   "source": [
    "'-'.join(['spam' , 'ham' , 'eggs'])"
   ]
  },
  {
   "cell_type": "code",
   "execution_count": 35,
   "metadata": {},
   "outputs": [
    {
     "data": {
      "text/plain": [
       "'taka 喜欢写 Python'"
      ]
     },
     "execution_count": 35,
     "metadata": {},
     "output_type": "execute_result"
    }
   ],
   "source": [
    "name , lang = 'taka' , 'Python'\n",
    "f'{name} 喜欢写 {lang}'"
   ]
  },
  {
   "cell_type": "code",
   "execution_count": 36,
   "metadata": {},
   "outputs": [
    {
     "data": {
      "text/plain": [
       "'Taka 喜欢写 PYTHON'"
      ]
     },
     "execution_count": 36,
     "metadata": {},
     "output_type": "execute_result"
    }
   ],
   "source": [
    "f'{name.title()} 喜欢写 {lang.upper()}'"
   ]
  },
  {
   "cell_type": "code",
   "execution_count": 38,
   "metadata": {},
   "outputs": [
    {
     "data": {
      "text/plain": [
       "\"name='taka' 喜欢写 lang='Python'\""
      ]
     },
     "execution_count": 38,
     "metadata": {},
     "output_type": "execute_result"
    }
   ],
   "source": [
    "f'{name=} 喜欢写 {lang=}'"
   ]
  },
  {
   "cell_type": "markdown",
   "metadata": {},
   "source": [
    "标准库："
   ]
  },
  {
   "cell_type": "markdown",
   "metadata": {},
   "source": [
    "正则表达式 re 库"
   ]
  },
  {
   "cell_type": "code",
   "execution_count": 4,
   "metadata": {},
   "outputs": [
    {
     "name": "stdout",
     "output_type": "stream",
     "text": [
      "匹配成功！内容为： Python\n"
     ]
    }
   ],
   "source": [
    "import re\n",
    "\n",
    "# 1. 定义一个正则表达式并编译成“正则表达式对象”prog\n",
    "#    这里的表达式 '(P(yth|l)|Z)o[pn]e?' 意思是：\n",
    "#    - (P(yth|l)|Z): 匹配 \"Pyth\" or \"Pl\" or \"Z\"\n",
    "#    - o: 之后跟一个 \"o\"\n",
    "#    - [pn]: 再跟一个字符，必须是 'p' 或 'n'\n",
    "#    - e?: 最后可选择性地跟一个 \"e\"（0 次或 1 次）\n",
    "#\n",
    "#    因此可匹配 \"Python\", \"Pythone\", \"Plop\", \"Plone\", \"Zope\", \"Zone\" 等等\n",
    "prog = re.compile('(P(yth|l)|Z)o[pn]e?')\n",
    "\n",
    "# 2. 使用 search 方法在字符串 \"Python\" 中进行搜索\n",
    "res = prog.search('Python')\n",
    "\n",
    "# 3. 如果匹配成功，search() 会返回 match 对象，否则返回 None\n",
    "if res:\n",
    "    print(\"匹配成功！内容为：\" , res.group())\n",
    "else:\n",
    "    print(\"匹配失败！\")"
   ]
  },
  {
   "cell_type": "code",
   "execution_count": 5,
   "metadata": {},
   "outputs": [],
   "source": [
    "prog.search('Spam')"
   ]
  },
  {
   "cell_type": "markdown",
   "metadata": {},
   "source": [
    "logging 是 Python 内置的日志模块，可用于输出程序运行中的各种信息（调试信息、错误信息等），方便后续分析或排查问题。"
   ]
  },
  {
   "cell_type": "code",
   "execution_count": 6,
   "metadata": {},
   "outputs": [],
   "source": [
    "import logging\n",
    "\n",
    "logging.basicConfig(\n",
    "    filename='example.log',  # 输出文件的文件名\n",
    "    level=logging.INFO,      # 设置日志级别为 INFO（设置后，只有 INFO 或更高级别的日志才会被输出到文件中）\n",
    "# 配置日志的输出格式\n",
    "#     这里的 '%(asctime)s:%(levelname)s:%(message)s' 表示：\n",
    "#       %(asctime)s：日志产生的时间（默认格式类似 \"YYYY-MM-DD HH:MM:SS,mmm\"）。\n",
    "#       %(levelname)s：日志级别名称（比如 INFO、WARNING 等）。\n",
    "#       %(message)s：日志的实际消息内容。\n",
    "    format='%(asctime)s:%(levelname)s:%(message)s'  \n",
    ")"
   ]
  },
  {
   "cell_type": "code",
   "execution_count": 8,
   "metadata": {},
   "outputs": [],
   "source": [
    "# 输出一些日志\n",
    "\n",
    "logging.debug('デバッグレベル')\n",
    "\n",
    "logging.info('INFOレベル')\n",
    "\n",
    "logging.warning('警告レベル')\n",
    "\n",
    "logging.error('エラーレベル')\n",
    "\n",
    "logging.critical('重大なエラー')"
   ]
  },
  {
   "cell_type": "markdown",
   "metadata": {},
   "source": [
    "datetime 库"
   ]
  },
  {
   "cell_type": "code",
   "execution_count": 9,
   "metadata": {},
   "outputs": [
    {
     "data": {
      "text/plain": [
       "datetime.datetime(2025, 2, 11, 22, 19, 4, 453346)"
      ]
     },
     "execution_count": 9,
     "metadata": {},
     "output_type": "execute_result"
    }
   ],
   "source": [
    "from datetime import datetime , date\n",
    "\n",
    "datetime.now()"
   ]
  },
  {
   "cell_type": "code",
   "execution_count": 10,
   "metadata": {},
   "outputs": [
    {
     "data": {
      "text/plain": [
       "datetime.date(2025, 2, 11)"
      ]
     },
     "execution_count": 10,
     "metadata": {},
     "output_type": "execute_result"
    }
   ],
   "source": [
    "date.today()"
   ]
  },
  {
   "cell_type": "code",
   "execution_count": 12,
   "metadata": {},
   "outputs": [
    {
     "data": {
      "text/plain": [
       "datetime.timedelta(days=5914)"
      ]
     },
     "execution_count": 12,
     "metadata": {},
     "output_type": "execute_result"
    }
   ],
   "source": [
    "date.today() - date(2008,12,3)  # 计算中间相差多少天"
   ]
  },
  {
   "cell_type": "code",
   "execution_count": 14,
   "metadata": {},
   "outputs": [
    {
     "data": {
      "text/plain": [
       "'2025-02-11T22:20:45.512796'"
      ]
     },
     "execution_count": 14,
     "metadata": {},
     "output_type": "execute_result"
    }
   ],
   "source": [
    "datetime.now().isoformat()  # 获取 iso 标注格式的字符串"
   ]
  },
  {
   "cell_type": "code",
   "execution_count": 15,
   "metadata": {},
   "outputs": [
    {
     "data": {
      "text/plain": [
       "'2025年02月11日'"
      ]
     },
     "execution_count": 15,
     "metadata": {},
     "output_type": "execute_result"
    }
   ],
   "source": [
    "datetime.today().strftime('%Y年%m月%d日')   # 将 datetime 转化为字符串"
   ]
  },
  {
   "cell_type": "code",
   "execution_count": 18,
   "metadata": {},
   "outputs": [
    {
     "data": {
      "text/plain": [
       "datetime.datetime(2025, 2, 14, 0, 0)"
      ]
     },
     "execution_count": 18,
     "metadata": {},
     "output_type": "execute_result"
    }
   ],
   "source": [
    "datetime.strptime('2025年2月14日' ,'%Y年%m月%d日')  # 将字符串转化为 datetime 对象"
   ]
  },
  {
   "cell_type": "markdown",
   "metadata": {},
   "source": [
    "pickle 模块\n",
    "\n",
    "是 Python 内置的序列化模块，通常用来把 Python 对象保存到文件或从文件读取出来，还原为 Python 对象。"
   ]
  },
  {
   "cell_type": "code",
   "execution_count": 19,
   "metadata": {},
   "outputs": [
    {
     "data": {
      "text/plain": [
       "{'today': datetime.date(2025, 2, 11), 'delta': datetime.timedelta(days=-772)}"
      ]
     },
     "execution_count": 19,
     "metadata": {},
     "output_type": "execute_result"
    }
   ],
   "source": [
    "import pickle\n",
    "\n",
    "d = {'today': date.today(),  # 辞書データを定義\n",
    "     'delta': date(2023, 1, 1) - date.today()}\n",
    "\n",
    "d"
   ]
  },
  {
   "cell_type": "code",
   "execution_count": 21,
   "metadata": {},
   "outputs": [
    {
     "data": {
      "text/plain": [
       "b'\\x80\\x04\\x95Q\\x00\\x00\\x00\\x00\\x00\\x00\\x00}\\x94(\\x8c\\x05today\\x94\\x8c\\x08datetime\\x94\\x8c\\x04date\\x94\\x93\\x94C\\x04\\x07\\xe9\\x02\\x0b\\x94\\x85\\x94R\\x94\\x8c\\x05delta\\x94h\\x02\\x8c\\ttimedelta\\x94\\x93\\x94J\\xfc\\xfc\\xff\\xffK\\x00K\\x00\\x87\\x94R\\x94u.'"
      ]
     },
     "execution_count": 21,
     "metadata": {},
     "output_type": "execute_result"
    }
   ],
   "source": [
    "pickle.dumps(d)  # 将python 对象转化为了一个二进制的字节串"
   ]
  },
  {
   "cell_type": "code",
   "execution_count": 25,
   "metadata": {},
   "outputs": [
    {
     "data": {
      "text/plain": [
       "{'today': datetime.date(2025, 2, 11), 'delta': datetime.timedelta(days=-772)}"
      ]
     },
     "execution_count": 25,
     "metadata": {},
     "output_type": "execute_result"
    }
   ],
   "source": [
    "with open('date.pkl', 'wb') as f:  # # ① 以“二进制写入(wb)”模式打开文件 date.pkl\n",
    "    pickle.dump(d, f)  # ② 将对象 d 以 Pickle 格式序列化并写入文件\n",
    "    \n",
    "with open('date.pkl', 'rb') as f:  # ③ 以“二进制读取(rb)”模式打开文件 date.pkl\n",
    "    new_d = pickle.load(f)  # 从文件中读取 Pickle 格式数据，并反序列化为对象\n",
    "    \n",
    "new_d # ⑤ 查看 new_d，确认它和原对象 d 相同"
   ]
  },
  {
   "cell_type": "markdown",
   "metadata": {},
   "source": [
    "pathlib 模块"
   ]
  },
  {
   "cell_type": "code",
   "execution_count": 26,
   "metadata": {},
   "outputs": [
    {
     "data": {
      "text/plain": [
       "PosixPath('.')"
      ]
     },
     "execution_count": 26,
     "metadata": {},
     "output_type": "execute_result"
    }
   ],
   "source": [
    "from pathlib import Path\n",
    "\n",
    "p = Path() # 获取当前的路径，是一个 PosixPath 对象\n",
    "\n",
    "p"
   ]
  },
  {
   "cell_type": "code",
   "execution_count": 27,
   "metadata": {},
   "outputs": [
    {
     "data": {
      "text/plain": [
       "PosixPath('/spam/ham/eggs.txt')"
      ]
     },
     "execution_count": 27,
     "metadata": {},
     "output_type": "execute_result"
    }
   ],
   "source": [
    "# 1. 从当前目录 p 中，遍历所有扩展名为 .txt 的文件路径\n",
    "for filepath in p.glob('*.txt'): \n",
    "    # 这里会按 UTF-8 编码方式打开每个 .txt 文件并将其内容读入到 data 变量中\n",
    "    data = filepath.read_text(encoding='utf-8')\n",
    "\n",
    "# 2. 使用绝对路径 (或相对路径)，例如 Path('/spam') 指向 \"/spam\" 目录\n",
    "p = Path('/spam')\n",
    "\n",
    "# 3. 通过 '/' 运算符拼接路径，p/'ham' 会生成 \"/spam/ham\"，然后继续拼接 \"eggs.txt\" 获得 \"/spam/ham/eggs.txt\"\n",
    "p / 'ham' / 'eggs.txt'"
   ]
  },
  {
   "cell_type": "code",
   "execution_count": 28,
   "metadata": {},
   "outputs": [
    {
     "data": {
      "text/plain": [
       "True"
      ]
     },
     "execution_count": 28,
     "metadata": {},
     "output_type": "execute_result"
    }
   ],
   "source": [
    "p = Path('date.pkl')    # ① 创建一个 Path 对象，用于表示 \"date.pkl\" 这个路径\n",
    "\n",
    "p.exists()  # ② 调用 exists() 方法，返回该路径是否真实存在（True/False）"
   ]
  },
  {
   "cell_type": "code",
   "execution_count": 29,
   "metadata": {},
   "outputs": [
    {
     "data": {
      "text/plain": [
       "False"
      ]
     },
     "execution_count": 29,
     "metadata": {},
     "output_type": "execute_result"
    }
   ],
   "source": [
    "p.is_dir() # 检查 p 所指向的路径是否是一个目录（文件夹）"
   ]
  }
 ],
 "metadata": {
  "kernelspec": {
   "display_name": "time_series",
   "language": "python",
   "name": "python3"
  },
  "language_info": {
   "codemirror_mode": {
    "name": "ipython",
    "version": 3
   },
   "file_extension": ".py",
   "mimetype": "text/x-python",
   "name": "python",
   "nbconvert_exporter": "python",
   "pygments_lexer": "ipython3",
   "version": "3.12.4"
  }
 },
 "nbformat": 4,
 "nbformat_minor": 2
}
